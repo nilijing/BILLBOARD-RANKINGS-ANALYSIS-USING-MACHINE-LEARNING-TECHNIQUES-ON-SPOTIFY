{
  "nbformat": 4,
  "nbformat_minor": 0,
  "metadata": {
    "accelerator": "GPU",
    "colab": {
      "name": "Spotify Analysis.ipynb",
      "provenance": [],
      "collapsed_sections": [
        "nXVWSYX3uhjJ",
        "hxELRu10hflP",
        "1VSHPVUXx5kP",
        "kWRoetI07TkD",
        "NOqedo0FwUuP",
        "X7XgOlX0waP1"
      ],
      "include_colab_link": true
    },
    "kernelspec": {
      "display_name": "Python 3",
      "language": "python",
      "name": "python3"
    },
    "language_info": {
      "codemirror_mode": {
        "name": "ipython",
        "version": 3
      },
      "file_extension": ".py",
      "mimetype": "text/x-python",
      "name": "python",
      "nbconvert_exporter": "python",
      "pygments_lexer": "ipython3",
      "version": "3.7.4"
    }
  },
  "cells": [
    {
      "cell_type": "markdown",
      "metadata": {
        "id": "view-in-github",
        "colab_type": "text"
      },
      "source": [
        "<a href=\"https://colab.research.google.com/github/nilijing/Billboard-Rankings-Analysis-Using-Machine-Learning-Techniques-On-Spotify/blob/main/Spotify_Analysis.ipynb\" target=\"_parent\"><img src=\"https://colab.research.google.com/assets/colab-badge.svg\" alt=\"Open In Colab\"/></a>"
      ]
    },
    {
      "cell_type": "code",
      "metadata": {
        "colab": {
          "base_uri": "https://localhost:8080/"
        },
        "id": "FGQ85ZPLmceM",
        "outputId": "8fc1b1e9-4b75-4456-ae1b-f224b31b7f9d"
      },
      "source": [
        "pip install spotify_token"
      ],
      "execution_count": null,
      "outputs": [
        {
          "output_type": "stream",
          "text": [
            "Requirement already satisfied: spotify_token in /Users/yijingtan/opt/anaconda3/lib/python3.7/site-packages (1.0.0)\n",
            "Requirement already satisfied: lxml>=4.4.1 in /Users/yijingtan/opt/anaconda3/lib/python3.7/site-packages (from spotify_token) (4.4.1)\n",
            "Requirement already satisfied: requests>=2.0 in /Users/yijingtan/opt/anaconda3/lib/python3.7/site-packages (from spotify_token) (2.22.0)\n",
            "Requirement already satisfied: beautifulsoup4>=4.8.1 in /Users/yijingtan/opt/anaconda3/lib/python3.7/site-packages (from spotify_token) (4.9.3)\n",
            "Requirement already satisfied: certifi>=2017.4.17 in /Users/yijingtan/opt/anaconda3/lib/python3.7/site-packages (from requests>=2.0->spotify_token) (2019.9.11)\n",
            "Requirement already satisfied: idna<2.9,>=2.5 in /Users/yijingtan/opt/anaconda3/lib/python3.7/site-packages (from requests>=2.0->spotify_token) (2.8)\n",
            "Requirement already satisfied: urllib3!=1.25.0,!=1.25.1,<1.26,>=1.21.1 in /Users/yijingtan/opt/anaconda3/lib/python3.7/site-packages (from requests>=2.0->spotify_token) (1.24.2)\n",
            "Requirement already satisfied: chardet<3.1.0,>=3.0.2 in /Users/yijingtan/opt/anaconda3/lib/python3.7/site-packages (from requests>=2.0->spotify_token) (3.0.4)\n",
            "Requirement already satisfied: soupsieve>1.2; python_version >= \"3.0\" in /Users/yijingtan/opt/anaconda3/lib/python3.7/site-packages (from beautifulsoup4>=4.8.1->spotify_token) (1.9.3)\n",
            "Note: you may need to restart the kernel to use updated packages.\n"
          ],
          "name": "stdout"
        }
      ]
    },
    {
      "cell_type": "code",
      "metadata": {
        "colab": {
          "base_uri": "https://localhost:8080/"
        },
        "id": "0k7wT9UWmj9v",
        "outputId": "03c7bfe2-a80a-4cf2-966f-6778cf679c77"
      },
      "source": [
        "pip install spotipy"
      ],
      "execution_count": null,
      "outputs": [
        {
          "output_type": "stream",
          "text": [
            "Requirement already satisfied: spotipy in /Users/yijingtan/opt/anaconda3/lib/python3.7/site-packages (2.15.0)\n",
            "Requirement already satisfied: six>=1.10.0 in /Users/yijingtan/opt/anaconda3/lib/python3.7/site-packages (from spotipy) (1.12.0)\n",
            "Requirement already satisfied: requests>=2.20.0 in /Users/yijingtan/opt/anaconda3/lib/python3.7/site-packages (from spotipy) (2.22.0)\n",
            "Requirement already satisfied: chardet<3.1.0,>=3.0.2 in /Users/yijingtan/opt/anaconda3/lib/python3.7/site-packages (from requests>=2.20.0->spotipy) (3.0.4)\n",
            "Requirement already satisfied: idna<2.9,>=2.5 in /Users/yijingtan/opt/anaconda3/lib/python3.7/site-packages (from requests>=2.20.0->spotipy) (2.8)\n",
            "Requirement already satisfied: urllib3!=1.25.0,!=1.25.1,<1.26,>=1.21.1 in /Users/yijingtan/opt/anaconda3/lib/python3.7/site-packages (from requests>=2.20.0->spotipy) (1.24.2)\n",
            "Requirement already satisfied: certifi>=2017.4.17 in /Users/yijingtan/opt/anaconda3/lib/python3.7/site-packages (from requests>=2.20.0->spotipy) (2019.9.11)\n",
            "Note: you may need to restart the kernel to use updated packages.\n"
          ],
          "name": "stdout"
        }
      ]
    },
    {
      "cell_type": "code",
      "metadata": {
        "id": "MJcpek7GmkAT"
      },
      "source": [
        "import pandas as pd\n",
        "import numpy as np\n",
        "import requests\n",
        "import json\n",
        "import random\n",
        "import warnings\n",
        "#import spotify_token as st\n",
        "import spotipy\n",
        "from spotipy.oauth2 import SpotifyClientCredentials\n",
        "import base64\n",
        "from secrets import *\n",
        "from pandas.io.json import json_normalize\n",
        "import matplotlib.pyplot as plt\n",
        "import seaborn as sns\n",
        "%matplotlib inline\n",
        "from sklearn.tree import export_graphviz\n",
        "from sklearn.model_selection import train_test_split,cross_val_predict\n",
        "\n",
        "from sklearn import metrics\n",
        "from sklearn.metrics import classification_report, confusion_matrix, accuracy_score\n",
        "\n",
        "import statsmodels.api as sm\n",
        "from scipy import stats\n",
        "from scipy.stats import ttest_1samp, ttest_rel, ttest_ind\n",
        "sns.set()"
      ],
      "execution_count": null,
      "outputs": []
    },
    {
      "cell_type": "code",
      "metadata": {
        "id": "FCq1vCGamkC-"
      },
      "source": [
        "clientId= '3bf66320d2444a66a0468d72aa84bdf7'\n",
        "clientSecret= '2454332bfbd1426993fbcfaf38b8bb54'\n",
        "client_credentials_manager = SpotifyClientCredentials(client_id=clientId, client_secret=clientSecret)\n",
        "sp = spotipy.Spotify(client_credentials_manager=client_credentials_manager)\n",
        "#Authorization \n",
        "url = \"https://accounts.spotify.com/api/token\"\n",
        "headers = {}\n",
        "data = {}\n",
        "#Encode as Base64\n",
        "message = f\"{clientId}:{clientSecret}\"\n",
        "messageBytes = message.encode('ascii')\n",
        "base64Bytes = base64.b64encode(messageBytes)\n",
        "base64Message = base64Bytes.decode('ascii')\n",
        "\n",
        "headers['Authorization'] = f\"Basic {base64Message}\"\n",
        "data['grant_type'] = \"client_credentials\"\n",
        "r = requests.post(url, headers=headers, data=data)\n",
        "\n",
        "token = r.json()['access_token']\n",
        "headers = {\"Authorization\": \"Bearer \" + token}"
      ],
      "execution_count": null,
      "outputs": []
    },
    {
      "cell_type": "markdown",
      "metadata": {
        "id": "fwFEEdM13cXF"
      },
      "source": [
        "#1. Get data"
      ]
    },
    {
      "cell_type": "code",
      "metadata": {
        "colab": {
          "base_uri": "https://localhost:8080/",
          "height": 86
        },
        "id": "g5GaRI-Nm6o0",
        "outputId": "fd0c95ed-ca7f-4198-dc0b-0df60525608f"
      },
      "source": [
        "'''\n",
        "lists=['Billboard Hot 100','Billboard Year-End Hot 100: 2019','Billboard 2018 - Year End Hot 100 Songs','Billboard 2017 - Year End Hot 100 Songs',\n",
        "       'Billboard 2016 - Year End Hot 100 Songs','Billboard 2015 - Year End Hot 100 Songs','2014 Billboard Hot 100 Songs','2013 Billboard Hot 100',\n",
        "       '2012 Billboard Hot 100 Year-End Chart','Billboard Top 100 2011','Billboard 2010 Top 100','Billboard Top 100 - 2009','Billboard Top 100 - 2008',\n",
        "       '2007 Billboard Year End Hot 100','2006 Billboard Top 100','2005 Billboard Top 100','2004 Billboard Top 100']\n",
        "'''"
      ],
      "execution_count": null,
      "outputs": [
        {
          "output_type": "execute_result",
          "data": {
            "text/plain": [
              "\"\\nlists=['Billboard Hot 100','Billboard Year-End Hot 100: 2019','Billboard 2018 - Year End Hot 100 Songs','Billboard 2017 - Year End Hot 100 Songs',\\n       'Billboard 2016 - Year End Hot 100 Songs','Billboard 2015 - Year End Hot 100 Songs','2014 Billboard Hot 100 Songs','2013 Billboard Hot 100',\\n       '2012 Billboard Hot 100 Year-End Chart','Billboard Top 100 2011','Billboard 2010 Top 100','Billboard Top 100 - 2009','Billboard Top 100 - 2008',\\n       '2007 Billboard Year End Hot 100','2006 Billboard Top 100','2005 Billboard Top 100','2004 Billboard Top 100']\\n\""
            ]
          },
          "metadata": {
            "tags": []
          },
          "execution_count": 5
        }
      ]
    },
    {
      "cell_type": "code",
      "metadata": {
        "id": "B_y8aZolXHcA"
      },
      "source": [
        "lists=['Billboard Hot 100','Billboard Year-End Hot 100: 2019','Billboard 2018 - Year End Hot 100 Songs','Billboard 2017 - Year End Hot 100 Songs',\n",
        "       'Billboard 2016 - Year End Hot 100 Songs','Billboard 2015 - Year End Hot 100 Songs','2014 Billboard Hot 100 Songs','2013 Billboard Hot 100',\n",
        "       '2012 Billboard Hot 100 Year-End Chart','Billboard Top 100 2011','Billboard 2010 Top 100']"
      ],
      "execution_count": null,
      "outputs": []
    },
    {
      "cell_type": "code",
      "metadata": {
        "id": "tksNiH3b601m"
      },
      "source": [
        "#get attributes\n",
        "def attributes(song_id):\n",
        "  rrr1=requests.get( url='https://api.spotify.com/v1/audio-features/'+song_id, headers=headers ).text\n",
        "  rrr1_dict=json.loads(rrr1) \n",
        "  return(rrr1_dict)\n",
        "\n",
        "def artist_names(song_info):\n",
        "  names=[]\n",
        "  for i in range(0,len(song_info)):\n",
        "    nm=song_info[i]['name']\n",
        "    names.append(nm)\n",
        "  artist_nms=', '.join(names)\n",
        "  return(artist_nms)\n",
        "\n",
        "def get_list_info(res_dict):\n",
        "  song_attributes=[]\n",
        "  song_nms=[]\n",
        "  artists=[]\n",
        "  pop=[] #tracks=res_dict.get('tracks')['items']\n",
        "\n",
        "  for item in res_dict.get('tracks')['items']:\n",
        "    song_id= item['track']['uri'].split(':')[2]\n",
        "    song_info = item['track']['artists'] \n",
        "    song_nm = item['track']['name'] \n",
        "\n",
        "    song_attributes.append(  attributes(song_id) )\n",
        "\n",
        "    song_nms.append(song_nm)\n",
        "\n",
        "    artists.append( artist_names(song_info)  )\n",
        "\n",
        "    pop.append( item['track']['popularity'] )\n",
        "    \n",
        "  #song attriutes\n",
        "  songs = pd.DataFrame(song_attributes)   \n",
        "  #song name \n",
        "  songs['song_name'] =song_nms\n",
        "  #singer\n",
        "  songs['artists names']=artists\n",
        "  #popularity\n",
        "  songs['popularity']=pop\n",
        "\n",
        "  return songs\n",
        "\n",
        "#total_songs = pd.concat([my_songs]).reset_index(drop=True)"
      ],
      "execution_count": null,
      "outputs": []
    },
    {
      "cell_type": "code",
      "metadata": {
        "colab": {
          "base_uri": "https://localhost:8080/"
        },
        "id": "KT-4EZfWM1nv",
        "outputId": "b2f2275c-4a2f-4fbe-e12d-ec2677efc3be"
      },
      "source": [
        "dicts=[]\n",
        "\n",
        "dff= pd.DataFrame( columns=['danceability','energy','key','loudness',\t'mode',\t'speechiness','acousticness','instrumentalness','liveness','valence','tempo','type','id','uri','track_href','analysis_url','duration_ms','time_signature','song_name','artists names','popularity'])\n",
        "print(dff)"
      ],
      "execution_count": null,
      "outputs": [
        {
          "output_type": "stream",
          "text": [
            "Empty DataFrame\n",
            "Columns: [danceability, energy, key, loudness, mode, speechiness, acousticness, instrumentalness, liveness, valence, tempo, type, id, uri, track_href, analysis_url, duration_ms, time_signature, song_name, artists names, popularity]\n",
            "Index: []\n",
            "\n",
            "[0 rows x 21 columns]\n"
          ],
          "name": "stdout"
        }
      ]
    },
    {
      "cell_type": "code",
      "metadata": {
        "id": "lgygZvxUMoql"
      },
      "source": [
        "for i in range(len(lists)): \n",
        "  list_nm= lists[i]    #chosen playlist\n",
        "  list_info= sp.search(list_nm,type='playlist')    #search query\n",
        "  list_url=list_info['playlists']['items'][0]['href']  #dict\n",
        "  response=requests.get(url=list_url, headers=headers) \n",
        "  res_dic=json.loads(response.text) \n",
        "  \n",
        "  s=get_list_info(res_dic) \n",
        "  pd.set_option('display.max_columns', None)\n",
        "  dff=pd.concat( [dff,s] )\n",
        "\n",
        "pd.set_option('display.max_columns', None)  #pd.set_option('display.max_rows', None)\n",
        "print(dff) "
      ],
      "execution_count": null,
      "outputs": []
    },
    {
      "cell_type": "code",
      "metadata": {
        "id": "tKMmpJ2W60_Y"
      },
      "source": [
        "#reset index\n",
        "dff['ranking']=dff.index\n",
        "pd.set_option('display.max_rows', None)\n",
        "print(dff.head(150))"
      ],
      "execution_count": null,
      "outputs": []
    },
    {
      "cell_type": "code",
      "metadata": {
        "id": "BnujjWkzwn6Z"
      },
      "source": [
        "dff['ranking']=dff['ranking']+1\n",
        "dff.head(3)"
      ],
      "execution_count": null,
      "outputs": []
    },
    {
      "cell_type": "code",
      "metadata": {
        "id": "K2uE4UDT61Ep"
      },
      "source": [
        "dff=dff.reset_index(drop=True)\n",
        "dff"
      ],
      "execution_count": null,
      "outputs": []
    },
    {
      "cell_type": "code",
      "metadata": {
        "id": "FL5o-D_x61CT"
      },
      "source": [
        "#sort columns order\n",
        "bb=dff.loc[:,['id','song_name','artists names','danceability','energy','key','loudness','mode',\t'speechiness','acousticness','instrumentalness','liveness','valence','tempo',\t'duration_ms','time_signature','popularity','ranking']]\n",
        "bb.head(3)"
      ],
      "execution_count": null,
      "outputs": []
    },
    {
      "cell_type": "code",
      "metadata": {
        "id": "-dax5sii_6bV"
      },
      "source": [
        "#bb.to_csv('raw data.csv',encoding='gbk')\n",
        "bb.to_csv('raw data.csv')"
      ],
      "execution_count": null,
      "outputs": []
    },
    {
      "cell_type": "code",
      "metadata": {
        "colab": {
          "resources": {
            "http://localhost:8080/nbextensions/google.colab/files.js": {
              "data": "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",
              "headers": [
                [
                  "content-type",
                  "application/javascript"
                ]
              ],
              "ok": true,
              "status": 200,
              "status_text": ""
            }
          },
          "base_uri": "https://localhost:8080/",
          "height": 72
        },
        "id": "kIAJcmDCAKBI",
        "outputId": "d93fba8a-098d-4822-fbdc-708ee3f70cea"
      },
      "source": [
        "##method 1:for basic\n",
        "bb=pd.read_csv('/Users/yijingtan/Desktop/project/spotify/raw data.csv',index_col=0)\n",
        "\n",
        "'''\n",
        "##method 2: for google colab\n",
        "from google.colab import files\n",
        "uploaded = files.upload()\n",
        "import io\n",
        "bb=pd.read_csv(io.BytesIO(uploaded['raw data.csv']),index_col=0)\n",
        "'''"
      ],
      "execution_count": null,
      "outputs": [
        {
          "output_type": "execute_result",
          "data": {
            "text/plain": [
              "\"\\n##method 2: for google colab\\nfrom google.colab import files\\nuploaded = files.upload()\\nimport io\\nbb=pd.read_csv(io.BytesIO(uploaded['raw data.csv']),index_col=0)\\n\""
            ]
          },
          "metadata": {
            "tags": []
          },
          "execution_count": 86
        }
      ]
    },
    {
      "cell_type": "code",
      "metadata": {
        "colab": {
          "base_uri": "https://localhost:8080/",
          "height": 173
        },
        "id": "2MvDKDWAVGoZ",
        "outputId": "32f701da-8b0d-478b-b649-07a0b3e9a3a9"
      },
      "source": [
        "bb.describe(include = 'O')"
      ],
      "execution_count": null,
      "outputs": [
        {
          "output_type": "execute_result",
          "data": {
            "text/html": [
              "<div>\n",
              "<style scoped>\n",
              "    .dataframe tbody tr th:only-of-type {\n",
              "        vertical-align: middle;\n",
              "    }\n",
              "\n",
              "    .dataframe tbody tr th {\n",
              "        vertical-align: top;\n",
              "    }\n",
              "\n",
              "    .dataframe thead th {\n",
              "        text-align: right;\n",
              "    }\n",
              "</style>\n",
              "<table border=\"1\" class=\"dataframe\">\n",
              "  <thead>\n",
              "    <tr style=\"text-align: right;\">\n",
              "      <th></th>\n",
              "      <th>type</th>\n",
              "      <th>id</th>\n",
              "      <th>uri</th>\n",
              "      <th>track_href</th>\n",
              "      <th>analysis_url</th>\n",
              "      <th>song_name</th>\n",
              "      <th>artists names</th>\n",
              "      <th>error</th>\n",
              "    </tr>\n",
              "  </thead>\n",
              "  <tbody>\n",
              "    <tr>\n",
              "      <td>count</td>\n",
              "      <td>888</td>\n",
              "      <td>888</td>\n",
              "      <td>888</td>\n",
              "      <td>888</td>\n",
              "      <td>888</td>\n",
              "      <td>1093</td>\n",
              "      <td>1093</td>\n",
              "      <td>205</td>\n",
              "    </tr>\n",
              "    <tr>\n",
              "      <td>unique</td>\n",
              "      <td>1</td>\n",
              "      <td>857</td>\n",
              "      <td>857</td>\n",
              "      <td>857</td>\n",
              "      <td>857</td>\n",
              "      <td>990</td>\n",
              "      <td>650</td>\n",
              "      <td>2</td>\n",
              "    </tr>\n",
              "    <tr>\n",
              "      <td>top</td>\n",
              "      <td>audio_features</td>\n",
              "      <td>1CkvWZme3pRgbzaxZnTl5X</td>\n",
              "      <td>spotify:track:2771LMNxwf62FTAdpJMQfM</td>\n",
              "      <td>https://api.spotify.com/v1/tracks/5aAx2yezTd8z...</td>\n",
              "      <td>https://api.spotify.com/v1/audio-analysis/45Eg...</td>\n",
              "      <td>Animals</td>\n",
              "      <td>Drake</td>\n",
              "      <td>{'status': 429, 'message': 'API rate limit exc...</td>\n",
              "    </tr>\n",
              "    <tr>\n",
              "      <td>freq</td>\n",
              "      <td>888</td>\n",
              "      <td>2</td>\n",
              "      <td>2</td>\n",
              "      <td>2</td>\n",
              "      <td>2</td>\n",
              "      <td>3</td>\n",
              "      <td>16</td>\n",
              "      <td>204</td>\n",
              "    </tr>\n",
              "  </tbody>\n",
              "</table>\n",
              "</div>"
            ],
            "text/plain": [
              "                  type                      id  \\\n",
              "count              888                     888   \n",
              "unique               1                     857   \n",
              "top     audio_features  1CkvWZme3pRgbzaxZnTl5X   \n",
              "freq               888                       2   \n",
              "\n",
              "                                         uri  \\\n",
              "count                                    888   \n",
              "unique                                   857   \n",
              "top     spotify:track:2771LMNxwf62FTAdpJMQfM   \n",
              "freq                                       2   \n",
              "\n",
              "                                               track_href  \\\n",
              "count                                                 888   \n",
              "unique                                                857   \n",
              "top     https://api.spotify.com/v1/tracks/5aAx2yezTd8z...   \n",
              "freq                                                    2   \n",
              "\n",
              "                                             analysis_url song_name  \\\n",
              "count                                                 888      1093   \n",
              "unique                                                857       990   \n",
              "top     https://api.spotify.com/v1/audio-analysis/45Eg...   Animals   \n",
              "freq                                                    2         3   \n",
              "\n",
              "       artists names                                              error  \n",
              "count           1093                                                205  \n",
              "unique           650                                                  2  \n",
              "top            Drake  {'status': 429, 'message': 'API rate limit exc...  \n",
              "freq              16                                                204  "
            ]
          },
          "metadata": {
            "tags": []
          },
          "execution_count": 87
        }
      ]
    },
    {
      "cell_type": "code",
      "metadata": {
        "colab": {
          "base_uri": "https://localhost:8080/",
          "height": 427
        },
        "id": "UqFAloMtv4Um",
        "outputId": "f03c665b-8fe3-47aa-fb32-a7dd0ffa599a"
      },
      "source": [
        "bb.describe(include='all')"
      ],
      "execution_count": null,
      "outputs": [
        {
          "output_type": "execute_result",
          "data": {
            "text/html": [
              "<div>\n",
              "<style scoped>\n",
              "    .dataframe tbody tr th:only-of-type {\n",
              "        vertical-align: middle;\n",
              "    }\n",
              "\n",
              "    .dataframe tbody tr th {\n",
              "        vertical-align: top;\n",
              "    }\n",
              "\n",
              "    .dataframe thead th {\n",
              "        text-align: right;\n",
              "    }\n",
              "</style>\n",
              "<table border=\"1\" class=\"dataframe\">\n",
              "  <thead>\n",
              "    <tr style=\"text-align: right;\">\n",
              "      <th></th>\n",
              "      <th>danceability</th>\n",
              "      <th>energy</th>\n",
              "      <th>key</th>\n",
              "      <th>loudness</th>\n",
              "      <th>mode</th>\n",
              "      <th>speechiness</th>\n",
              "      <th>acousticness</th>\n",
              "      <th>instrumentalness</th>\n",
              "      <th>liveness</th>\n",
              "      <th>valence</th>\n",
              "      <th>...</th>\n",
              "      <th>uri</th>\n",
              "      <th>track_href</th>\n",
              "      <th>analysis_url</th>\n",
              "      <th>duration_ms</th>\n",
              "      <th>time_signature</th>\n",
              "      <th>song_name</th>\n",
              "      <th>artists names</th>\n",
              "      <th>popularity</th>\n",
              "      <th>error</th>\n",
              "      <th>ranking</th>\n",
              "    </tr>\n",
              "  </thead>\n",
              "  <tbody>\n",
              "    <tr>\n",
              "      <td>count</td>\n",
              "      <td>888.000000</td>\n",
              "      <td>888.000000</td>\n",
              "      <td>888.000000</td>\n",
              "      <td>888.000000</td>\n",
              "      <td>888.000000</td>\n",
              "      <td>888.000000</td>\n",
              "      <td>888.000000</td>\n",
              "      <td>888.000000</td>\n",
              "      <td>888.000000</td>\n",
              "      <td>888.000000</td>\n",
              "      <td>...</td>\n",
              "      <td>888</td>\n",
              "      <td>888</td>\n",
              "      <td>888</td>\n",
              "      <td>888.000000</td>\n",
              "      <td>888.000000</td>\n",
              "      <td>1093</td>\n",
              "      <td>1093</td>\n",
              "      <td>1093.000000</td>\n",
              "      <td>205</td>\n",
              "      <td>1093.000000</td>\n",
              "    </tr>\n",
              "    <tr>\n",
              "      <td>unique</td>\n",
              "      <td>NaN</td>\n",
              "      <td>NaN</td>\n",
              "      <td>NaN</td>\n",
              "      <td>NaN</td>\n",
              "      <td>NaN</td>\n",
              "      <td>NaN</td>\n",
              "      <td>NaN</td>\n",
              "      <td>NaN</td>\n",
              "      <td>NaN</td>\n",
              "      <td>NaN</td>\n",
              "      <td>...</td>\n",
              "      <td>857</td>\n",
              "      <td>857</td>\n",
              "      <td>857</td>\n",
              "      <td>NaN</td>\n",
              "      <td>NaN</td>\n",
              "      <td>990</td>\n",
              "      <td>650</td>\n",
              "      <td>NaN</td>\n",
              "      <td>2</td>\n",
              "      <td>NaN</td>\n",
              "    </tr>\n",
              "    <tr>\n",
              "      <td>top</td>\n",
              "      <td>NaN</td>\n",
              "      <td>NaN</td>\n",
              "      <td>NaN</td>\n",
              "      <td>NaN</td>\n",
              "      <td>NaN</td>\n",
              "      <td>NaN</td>\n",
              "      <td>NaN</td>\n",
              "      <td>NaN</td>\n",
              "      <td>NaN</td>\n",
              "      <td>NaN</td>\n",
              "      <td>...</td>\n",
              "      <td>spotify:track:2771LMNxwf62FTAdpJMQfM</td>\n",
              "      <td>https://api.spotify.com/v1/tracks/5aAx2yezTd8z...</td>\n",
              "      <td>https://api.spotify.com/v1/audio-analysis/45Eg...</td>\n",
              "      <td>NaN</td>\n",
              "      <td>NaN</td>\n",
              "      <td>Animals</td>\n",
              "      <td>Drake</td>\n",
              "      <td>NaN</td>\n",
              "      <td>{'status': 429, 'message': 'API rate limit exc...</td>\n",
              "      <td>NaN</td>\n",
              "    </tr>\n",
              "    <tr>\n",
              "      <td>freq</td>\n",
              "      <td>NaN</td>\n",
              "      <td>NaN</td>\n",
              "      <td>NaN</td>\n",
              "      <td>NaN</td>\n",
              "      <td>NaN</td>\n",
              "      <td>NaN</td>\n",
              "      <td>NaN</td>\n",
              "      <td>NaN</td>\n",
              "      <td>NaN</td>\n",
              "      <td>NaN</td>\n",
              "      <td>...</td>\n",
              "      <td>2</td>\n",
              "      <td>2</td>\n",
              "      <td>2</td>\n",
              "      <td>NaN</td>\n",
              "      <td>NaN</td>\n",
              "      <td>3</td>\n",
              "      <td>16</td>\n",
              "      <td>NaN</td>\n",
              "      <td>204</td>\n",
              "      <td>NaN</td>\n",
              "    </tr>\n",
              "    <tr>\n",
              "      <td>mean</td>\n",
              "      <td>0.666886</td>\n",
              "      <td>0.676983</td>\n",
              "      <td>5.415541</td>\n",
              "      <td>-5.756955</td>\n",
              "      <td>0.623874</td>\n",
              "      <td>0.106002</td>\n",
              "      <td>0.147205</td>\n",
              "      <td>0.004023</td>\n",
              "      <td>0.177014</td>\n",
              "      <td>0.510164</td>\n",
              "      <td>...</td>\n",
              "      <td>NaN</td>\n",
              "      <td>NaN</td>\n",
              "      <td>NaN</td>\n",
              "      <td>219487.802928</td>\n",
              "      <td>3.989865</td>\n",
              "      <td>NaN</td>\n",
              "      <td>NaN</td>\n",
              "      <td>52.946935</td>\n",
              "      <td>NaN</td>\n",
              "      <td>50.193047</td>\n",
              "    </tr>\n",
              "    <tr>\n",
              "      <td>std</td>\n",
              "      <td>0.136429</td>\n",
              "      <td>0.157626</td>\n",
              "      <td>3.640816</td>\n",
              "      <td>2.698557</td>\n",
              "      <td>0.484685</td>\n",
              "      <td>0.101044</td>\n",
              "      <td>0.190801</td>\n",
              "      <td>0.035565</td>\n",
              "      <td>0.131787</td>\n",
              "      <td>0.216491</td>\n",
              "      <td>...</td>\n",
              "      <td>NaN</td>\n",
              "      <td>NaN</td>\n",
              "      <td>NaN</td>\n",
              "      <td>36597.586996</td>\n",
              "      <td>0.270514</td>\n",
              "      <td>NaN</td>\n",
              "      <td>NaN</td>\n",
              "      <td>31.929996</td>\n",
              "      <td>NaN</td>\n",
              "      <td>28.714495</td>\n",
              "    </tr>\n",
              "    <tr>\n",
              "      <td>min</td>\n",
              "      <td>0.000000</td>\n",
              "      <td>0.000000</td>\n",
              "      <td>0.000000</td>\n",
              "      <td>-60.000000</td>\n",
              "      <td>0.000000</td>\n",
              "      <td>0.000000</td>\n",
              "      <td>0.000000</td>\n",
              "      <td>0.000000</td>\n",
              "      <td>0.000000</td>\n",
              "      <td>0.000000</td>\n",
              "      <td>...</td>\n",
              "      <td>NaN</td>\n",
              "      <td>NaN</td>\n",
              "      <td>NaN</td>\n",
              "      <td>78200.000000</td>\n",
              "      <td>0.000000</td>\n",
              "      <td>NaN</td>\n",
              "      <td>NaN</td>\n",
              "      <td>0.000000</td>\n",
              "      <td>NaN</td>\n",
              "      <td>1.000000</td>\n",
              "    </tr>\n",
              "    <tr>\n",
              "      <td>25%</td>\n",
              "      <td>0.586750</td>\n",
              "      <td>0.578000</td>\n",
              "      <td>2.000000</td>\n",
              "      <td>-6.737500</td>\n",
              "      <td>0.000000</td>\n",
              "      <td>0.041475</td>\n",
              "      <td>0.018300</td>\n",
              "      <td>0.000000</td>\n",
              "      <td>0.093975</td>\n",
              "      <td>0.344750</td>\n",
              "      <td>...</td>\n",
              "      <td>NaN</td>\n",
              "      <td>NaN</td>\n",
              "      <td>NaN</td>\n",
              "      <td>198659.750000</td>\n",
              "      <td>4.000000</td>\n",
              "      <td>NaN</td>\n",
              "      <td>NaN</td>\n",
              "      <td>22.000000</td>\n",
              "      <td>NaN</td>\n",
              "      <td>25.000000</td>\n",
              "    </tr>\n",
              "    <tr>\n",
              "      <td>50%</td>\n",
              "      <td>0.677000</td>\n",
              "      <td>0.696000</td>\n",
              "      <td>6.000000</td>\n",
              "      <td>-5.413000</td>\n",
              "      <td>1.000000</td>\n",
              "      <td>0.060000</td>\n",
              "      <td>0.067950</td>\n",
              "      <td>0.000000</td>\n",
              "      <td>0.124500</td>\n",
              "      <td>0.505000</td>\n",
              "      <td>...</td>\n",
              "      <td>NaN</td>\n",
              "      <td>NaN</td>\n",
              "      <td>NaN</td>\n",
              "      <td>217753.500000</td>\n",
              "      <td>4.000000</td>\n",
              "      <td>NaN</td>\n",
              "      <td>NaN</td>\n",
              "      <td>68.000000</td>\n",
              "      <td>NaN</td>\n",
              "      <td>50.000000</td>\n",
              "    </tr>\n",
              "    <tr>\n",
              "      <td>75%</td>\n",
              "      <td>0.755500</td>\n",
              "      <td>0.797000</td>\n",
              "      <td>8.250000</td>\n",
              "      <td>-4.324500</td>\n",
              "      <td>1.000000</td>\n",
              "      <td>0.126500</td>\n",
              "      <td>0.203000</td>\n",
              "      <td>0.000008</td>\n",
              "      <td>0.212000</td>\n",
              "      <td>0.684000</td>\n",
              "      <td>...</td>\n",
              "      <td>NaN</td>\n",
              "      <td>NaN</td>\n",
              "      <td>NaN</td>\n",
              "      <td>237653.750000</td>\n",
              "      <td>4.000000</td>\n",
              "      <td>NaN</td>\n",
              "      <td>NaN</td>\n",
              "      <td>77.000000</td>\n",
              "      <td>NaN</td>\n",
              "      <td>75.000000</td>\n",
              "    </tr>\n",
              "    <tr>\n",
              "      <td>max</td>\n",
              "      <td>0.970000</td>\n",
              "      <td>0.972000</td>\n",
              "      <td>11.000000</td>\n",
              "      <td>-1.190000</td>\n",
              "      <td>1.000000</td>\n",
              "      <td>0.592000</td>\n",
              "      <td>0.978000</td>\n",
              "      <td>0.680000</td>\n",
              "      <td>0.833000</td>\n",
              "      <td>0.966000</td>\n",
              "      <td>...</td>\n",
              "      <td>NaN</td>\n",
              "      <td>NaN</td>\n",
              "      <td>NaN</td>\n",
              "      <td>484147.000000</td>\n",
              "      <td>5.000000</td>\n",
              "      <td>NaN</td>\n",
              "      <td>NaN</td>\n",
              "      <td>100.000000</td>\n",
              "      <td>NaN</td>\n",
              "      <td>100.000000</td>\n",
              "    </tr>\n",
              "  </tbody>\n",
              "</table>\n",
              "<p>11 rows × 23 columns</p>\n",
              "</div>"
            ],
            "text/plain": [
              "        danceability      energy         key    loudness        mode  \\\n",
              "count     888.000000  888.000000  888.000000  888.000000  888.000000   \n",
              "unique           NaN         NaN         NaN         NaN         NaN   \n",
              "top              NaN         NaN         NaN         NaN         NaN   \n",
              "freq             NaN         NaN         NaN         NaN         NaN   \n",
              "mean        0.666886    0.676983    5.415541   -5.756955    0.623874   \n",
              "std         0.136429    0.157626    3.640816    2.698557    0.484685   \n",
              "min         0.000000    0.000000    0.000000  -60.000000    0.000000   \n",
              "25%         0.586750    0.578000    2.000000   -6.737500    0.000000   \n",
              "50%         0.677000    0.696000    6.000000   -5.413000    1.000000   \n",
              "75%         0.755500    0.797000    8.250000   -4.324500    1.000000   \n",
              "max         0.970000    0.972000   11.000000   -1.190000    1.000000   \n",
              "\n",
              "        speechiness  acousticness  instrumentalness    liveness     valence  \\\n",
              "count    888.000000    888.000000        888.000000  888.000000  888.000000   \n",
              "unique          NaN           NaN               NaN         NaN         NaN   \n",
              "top             NaN           NaN               NaN         NaN         NaN   \n",
              "freq            NaN           NaN               NaN         NaN         NaN   \n",
              "mean       0.106002      0.147205          0.004023    0.177014    0.510164   \n",
              "std        0.101044      0.190801          0.035565    0.131787    0.216491   \n",
              "min        0.000000      0.000000          0.000000    0.000000    0.000000   \n",
              "25%        0.041475      0.018300          0.000000    0.093975    0.344750   \n",
              "50%        0.060000      0.067950          0.000000    0.124500    0.505000   \n",
              "75%        0.126500      0.203000          0.000008    0.212000    0.684000   \n",
              "max        0.592000      0.978000          0.680000    0.833000    0.966000   \n",
              "\n",
              "        ...                                   uri  \\\n",
              "count   ...                                   888   \n",
              "unique  ...                                   857   \n",
              "top     ...  spotify:track:2771LMNxwf62FTAdpJMQfM   \n",
              "freq    ...                                     2   \n",
              "mean    ...                                   NaN   \n",
              "std     ...                                   NaN   \n",
              "min     ...                                   NaN   \n",
              "25%     ...                                   NaN   \n",
              "50%     ...                                   NaN   \n",
              "75%     ...                                   NaN   \n",
              "max     ...                                   NaN   \n",
              "\n",
              "                                               track_href  \\\n",
              "count                                                 888   \n",
              "unique                                                857   \n",
              "top     https://api.spotify.com/v1/tracks/5aAx2yezTd8z...   \n",
              "freq                                                    2   \n",
              "mean                                                  NaN   \n",
              "std                                                   NaN   \n",
              "min                                                   NaN   \n",
              "25%                                                   NaN   \n",
              "50%                                                   NaN   \n",
              "75%                                                   NaN   \n",
              "max                                                   NaN   \n",
              "\n",
              "                                             analysis_url    duration_ms  \\\n",
              "count                                                 888     888.000000   \n",
              "unique                                                857            NaN   \n",
              "top     https://api.spotify.com/v1/audio-analysis/45Eg...            NaN   \n",
              "freq                                                    2            NaN   \n",
              "mean                                                  NaN  219487.802928   \n",
              "std                                                   NaN   36597.586996   \n",
              "min                                                   NaN   78200.000000   \n",
              "25%                                                   NaN  198659.750000   \n",
              "50%                                                   NaN  217753.500000   \n",
              "75%                                                   NaN  237653.750000   \n",
              "max                                                   NaN  484147.000000   \n",
              "\n",
              "       time_signature song_name  artists names   popularity  \\\n",
              "count      888.000000      1093           1093  1093.000000   \n",
              "unique            NaN       990            650          NaN   \n",
              "top               NaN   Animals          Drake          NaN   \n",
              "freq              NaN         3             16          NaN   \n",
              "mean         3.989865       NaN            NaN    52.946935   \n",
              "std          0.270514       NaN            NaN    31.929996   \n",
              "min          0.000000       NaN            NaN     0.000000   \n",
              "25%          4.000000       NaN            NaN    22.000000   \n",
              "50%          4.000000       NaN            NaN    68.000000   \n",
              "75%          4.000000       NaN            NaN    77.000000   \n",
              "max          5.000000       NaN            NaN   100.000000   \n",
              "\n",
              "                                                    error      ranking  \n",
              "count                                                 205  1093.000000  \n",
              "unique                                                  2          NaN  \n",
              "top     {'status': 429, 'message': 'API rate limit exc...          NaN  \n",
              "freq                                                  204          NaN  \n",
              "mean                                                  NaN    50.193047  \n",
              "std                                                   NaN    28.714495  \n",
              "min                                                   NaN     1.000000  \n",
              "25%                                                   NaN    25.000000  \n",
              "50%                                                   NaN    50.000000  \n",
              "75%                                                   NaN    75.000000  \n",
              "max                                                   NaN   100.000000  \n",
              "\n",
              "[11 rows x 23 columns]"
            ]
          },
          "metadata": {
            "tags": []
          },
          "execution_count": 88
        }
      ]
    },
    {
      "cell_type": "code",
      "metadata": {
        "id": "qvuktix4s27g",
        "outputId": "9a6ca4e7-096c-4dd6-a41e-3d5986f56532"
      },
      "source": [
        "bb"
      ],
      "execution_count": null,
      "outputs": [
        {
          "output_type": "execute_result",
          "data": {
            "text/html": [
              "<div>\n",
              "<style scoped>\n",
              "    .dataframe tbody tr th:only-of-type {\n",
              "        vertical-align: middle;\n",
              "    }\n",
              "\n",
              "    .dataframe tbody tr th {\n",
              "        vertical-align: top;\n",
              "    }\n",
              "\n",
              "    .dataframe thead th {\n",
              "        text-align: right;\n",
              "    }\n",
              "</style>\n",
              "<table border=\"1\" class=\"dataframe\">\n",
              "  <thead>\n",
              "    <tr style=\"text-align: right;\">\n",
              "      <th></th>\n",
              "      <th>danceability</th>\n",
              "      <th>energy</th>\n",
              "      <th>key</th>\n",
              "      <th>loudness</th>\n",
              "      <th>mode</th>\n",
              "      <th>speechiness</th>\n",
              "      <th>acousticness</th>\n",
              "      <th>instrumentalness</th>\n",
              "      <th>liveness</th>\n",
              "      <th>valence</th>\n",
              "      <th>...</th>\n",
              "      <th>uri</th>\n",
              "      <th>track_href</th>\n",
              "      <th>analysis_url</th>\n",
              "      <th>duration_ms</th>\n",
              "      <th>time_signature</th>\n",
              "      <th>song_name</th>\n",
              "      <th>artists names</th>\n",
              "      <th>popularity</th>\n",
              "      <th>error</th>\n",
              "      <th>ranking</th>\n",
              "    </tr>\n",
              "  </thead>\n",
              "  <tbody>\n",
              "    <tr>\n",
              "      <td>0</td>\n",
              "      <td>0.700</td>\n",
              "      <td>0.722</td>\n",
              "      <td>7.0</td>\n",
              "      <td>-3.558</td>\n",
              "      <td>0.0</td>\n",
              "      <td>0.0369</td>\n",
              "      <td>0.22100</td>\n",
              "      <td>0.000000</td>\n",
              "      <td>0.2720</td>\n",
              "      <td>0.756</td>\n",
              "      <td>...</td>\n",
              "      <td>spotify:track:3tjFYV6RSFtuktYl3ZtYcq</td>\n",
              "      <td>https://api.spotify.com/v1/tracks/3tjFYV6RSFtu...</td>\n",
              "      <td>https://api.spotify.com/v1/audio-analysis/3tjF...</td>\n",
              "      <td>140526.0</td>\n",
              "      <td>4.0</td>\n",
              "      <td>Mood (feat. iann dior)</td>\n",
              "      <td>24kGoldn, iann dior</td>\n",
              "      <td>99</td>\n",
              "      <td>NaN</td>\n",
              "      <td>1</td>\n",
              "    </tr>\n",
              "    <tr>\n",
              "      <td>1</td>\n",
              "      <td>0.736</td>\n",
              "      <td>0.802</td>\n",
              "      <td>0.0</td>\n",
              "      <td>-4.759</td>\n",
              "      <td>1.0</td>\n",
              "      <td>0.0864</td>\n",
              "      <td>0.46800</td>\n",
              "      <td>0.000000</td>\n",
              "      <td>0.0940</td>\n",
              "      <td>0.675</td>\n",
              "      <td>...</td>\n",
              "      <td>spotify:track:7igeByaBM0MgGsgXtNxDJ7</td>\n",
              "      <td>https://api.spotify.com/v1/tracks/7igeByaBM0Mg...</td>\n",
              "      <td>https://api.spotify.com/v1/audio-analysis/7ige...</td>\n",
              "      <td>172325.0</td>\n",
              "      <td>4.0</td>\n",
              "      <td>positions</td>\n",
              "      <td>Ariana Grande</td>\n",
              "      <td>88</td>\n",
              "      <td>NaN</td>\n",
              "      <td>2</td>\n",
              "    </tr>\n",
              "    <tr>\n",
              "      <td>2</td>\n",
              "      <td>0.554</td>\n",
              "      <td>0.576</td>\n",
              "      <td>6.0</td>\n",
              "      <td>-6.495</td>\n",
              "      <td>1.0</td>\n",
              "      <td>0.0399</td>\n",
              "      <td>0.17100</td>\n",
              "      <td>0.000000</td>\n",
              "      <td>0.1590</td>\n",
              "      <td>0.409</td>\n",
              "      <td>...</td>\n",
              "      <td>spotify:track:5cYFwgA5dHoqR3xGnlr9ew</td>\n",
              "      <td>https://api.spotify.com/v1/tracks/5cYFwgA5dHoq...</td>\n",
              "      <td>https://api.spotify.com/v1/audio-analysis/5cYF...</td>\n",
              "      <td>209763.0</td>\n",
              "      <td>4.0</td>\n",
              "      <td>I Hope (feat. Charlie Puth)</td>\n",
              "      <td>Gabby Barrett, Charlie Puth</td>\n",
              "      <td>73</td>\n",
              "      <td>NaN</td>\n",
              "      <td>3</td>\n",
              "    </tr>\n",
              "    <tr>\n",
              "      <td>3</td>\n",
              "      <td>0.761</td>\n",
              "      <td>0.518</td>\n",
              "      <td>0.0</td>\n",
              "      <td>-8.871</td>\n",
              "      <td>1.0</td>\n",
              "      <td>0.1340</td>\n",
              "      <td>0.24400</td>\n",
              "      <td>0.000035</td>\n",
              "      <td>0.1070</td>\n",
              "      <td>0.522</td>\n",
              "      <td>...</td>\n",
              "      <td>spotify:track:2SAqBLGA283SUiwJ3xOUVI</td>\n",
              "      <td>https://api.spotify.com/v1/tracks/2SAqBLGA283S...</td>\n",
              "      <td>https://api.spotify.com/v1/audio-analysis/2SAq...</td>\n",
              "      <td>261493.0</td>\n",
              "      <td>4.0</td>\n",
              "      <td>Laugh Now Cry Later (feat. Lil Durk)</td>\n",
              "      <td>Drake, Lil Durk</td>\n",
              "      <td>93</td>\n",
              "      <td>NaN</td>\n",
              "      <td>4</td>\n",
              "    </tr>\n",
              "    <tr>\n",
              "      <td>4</td>\n",
              "      <td>0.514</td>\n",
              "      <td>0.730</td>\n",
              "      <td>1.0</td>\n",
              "      <td>-5.934</td>\n",
              "      <td>1.0</td>\n",
              "      <td>0.0598</td>\n",
              "      <td>0.00146</td>\n",
              "      <td>0.000095</td>\n",
              "      <td>0.0897</td>\n",
              "      <td>0.334</td>\n",
              "      <td>...</td>\n",
              "      <td>spotify:track:0VjIjW4GlUZAMYd2vXMi3b</td>\n",
              "      <td>https://api.spotify.com/v1/tracks/0VjIjW4GlUZA...</td>\n",
              "      <td>https://api.spotify.com/v1/audio-analysis/0VjI...</td>\n",
              "      <td>200040.0</td>\n",
              "      <td>4.0</td>\n",
              "      <td>Blinding Lights</td>\n",
              "      <td>The Weeknd</td>\n",
              "      <td>96</td>\n",
              "      <td>NaN</td>\n",
              "      <td>5</td>\n",
              "    </tr>\n",
              "    <tr>\n",
              "      <td>...</td>\n",
              "      <td>...</td>\n",
              "      <td>...</td>\n",
              "      <td>...</td>\n",
              "      <td>...</td>\n",
              "      <td>...</td>\n",
              "      <td>...</td>\n",
              "      <td>...</td>\n",
              "      <td>...</td>\n",
              "      <td>...</td>\n",
              "      <td>...</td>\n",
              "      <td>...</td>\n",
              "      <td>...</td>\n",
              "      <td>...</td>\n",
              "      <td>...</td>\n",
              "      <td>...</td>\n",
              "      <td>...</td>\n",
              "      <td>...</td>\n",
              "      <td>...</td>\n",
              "      <td>...</td>\n",
              "      <td>...</td>\n",
              "      <td>...</td>\n",
              "    </tr>\n",
              "    <tr>\n",
              "      <td>1088</td>\n",
              "      <td>0.434</td>\n",
              "      <td>0.764</td>\n",
              "      <td>5.0</td>\n",
              "      <td>-3.450</td>\n",
              "      <td>1.0</td>\n",
              "      <td>0.0299</td>\n",
              "      <td>0.05340</td>\n",
              "      <td>0.000000</td>\n",
              "      <td>0.4370</td>\n",
              "      <td>0.309</td>\n",
              "      <td>...</td>\n",
              "      <td>spotify:track:4gWTBq5Jftq5CEKYpLXD8R</td>\n",
              "      <td>https://api.spotify.com/v1/tracks/4gWTBq5Jftq5...</td>\n",
              "      <td>https://api.spotify.com/v1/audio-analysis/4gWT...</td>\n",
              "      <td>206413.0</td>\n",
              "      <td>4.0</td>\n",
              "      <td>Life After You</td>\n",
              "      <td>Daughtry</td>\n",
              "      <td>52</td>\n",
              "      <td>NaN</td>\n",
              "      <td>96</td>\n",
              "    </tr>\n",
              "    <tr>\n",
              "      <td>1089</td>\n",
              "      <td>0.541</td>\n",
              "      <td>0.812</td>\n",
              "      <td>4.0</td>\n",
              "      <td>-3.764</td>\n",
              "      <td>1.0</td>\n",
              "      <td>0.0336</td>\n",
              "      <td>0.20300</td>\n",
              "      <td>0.000000</td>\n",
              "      <td>0.4200</td>\n",
              "      <td>0.607</td>\n",
              "      <td>...</td>\n",
              "      <td>spotify:track:4ZC8hXXqu2hPcDLw9QTdtQ</td>\n",
              "      <td>https://api.spotify.com/v1/tracks/4ZC8hXXqu2hP...</td>\n",
              "      <td>https://api.spotify.com/v1/audio-analysis/4ZC8...</td>\n",
              "      <td>201627.0</td>\n",
              "      <td>4.0</td>\n",
              "      <td>Smile</td>\n",
              "      <td>Uncle Kracker</td>\n",
              "      <td>69</td>\n",
              "      <td>NaN</td>\n",
              "      <td>97</td>\n",
              "    </tr>\n",
              "    <tr>\n",
              "      <td>1090</td>\n",
              "      <td>0.790</td>\n",
              "      <td>0.454</td>\n",
              "      <td>9.0</td>\n",
              "      <td>-4.603</td>\n",
              "      <td>1.0</td>\n",
              "      <td>0.1840</td>\n",
              "      <td>0.19700</td>\n",
              "      <td>0.000121</td>\n",
              "      <td>0.0938</td>\n",
              "      <td>0.496</td>\n",
              "      <td>...</td>\n",
              "      <td>spotify:track:1BPVgamrhPaT79ol3Xz0J9</td>\n",
              "      <td>https://api.spotify.com/v1/tracks/1BPVgamrhPaT...</td>\n",
              "      <td>https://api.spotify.com/v1/audio-analysis/1BPV...</td>\n",
              "      <td>239760.0</td>\n",
              "      <td>4.0</td>\n",
              "      <td>Teach Me How to Dougie (Explicit Version)</td>\n",
              "      <td>Cali Swag District</td>\n",
              "      <td>0</td>\n",
              "      <td>NaN</td>\n",
              "      <td>98</td>\n",
              "    </tr>\n",
              "    <tr>\n",
              "      <td>1091</td>\n",
              "      <td>NaN</td>\n",
              "      <td>NaN</td>\n",
              "      <td>NaN</td>\n",
              "      <td>NaN</td>\n",
              "      <td>NaN</td>\n",
              "      <td>NaN</td>\n",
              "      <td>NaN</td>\n",
              "      <td>NaN</td>\n",
              "      <td>NaN</td>\n",
              "      <td>NaN</td>\n",
              "      <td>...</td>\n",
              "      <td>NaN</td>\n",
              "      <td>NaN</td>\n",
              "      <td>NaN</td>\n",
              "      <td>NaN</td>\n",
              "      <td>NaN</td>\n",
              "      <td>Try Sleeping with a Broken Heart</td>\n",
              "      <td>Alicia Keys</td>\n",
              "      <td>62</td>\n",
              "      <td>{'status': 429, 'message': 'API rate limit exc...</td>\n",
              "      <td>99</td>\n",
              "    </tr>\n",
              "    <tr>\n",
              "      <td>1092</td>\n",
              "      <td>NaN</td>\n",
              "      <td>NaN</td>\n",
              "      <td>NaN</td>\n",
              "      <td>NaN</td>\n",
              "      <td>NaN</td>\n",
              "      <td>NaN</td>\n",
              "      <td>NaN</td>\n",
              "      <td>NaN</td>\n",
              "      <td>NaN</td>\n",
              "      <td>NaN</td>\n",
              "      <td>...</td>\n",
              "      <td>NaN</td>\n",
              "      <td>NaN</td>\n",
              "      <td>NaN</td>\n",
              "      <td>NaN</td>\n",
              "      <td>NaN</td>\n",
              "      <td>Lover, Lover</td>\n",
              "      <td>Jerrod Niemann</td>\n",
              "      <td>60</td>\n",
              "      <td>{'status': 429, 'message': 'API rate limit exc...</td>\n",
              "      <td>100</td>\n",
              "    </tr>\n",
              "  </tbody>\n",
              "</table>\n",
              "<p>1093 rows × 23 columns</p>\n",
              "</div>"
            ],
            "text/plain": [
              "      danceability  energy  key  loudness  mode  speechiness  acousticness  \\\n",
              "0            0.700   0.722  7.0    -3.558   0.0       0.0369       0.22100   \n",
              "1            0.736   0.802  0.0    -4.759   1.0       0.0864       0.46800   \n",
              "2            0.554   0.576  6.0    -6.495   1.0       0.0399       0.17100   \n",
              "3            0.761   0.518  0.0    -8.871   1.0       0.1340       0.24400   \n",
              "4            0.514   0.730  1.0    -5.934   1.0       0.0598       0.00146   \n",
              "...            ...     ...  ...       ...   ...          ...           ...   \n",
              "1088         0.434   0.764  5.0    -3.450   1.0       0.0299       0.05340   \n",
              "1089         0.541   0.812  4.0    -3.764   1.0       0.0336       0.20300   \n",
              "1090         0.790   0.454  9.0    -4.603   1.0       0.1840       0.19700   \n",
              "1091           NaN     NaN  NaN       NaN   NaN          NaN           NaN   \n",
              "1092           NaN     NaN  NaN       NaN   NaN          NaN           NaN   \n",
              "\n",
              "      instrumentalness  liveness  valence  ...  \\\n",
              "0             0.000000    0.2720    0.756  ...   \n",
              "1             0.000000    0.0940    0.675  ...   \n",
              "2             0.000000    0.1590    0.409  ...   \n",
              "3             0.000035    0.1070    0.522  ...   \n",
              "4             0.000095    0.0897    0.334  ...   \n",
              "...                ...       ...      ...  ...   \n",
              "1088          0.000000    0.4370    0.309  ...   \n",
              "1089          0.000000    0.4200    0.607  ...   \n",
              "1090          0.000121    0.0938    0.496  ...   \n",
              "1091               NaN       NaN      NaN  ...   \n",
              "1092               NaN       NaN      NaN  ...   \n",
              "\n",
              "                                       uri  \\\n",
              "0     spotify:track:3tjFYV6RSFtuktYl3ZtYcq   \n",
              "1     spotify:track:7igeByaBM0MgGsgXtNxDJ7   \n",
              "2     spotify:track:5cYFwgA5dHoqR3xGnlr9ew   \n",
              "3     spotify:track:2SAqBLGA283SUiwJ3xOUVI   \n",
              "4     spotify:track:0VjIjW4GlUZAMYd2vXMi3b   \n",
              "...                                    ...   \n",
              "1088  spotify:track:4gWTBq5Jftq5CEKYpLXD8R   \n",
              "1089  spotify:track:4ZC8hXXqu2hPcDLw9QTdtQ   \n",
              "1090  spotify:track:1BPVgamrhPaT79ol3Xz0J9   \n",
              "1091                                   NaN   \n",
              "1092                                   NaN   \n",
              "\n",
              "                                             track_href  \\\n",
              "0     https://api.spotify.com/v1/tracks/3tjFYV6RSFtu...   \n",
              "1     https://api.spotify.com/v1/tracks/7igeByaBM0Mg...   \n",
              "2     https://api.spotify.com/v1/tracks/5cYFwgA5dHoq...   \n",
              "3     https://api.spotify.com/v1/tracks/2SAqBLGA283S...   \n",
              "4     https://api.spotify.com/v1/tracks/0VjIjW4GlUZA...   \n",
              "...                                                 ...   \n",
              "1088  https://api.spotify.com/v1/tracks/4gWTBq5Jftq5...   \n",
              "1089  https://api.spotify.com/v1/tracks/4ZC8hXXqu2hP...   \n",
              "1090  https://api.spotify.com/v1/tracks/1BPVgamrhPaT...   \n",
              "1091                                                NaN   \n",
              "1092                                                NaN   \n",
              "\n",
              "                                           analysis_url duration_ms  \\\n",
              "0     https://api.spotify.com/v1/audio-analysis/3tjF...    140526.0   \n",
              "1     https://api.spotify.com/v1/audio-analysis/7ige...    172325.0   \n",
              "2     https://api.spotify.com/v1/audio-analysis/5cYF...    209763.0   \n",
              "3     https://api.spotify.com/v1/audio-analysis/2SAq...    261493.0   \n",
              "4     https://api.spotify.com/v1/audio-analysis/0VjI...    200040.0   \n",
              "...                                                 ...         ...   \n",
              "1088  https://api.spotify.com/v1/audio-analysis/4gWT...    206413.0   \n",
              "1089  https://api.spotify.com/v1/audio-analysis/4ZC8...    201627.0   \n",
              "1090  https://api.spotify.com/v1/audio-analysis/1BPV...    239760.0   \n",
              "1091                                                NaN         NaN   \n",
              "1092                                                NaN         NaN   \n",
              "\n",
              "     time_signature                                  song_name  \\\n",
              "0               4.0                     Mood (feat. iann dior)   \n",
              "1               4.0                                  positions   \n",
              "2               4.0                I Hope (feat. Charlie Puth)   \n",
              "3               4.0       Laugh Now Cry Later (feat. Lil Durk)   \n",
              "4               4.0                            Blinding Lights   \n",
              "...             ...                                        ...   \n",
              "1088            4.0                             Life After You   \n",
              "1089            4.0                                      Smile   \n",
              "1090            4.0  Teach Me How to Dougie (Explicit Version)   \n",
              "1091            NaN           Try Sleeping with a Broken Heart   \n",
              "1092            NaN                               Lover, Lover   \n",
              "\n",
              "                    artists names  popularity  \\\n",
              "0             24kGoldn, iann dior          99   \n",
              "1                   Ariana Grande          88   \n",
              "2     Gabby Barrett, Charlie Puth          73   \n",
              "3                 Drake, Lil Durk          93   \n",
              "4                      The Weeknd          96   \n",
              "...                           ...         ...   \n",
              "1088                     Daughtry          52   \n",
              "1089                Uncle Kracker          69   \n",
              "1090           Cali Swag District           0   \n",
              "1091                  Alicia Keys          62   \n",
              "1092               Jerrod Niemann          60   \n",
              "\n",
              "                                                  error ranking  \n",
              "0                                                   NaN       1  \n",
              "1                                                   NaN       2  \n",
              "2                                                   NaN       3  \n",
              "3                                                   NaN       4  \n",
              "4                                                   NaN       5  \n",
              "...                                                 ...     ...  \n",
              "1088                                                NaN      96  \n",
              "1089                                                NaN      97  \n",
              "1090                                                NaN      98  \n",
              "1091  {'status': 429, 'message': 'API rate limit exc...      99  \n",
              "1092  {'status': 429, 'message': 'API rate limit exc...     100  \n",
              "\n",
              "[1093 rows x 23 columns]"
            ]
          },
          "metadata": {
            "tags": []
          },
          "execution_count": 90
        }
      ]
    },
    {
      "cell_type": "markdown",
      "metadata": {
        "id": "wxUS6_hK4-FS"
      },
      "source": [
        "#2. Process data"
      ]
    },
    {
      "cell_type": "code",
      "metadata": {
        "id": "W7gpxmTJ8uFh"
      },
      "source": [
        "pd.set_option('precision',6)"
      ],
      "execution_count": null,
      "outputs": []
    },
    {
      "cell_type": "code",
      "metadata": {
        "id": "u-EMDrEL6098",
        "outputId": "febf699b-e351-4cc6-9ea4-cb914ce64211"
      },
      "source": [
        "#check datatype\n",
        "bb.info()"
      ],
      "execution_count": null,
      "outputs": [
        {
          "output_type": "stream",
          "text": [
            "<class 'pandas.core.frame.DataFrame'>\n",
            "Int64Index: 1093 entries, 0 to 1092\n",
            "Data columns (total 23 columns):\n",
            "danceability        888 non-null float64\n",
            "energy              888 non-null float64\n",
            "key                 888 non-null float64\n",
            "loudness            888 non-null float64\n",
            "mode                888 non-null float64\n",
            "speechiness         888 non-null float64\n",
            "acousticness        888 non-null float64\n",
            "instrumentalness    888 non-null float64\n",
            "liveness            888 non-null float64\n",
            "valence             888 non-null float64\n",
            "tempo               888 non-null float64\n",
            "type                888 non-null object\n",
            "id                  888 non-null object\n",
            "uri                 888 non-null object\n",
            "track_href          888 non-null object\n",
            "analysis_url        888 non-null object\n",
            "duration_ms         888 non-null float64\n",
            "time_signature      888 non-null float64\n",
            "song_name           1093 non-null object\n",
            "artists names       1093 non-null object\n",
            "popularity          1093 non-null int64\n",
            "error               205 non-null object\n",
            "ranking             1093 non-null int64\n",
            "dtypes: float64(13), int64(2), object(8)\n",
            "memory usage: 204.9+ KB\n"
          ],
          "name": "stdout"
        }
      ]
    },
    {
      "cell_type": "code",
      "metadata": {
        "id": "fZxGVF3J608D",
        "outputId": "6d4e47cd-3a17-433e-ee43-023281e7ff97"
      },
      "source": [
        "#convert to numeric \n",
        "bb[['key','mode','duration_ms','time_signature','popularity']]=bb[['key','mode','duration_ms','time_signature','popularity']].apply(pd.to_numeric)\n",
        "bb.info()"
      ],
      "execution_count": null,
      "outputs": [
        {
          "output_type": "stream",
          "text": [
            "<class 'pandas.core.frame.DataFrame'>\n",
            "Int64Index: 1093 entries, 0 to 1092\n",
            "Data columns (total 23 columns):\n",
            "danceability        888 non-null float64\n",
            "energy              888 non-null float64\n",
            "key                 888 non-null float64\n",
            "loudness            888 non-null float64\n",
            "mode                888 non-null float64\n",
            "speechiness         888 non-null float64\n",
            "acousticness        888 non-null float64\n",
            "instrumentalness    888 non-null float64\n",
            "liveness            888 non-null float64\n",
            "valence             888 non-null float64\n",
            "tempo               888 non-null float64\n",
            "type                888 non-null object\n",
            "id                  888 non-null object\n",
            "uri                 888 non-null object\n",
            "track_href          888 non-null object\n",
            "analysis_url        888 non-null object\n",
            "duration_ms         888 non-null float64\n",
            "time_signature      888 non-null float64\n",
            "song_name           1093 non-null object\n",
            "artists names       1093 non-null object\n",
            "popularity          1093 non-null int64\n",
            "error               205 non-null object\n",
            "ranking             1093 non-null int64\n",
            "dtypes: float64(13), int64(2), object(8)\n",
            "memory usage: 204.9+ KB\n"
          ],
          "name": "stdout"
        }
      ]
    },
    {
      "cell_type": "code",
      "metadata": {
        "id": "TuW0wPaAs27h",
        "outputId": "e8d2d8ed-156e-4dd2-e6af-908e21981c58"
      },
      "source": [
        "bb"
      ],
      "execution_count": null,
      "outputs": [
        {
          "output_type": "execute_result",
          "data": {
            "text/html": [
              "<div>\n",
              "<style scoped>\n",
              "    .dataframe tbody tr th:only-of-type {\n",
              "        vertical-align: middle;\n",
              "    }\n",
              "\n",
              "    .dataframe tbody tr th {\n",
              "        vertical-align: top;\n",
              "    }\n",
              "\n",
              "    .dataframe thead th {\n",
              "        text-align: right;\n",
              "    }\n",
              "</style>\n",
              "<table border=\"1\" class=\"dataframe\">\n",
              "  <thead>\n",
              "    <tr style=\"text-align: right;\">\n",
              "      <th></th>\n",
              "      <th>danceability</th>\n",
              "      <th>energy</th>\n",
              "      <th>key</th>\n",
              "      <th>loudness</th>\n",
              "      <th>mode</th>\n",
              "      <th>speechiness</th>\n",
              "      <th>acousticness</th>\n",
              "      <th>instrumentalness</th>\n",
              "      <th>liveness</th>\n",
              "      <th>valence</th>\n",
              "      <th>...</th>\n",
              "      <th>uri</th>\n",
              "      <th>track_href</th>\n",
              "      <th>analysis_url</th>\n",
              "      <th>duration_ms</th>\n",
              "      <th>time_signature</th>\n",
              "      <th>song_name</th>\n",
              "      <th>artists names</th>\n",
              "      <th>popularity</th>\n",
              "      <th>error</th>\n",
              "      <th>ranking</th>\n",
              "    </tr>\n",
              "  </thead>\n",
              "  <tbody>\n",
              "    <tr>\n",
              "      <td>0</td>\n",
              "      <td>0.700</td>\n",
              "      <td>0.722</td>\n",
              "      <td>7.0</td>\n",
              "      <td>-3.558</td>\n",
              "      <td>0.0</td>\n",
              "      <td>0.0369</td>\n",
              "      <td>0.22100</td>\n",
              "      <td>0.000000</td>\n",
              "      <td>0.2720</td>\n",
              "      <td>0.756</td>\n",
              "      <td>...</td>\n",
              "      <td>spotify:track:3tjFYV6RSFtuktYl3ZtYcq</td>\n",
              "      <td>https://api.spotify.com/v1/tracks/3tjFYV6RSFtu...</td>\n",
              "      <td>https://api.spotify.com/v1/audio-analysis/3tjF...</td>\n",
              "      <td>140526.0</td>\n",
              "      <td>4.0</td>\n",
              "      <td>Mood (feat. iann dior)</td>\n",
              "      <td>24kGoldn, iann dior</td>\n",
              "      <td>99</td>\n",
              "      <td>NaN</td>\n",
              "      <td>1</td>\n",
              "    </tr>\n",
              "    <tr>\n",
              "      <td>1</td>\n",
              "      <td>0.736</td>\n",
              "      <td>0.802</td>\n",
              "      <td>0.0</td>\n",
              "      <td>-4.759</td>\n",
              "      <td>1.0</td>\n",
              "      <td>0.0864</td>\n",
              "      <td>0.46800</td>\n",
              "      <td>0.000000</td>\n",
              "      <td>0.0940</td>\n",
              "      <td>0.675</td>\n",
              "      <td>...</td>\n",
              "      <td>spotify:track:7igeByaBM0MgGsgXtNxDJ7</td>\n",
              "      <td>https://api.spotify.com/v1/tracks/7igeByaBM0Mg...</td>\n",
              "      <td>https://api.spotify.com/v1/audio-analysis/7ige...</td>\n",
              "      <td>172325.0</td>\n",
              "      <td>4.0</td>\n",
              "      <td>positions</td>\n",
              "      <td>Ariana Grande</td>\n",
              "      <td>88</td>\n",
              "      <td>NaN</td>\n",
              "      <td>2</td>\n",
              "    </tr>\n",
              "    <tr>\n",
              "      <td>2</td>\n",
              "      <td>0.554</td>\n",
              "      <td>0.576</td>\n",
              "      <td>6.0</td>\n",
              "      <td>-6.495</td>\n",
              "      <td>1.0</td>\n",
              "      <td>0.0399</td>\n",
              "      <td>0.17100</td>\n",
              "      <td>0.000000</td>\n",
              "      <td>0.1590</td>\n",
              "      <td>0.409</td>\n",
              "      <td>...</td>\n",
              "      <td>spotify:track:5cYFwgA5dHoqR3xGnlr9ew</td>\n",
              "      <td>https://api.spotify.com/v1/tracks/5cYFwgA5dHoq...</td>\n",
              "      <td>https://api.spotify.com/v1/audio-analysis/5cYF...</td>\n",
              "      <td>209763.0</td>\n",
              "      <td>4.0</td>\n",
              "      <td>I Hope (feat. Charlie Puth)</td>\n",
              "      <td>Gabby Barrett, Charlie Puth</td>\n",
              "      <td>73</td>\n",
              "      <td>NaN</td>\n",
              "      <td>3</td>\n",
              "    </tr>\n",
              "    <tr>\n",
              "      <td>3</td>\n",
              "      <td>0.761</td>\n",
              "      <td>0.518</td>\n",
              "      <td>0.0</td>\n",
              "      <td>-8.871</td>\n",
              "      <td>1.0</td>\n",
              "      <td>0.1340</td>\n",
              "      <td>0.24400</td>\n",
              "      <td>0.000035</td>\n",
              "      <td>0.1070</td>\n",
              "      <td>0.522</td>\n",
              "      <td>...</td>\n",
              "      <td>spotify:track:2SAqBLGA283SUiwJ3xOUVI</td>\n",
              "      <td>https://api.spotify.com/v1/tracks/2SAqBLGA283S...</td>\n",
              "      <td>https://api.spotify.com/v1/audio-analysis/2SAq...</td>\n",
              "      <td>261493.0</td>\n",
              "      <td>4.0</td>\n",
              "      <td>Laugh Now Cry Later (feat. Lil Durk)</td>\n",
              "      <td>Drake, Lil Durk</td>\n",
              "      <td>93</td>\n",
              "      <td>NaN</td>\n",
              "      <td>4</td>\n",
              "    </tr>\n",
              "    <tr>\n",
              "      <td>4</td>\n",
              "      <td>0.514</td>\n",
              "      <td>0.730</td>\n",
              "      <td>1.0</td>\n",
              "      <td>-5.934</td>\n",
              "      <td>1.0</td>\n",
              "      <td>0.0598</td>\n",
              "      <td>0.00146</td>\n",
              "      <td>0.000095</td>\n",
              "      <td>0.0897</td>\n",
              "      <td>0.334</td>\n",
              "      <td>...</td>\n",
              "      <td>spotify:track:0VjIjW4GlUZAMYd2vXMi3b</td>\n",
              "      <td>https://api.spotify.com/v1/tracks/0VjIjW4GlUZA...</td>\n",
              "      <td>https://api.spotify.com/v1/audio-analysis/0VjI...</td>\n",
              "      <td>200040.0</td>\n",
              "      <td>4.0</td>\n",
              "      <td>Blinding Lights</td>\n",
              "      <td>The Weeknd</td>\n",
              "      <td>96</td>\n",
              "      <td>NaN</td>\n",
              "      <td>5</td>\n",
              "    </tr>\n",
              "    <tr>\n",
              "      <td>...</td>\n",
              "      <td>...</td>\n",
              "      <td>...</td>\n",
              "      <td>...</td>\n",
              "      <td>...</td>\n",
              "      <td>...</td>\n",
              "      <td>...</td>\n",
              "      <td>...</td>\n",
              "      <td>...</td>\n",
              "      <td>...</td>\n",
              "      <td>...</td>\n",
              "      <td>...</td>\n",
              "      <td>...</td>\n",
              "      <td>...</td>\n",
              "      <td>...</td>\n",
              "      <td>...</td>\n",
              "      <td>...</td>\n",
              "      <td>...</td>\n",
              "      <td>...</td>\n",
              "      <td>...</td>\n",
              "      <td>...</td>\n",
              "      <td>...</td>\n",
              "    </tr>\n",
              "    <tr>\n",
              "      <td>1088</td>\n",
              "      <td>0.434</td>\n",
              "      <td>0.764</td>\n",
              "      <td>5.0</td>\n",
              "      <td>-3.450</td>\n",
              "      <td>1.0</td>\n",
              "      <td>0.0299</td>\n",
              "      <td>0.05340</td>\n",
              "      <td>0.000000</td>\n",
              "      <td>0.4370</td>\n",
              "      <td>0.309</td>\n",
              "      <td>...</td>\n",
              "      <td>spotify:track:4gWTBq5Jftq5CEKYpLXD8R</td>\n",
              "      <td>https://api.spotify.com/v1/tracks/4gWTBq5Jftq5...</td>\n",
              "      <td>https://api.spotify.com/v1/audio-analysis/4gWT...</td>\n",
              "      <td>206413.0</td>\n",
              "      <td>4.0</td>\n",
              "      <td>Life After You</td>\n",
              "      <td>Daughtry</td>\n",
              "      <td>52</td>\n",
              "      <td>NaN</td>\n",
              "      <td>96</td>\n",
              "    </tr>\n",
              "    <tr>\n",
              "      <td>1089</td>\n",
              "      <td>0.541</td>\n",
              "      <td>0.812</td>\n",
              "      <td>4.0</td>\n",
              "      <td>-3.764</td>\n",
              "      <td>1.0</td>\n",
              "      <td>0.0336</td>\n",
              "      <td>0.20300</td>\n",
              "      <td>0.000000</td>\n",
              "      <td>0.4200</td>\n",
              "      <td>0.607</td>\n",
              "      <td>...</td>\n",
              "      <td>spotify:track:4ZC8hXXqu2hPcDLw9QTdtQ</td>\n",
              "      <td>https://api.spotify.com/v1/tracks/4ZC8hXXqu2hP...</td>\n",
              "      <td>https://api.spotify.com/v1/audio-analysis/4ZC8...</td>\n",
              "      <td>201627.0</td>\n",
              "      <td>4.0</td>\n",
              "      <td>Smile</td>\n",
              "      <td>Uncle Kracker</td>\n",
              "      <td>69</td>\n",
              "      <td>NaN</td>\n",
              "      <td>97</td>\n",
              "    </tr>\n",
              "    <tr>\n",
              "      <td>1090</td>\n",
              "      <td>0.790</td>\n",
              "      <td>0.454</td>\n",
              "      <td>9.0</td>\n",
              "      <td>-4.603</td>\n",
              "      <td>1.0</td>\n",
              "      <td>0.1840</td>\n",
              "      <td>0.19700</td>\n",
              "      <td>0.000121</td>\n",
              "      <td>0.0938</td>\n",
              "      <td>0.496</td>\n",
              "      <td>...</td>\n",
              "      <td>spotify:track:1BPVgamrhPaT79ol3Xz0J9</td>\n",
              "      <td>https://api.spotify.com/v1/tracks/1BPVgamrhPaT...</td>\n",
              "      <td>https://api.spotify.com/v1/audio-analysis/1BPV...</td>\n",
              "      <td>239760.0</td>\n",
              "      <td>4.0</td>\n",
              "      <td>Teach Me How to Dougie (Explicit Version)</td>\n",
              "      <td>Cali Swag District</td>\n",
              "      <td>0</td>\n",
              "      <td>NaN</td>\n",
              "      <td>98</td>\n",
              "    </tr>\n",
              "    <tr>\n",
              "      <td>1091</td>\n",
              "      <td>NaN</td>\n",
              "      <td>NaN</td>\n",
              "      <td>NaN</td>\n",
              "      <td>NaN</td>\n",
              "      <td>NaN</td>\n",
              "      <td>NaN</td>\n",
              "      <td>NaN</td>\n",
              "      <td>NaN</td>\n",
              "      <td>NaN</td>\n",
              "      <td>NaN</td>\n",
              "      <td>...</td>\n",
              "      <td>NaN</td>\n",
              "      <td>NaN</td>\n",
              "      <td>NaN</td>\n",
              "      <td>NaN</td>\n",
              "      <td>NaN</td>\n",
              "      <td>Try Sleeping with a Broken Heart</td>\n",
              "      <td>Alicia Keys</td>\n",
              "      <td>62</td>\n",
              "      <td>{'status': 429, 'message': 'API rate limit exc...</td>\n",
              "      <td>99</td>\n",
              "    </tr>\n",
              "    <tr>\n",
              "      <td>1092</td>\n",
              "      <td>NaN</td>\n",
              "      <td>NaN</td>\n",
              "      <td>NaN</td>\n",
              "      <td>NaN</td>\n",
              "      <td>NaN</td>\n",
              "      <td>NaN</td>\n",
              "      <td>NaN</td>\n",
              "      <td>NaN</td>\n",
              "      <td>NaN</td>\n",
              "      <td>NaN</td>\n",
              "      <td>...</td>\n",
              "      <td>NaN</td>\n",
              "      <td>NaN</td>\n",
              "      <td>NaN</td>\n",
              "      <td>NaN</td>\n",
              "      <td>NaN</td>\n",
              "      <td>Lover, Lover</td>\n",
              "      <td>Jerrod Niemann</td>\n",
              "      <td>60</td>\n",
              "      <td>{'status': 429, 'message': 'API rate limit exc...</td>\n",
              "      <td>100</td>\n",
              "    </tr>\n",
              "  </tbody>\n",
              "</table>\n",
              "<p>1093 rows × 23 columns</p>\n",
              "</div>"
            ],
            "text/plain": [
              "      danceability  energy  key  loudness  mode  speechiness  acousticness  \\\n",
              "0            0.700   0.722  7.0    -3.558   0.0       0.0369       0.22100   \n",
              "1            0.736   0.802  0.0    -4.759   1.0       0.0864       0.46800   \n",
              "2            0.554   0.576  6.0    -6.495   1.0       0.0399       0.17100   \n",
              "3            0.761   0.518  0.0    -8.871   1.0       0.1340       0.24400   \n",
              "4            0.514   0.730  1.0    -5.934   1.0       0.0598       0.00146   \n",
              "...            ...     ...  ...       ...   ...          ...           ...   \n",
              "1088         0.434   0.764  5.0    -3.450   1.0       0.0299       0.05340   \n",
              "1089         0.541   0.812  4.0    -3.764   1.0       0.0336       0.20300   \n",
              "1090         0.790   0.454  9.0    -4.603   1.0       0.1840       0.19700   \n",
              "1091           NaN     NaN  NaN       NaN   NaN          NaN           NaN   \n",
              "1092           NaN     NaN  NaN       NaN   NaN          NaN           NaN   \n",
              "\n",
              "      instrumentalness  liveness  valence  ...  \\\n",
              "0             0.000000    0.2720    0.756  ...   \n",
              "1             0.000000    0.0940    0.675  ...   \n",
              "2             0.000000    0.1590    0.409  ...   \n",
              "3             0.000035    0.1070    0.522  ...   \n",
              "4             0.000095    0.0897    0.334  ...   \n",
              "...                ...       ...      ...  ...   \n",
              "1088          0.000000    0.4370    0.309  ...   \n",
              "1089          0.000000    0.4200    0.607  ...   \n",
              "1090          0.000121    0.0938    0.496  ...   \n",
              "1091               NaN       NaN      NaN  ...   \n",
              "1092               NaN       NaN      NaN  ...   \n",
              "\n",
              "                                       uri  \\\n",
              "0     spotify:track:3tjFYV6RSFtuktYl3ZtYcq   \n",
              "1     spotify:track:7igeByaBM0MgGsgXtNxDJ7   \n",
              "2     spotify:track:5cYFwgA5dHoqR3xGnlr9ew   \n",
              "3     spotify:track:2SAqBLGA283SUiwJ3xOUVI   \n",
              "4     spotify:track:0VjIjW4GlUZAMYd2vXMi3b   \n",
              "...                                    ...   \n",
              "1088  spotify:track:4gWTBq5Jftq5CEKYpLXD8R   \n",
              "1089  spotify:track:4ZC8hXXqu2hPcDLw9QTdtQ   \n",
              "1090  spotify:track:1BPVgamrhPaT79ol3Xz0J9   \n",
              "1091                                   NaN   \n",
              "1092                                   NaN   \n",
              "\n",
              "                                             track_href  \\\n",
              "0     https://api.spotify.com/v1/tracks/3tjFYV6RSFtu...   \n",
              "1     https://api.spotify.com/v1/tracks/7igeByaBM0Mg...   \n",
              "2     https://api.spotify.com/v1/tracks/5cYFwgA5dHoq...   \n",
              "3     https://api.spotify.com/v1/tracks/2SAqBLGA283S...   \n",
              "4     https://api.spotify.com/v1/tracks/0VjIjW4GlUZA...   \n",
              "...                                                 ...   \n",
              "1088  https://api.spotify.com/v1/tracks/4gWTBq5Jftq5...   \n",
              "1089  https://api.spotify.com/v1/tracks/4ZC8hXXqu2hP...   \n",
              "1090  https://api.spotify.com/v1/tracks/1BPVgamrhPaT...   \n",
              "1091                                                NaN   \n",
              "1092                                                NaN   \n",
              "\n",
              "                                           analysis_url duration_ms  \\\n",
              "0     https://api.spotify.com/v1/audio-analysis/3tjF...    140526.0   \n",
              "1     https://api.spotify.com/v1/audio-analysis/7ige...    172325.0   \n",
              "2     https://api.spotify.com/v1/audio-analysis/5cYF...    209763.0   \n",
              "3     https://api.spotify.com/v1/audio-analysis/2SAq...    261493.0   \n",
              "4     https://api.spotify.com/v1/audio-analysis/0VjI...    200040.0   \n",
              "...                                                 ...         ...   \n",
              "1088  https://api.spotify.com/v1/audio-analysis/4gWT...    206413.0   \n",
              "1089  https://api.spotify.com/v1/audio-analysis/4ZC8...    201627.0   \n",
              "1090  https://api.spotify.com/v1/audio-analysis/1BPV...    239760.0   \n",
              "1091                                                NaN         NaN   \n",
              "1092                                                NaN         NaN   \n",
              "\n",
              "     time_signature                                  song_name  \\\n",
              "0               4.0                     Mood (feat. iann dior)   \n",
              "1               4.0                                  positions   \n",
              "2               4.0                I Hope (feat. Charlie Puth)   \n",
              "3               4.0       Laugh Now Cry Later (feat. Lil Durk)   \n",
              "4               4.0                            Blinding Lights   \n",
              "...             ...                                        ...   \n",
              "1088            4.0                             Life After You   \n",
              "1089            4.0                                      Smile   \n",
              "1090            4.0  Teach Me How to Dougie (Explicit Version)   \n",
              "1091            NaN           Try Sleeping with a Broken Heart   \n",
              "1092            NaN                               Lover, Lover   \n",
              "\n",
              "                    artists names  popularity  \\\n",
              "0             24kGoldn, iann dior          99   \n",
              "1                   Ariana Grande          88   \n",
              "2     Gabby Barrett, Charlie Puth          73   \n",
              "3                 Drake, Lil Durk          93   \n",
              "4                      The Weeknd          96   \n",
              "...                           ...         ...   \n",
              "1088                     Daughtry          52   \n",
              "1089                Uncle Kracker          69   \n",
              "1090           Cali Swag District           0   \n",
              "1091                  Alicia Keys          62   \n",
              "1092               Jerrod Niemann          60   \n",
              "\n",
              "                                                  error ranking  \n",
              "0                                                   NaN       1  \n",
              "1                                                   NaN       2  \n",
              "2                                                   NaN       3  \n",
              "3                                                   NaN       4  \n",
              "4                                                   NaN       5  \n",
              "...                                                 ...     ...  \n",
              "1088                                                NaN      96  \n",
              "1089                                                NaN      97  \n",
              "1090                                                NaN      98  \n",
              "1091  {'status': 429, 'message': 'API rate limit exc...      99  \n",
              "1092  {'status': 429, 'message': 'API rate limit exc...     100  \n",
              "\n",
              "[1093 rows x 23 columns]"
            ]
          },
          "metadata": {
            "tags": []
          },
          "execution_count": 95
        }
      ]
    },
    {
      "cell_type": "code",
      "metadata": {
        "id": "ruhnX7ovrYCQ"
      },
      "source": [
        "#check NaN\n",
        "b=bb.drop('error',axis=1)\n",
        "b.isnull().any()"
      ],
      "execution_count": null,
      "outputs": []
    },
    {
      "cell_type": "code",
      "metadata": {
        "id": "_NYh4ArBvIkN",
        "outputId": "f244013b-3565-40f3-86ef-37359c28a89a"
      },
      "source": [
        "#b=b.fillna(method='ffill')  #.fillna(0)\n",
        "b.dropna(inplace=True)\n",
        "b.isnull().any()"
      ],
      "execution_count": null,
      "outputs": [
        {
          "output_type": "execute_result",
          "data": {
            "text/plain": [
              "danceability        False\n",
              "energy              False\n",
              "key                 False\n",
              "loudness            False\n",
              "mode                False\n",
              "speechiness         False\n",
              "acousticness        False\n",
              "instrumentalness    False\n",
              "liveness            False\n",
              "valence             False\n",
              "tempo               False\n",
              "type                False\n",
              "id                  False\n",
              "uri                 False\n",
              "track_href          False\n",
              "analysis_url        False\n",
              "duration_ms         False\n",
              "time_signature      False\n",
              "song_name           False\n",
              "artists names       False\n",
              "popularity          False\n",
              "ranking             False\n",
              "dtype: bool"
            ]
          },
          "metadata": {
            "tags": []
          },
          "execution_count": 99
        }
      ]
    },
    {
      "cell_type": "code",
      "metadata": {
        "id": "5pwCEQjGs27i",
        "outputId": "8e41b60c-fc6e-46f9-db3f-c41f7c8eedb4"
      },
      "source": [
        "b"
      ],
      "execution_count": null,
      "outputs": [
        {
          "output_type": "execute_result",
          "data": {
            "text/html": [
              "<div>\n",
              "<style scoped>\n",
              "    .dataframe tbody tr th:only-of-type {\n",
              "        vertical-align: middle;\n",
              "    }\n",
              "\n",
              "    .dataframe tbody tr th {\n",
              "        vertical-align: top;\n",
              "    }\n",
              "\n",
              "    .dataframe thead th {\n",
              "        text-align: right;\n",
              "    }\n",
              "</style>\n",
              "<table border=\"1\" class=\"dataframe\">\n",
              "  <thead>\n",
              "    <tr style=\"text-align: right;\">\n",
              "      <th></th>\n",
              "      <th>danceability</th>\n",
              "      <th>energy</th>\n",
              "      <th>key</th>\n",
              "      <th>loudness</th>\n",
              "      <th>mode</th>\n",
              "      <th>speechiness</th>\n",
              "      <th>acousticness</th>\n",
              "      <th>instrumentalness</th>\n",
              "      <th>liveness</th>\n",
              "      <th>valence</th>\n",
              "      <th>...</th>\n",
              "      <th>id</th>\n",
              "      <th>uri</th>\n",
              "      <th>track_href</th>\n",
              "      <th>analysis_url</th>\n",
              "      <th>duration_ms</th>\n",
              "      <th>time_signature</th>\n",
              "      <th>song_name</th>\n",
              "      <th>artists names</th>\n",
              "      <th>popularity</th>\n",
              "      <th>ranking</th>\n",
              "    </tr>\n",
              "  </thead>\n",
              "  <tbody>\n",
              "    <tr>\n",
              "      <td>0</td>\n",
              "      <td>0.700</td>\n",
              "      <td>0.722</td>\n",
              "      <td>7.0</td>\n",
              "      <td>-3.558</td>\n",
              "      <td>0.0</td>\n",
              "      <td>0.0369</td>\n",
              "      <td>0.22100</td>\n",
              "      <td>0.000000</td>\n",
              "      <td>0.2720</td>\n",
              "      <td>0.756</td>\n",
              "      <td>...</td>\n",
              "      <td>3tjFYV6RSFtuktYl3ZtYcq</td>\n",
              "      <td>spotify:track:3tjFYV6RSFtuktYl3ZtYcq</td>\n",
              "      <td>https://api.spotify.com/v1/tracks/3tjFYV6RSFtu...</td>\n",
              "      <td>https://api.spotify.com/v1/audio-analysis/3tjF...</td>\n",
              "      <td>140526.0</td>\n",
              "      <td>4.0</td>\n",
              "      <td>Mood (feat. iann dior)</td>\n",
              "      <td>24kGoldn, iann dior</td>\n",
              "      <td>99</td>\n",
              "      <td>1</td>\n",
              "    </tr>\n",
              "    <tr>\n",
              "      <td>1</td>\n",
              "      <td>0.736</td>\n",
              "      <td>0.802</td>\n",
              "      <td>0.0</td>\n",
              "      <td>-4.759</td>\n",
              "      <td>1.0</td>\n",
              "      <td>0.0864</td>\n",
              "      <td>0.46800</td>\n",
              "      <td>0.000000</td>\n",
              "      <td>0.0940</td>\n",
              "      <td>0.675</td>\n",
              "      <td>...</td>\n",
              "      <td>7igeByaBM0MgGsgXtNxDJ7</td>\n",
              "      <td>spotify:track:7igeByaBM0MgGsgXtNxDJ7</td>\n",
              "      <td>https://api.spotify.com/v1/tracks/7igeByaBM0Mg...</td>\n",
              "      <td>https://api.spotify.com/v1/audio-analysis/7ige...</td>\n",
              "      <td>172325.0</td>\n",
              "      <td>4.0</td>\n",
              "      <td>positions</td>\n",
              "      <td>Ariana Grande</td>\n",
              "      <td>88</td>\n",
              "      <td>2</td>\n",
              "    </tr>\n",
              "    <tr>\n",
              "      <td>2</td>\n",
              "      <td>0.554</td>\n",
              "      <td>0.576</td>\n",
              "      <td>6.0</td>\n",
              "      <td>-6.495</td>\n",
              "      <td>1.0</td>\n",
              "      <td>0.0399</td>\n",
              "      <td>0.17100</td>\n",
              "      <td>0.000000</td>\n",
              "      <td>0.1590</td>\n",
              "      <td>0.409</td>\n",
              "      <td>...</td>\n",
              "      <td>5cYFwgA5dHoqR3xGnlr9ew</td>\n",
              "      <td>spotify:track:5cYFwgA5dHoqR3xGnlr9ew</td>\n",
              "      <td>https://api.spotify.com/v1/tracks/5cYFwgA5dHoq...</td>\n",
              "      <td>https://api.spotify.com/v1/audio-analysis/5cYF...</td>\n",
              "      <td>209763.0</td>\n",
              "      <td>4.0</td>\n",
              "      <td>I Hope (feat. Charlie Puth)</td>\n",
              "      <td>Gabby Barrett, Charlie Puth</td>\n",
              "      <td>73</td>\n",
              "      <td>3</td>\n",
              "    </tr>\n",
              "    <tr>\n",
              "      <td>3</td>\n",
              "      <td>0.761</td>\n",
              "      <td>0.518</td>\n",
              "      <td>0.0</td>\n",
              "      <td>-8.871</td>\n",
              "      <td>1.0</td>\n",
              "      <td>0.1340</td>\n",
              "      <td>0.24400</td>\n",
              "      <td>0.000035</td>\n",
              "      <td>0.1070</td>\n",
              "      <td>0.522</td>\n",
              "      <td>...</td>\n",
              "      <td>2SAqBLGA283SUiwJ3xOUVI</td>\n",
              "      <td>spotify:track:2SAqBLGA283SUiwJ3xOUVI</td>\n",
              "      <td>https://api.spotify.com/v1/tracks/2SAqBLGA283S...</td>\n",
              "      <td>https://api.spotify.com/v1/audio-analysis/2SAq...</td>\n",
              "      <td>261493.0</td>\n",
              "      <td>4.0</td>\n",
              "      <td>Laugh Now Cry Later (feat. Lil Durk)</td>\n",
              "      <td>Drake, Lil Durk</td>\n",
              "      <td>93</td>\n",
              "      <td>4</td>\n",
              "    </tr>\n",
              "    <tr>\n",
              "      <td>4</td>\n",
              "      <td>0.514</td>\n",
              "      <td>0.730</td>\n",
              "      <td>1.0</td>\n",
              "      <td>-5.934</td>\n",
              "      <td>1.0</td>\n",
              "      <td>0.0598</td>\n",
              "      <td>0.00146</td>\n",
              "      <td>0.000095</td>\n",
              "      <td>0.0897</td>\n",
              "      <td>0.334</td>\n",
              "      <td>...</td>\n",
              "      <td>0VjIjW4GlUZAMYd2vXMi3b</td>\n",
              "      <td>spotify:track:0VjIjW4GlUZAMYd2vXMi3b</td>\n",
              "      <td>https://api.spotify.com/v1/tracks/0VjIjW4GlUZA...</td>\n",
              "      <td>https://api.spotify.com/v1/audio-analysis/0VjI...</td>\n",
              "      <td>200040.0</td>\n",
              "      <td>4.0</td>\n",
              "      <td>Blinding Lights</td>\n",
              "      <td>The Weeknd</td>\n",
              "      <td>96</td>\n",
              "      <td>5</td>\n",
              "    </tr>\n",
              "    <tr>\n",
              "      <td>...</td>\n",
              "      <td>...</td>\n",
              "      <td>...</td>\n",
              "      <td>...</td>\n",
              "      <td>...</td>\n",
              "      <td>...</td>\n",
              "      <td>...</td>\n",
              "      <td>...</td>\n",
              "      <td>...</td>\n",
              "      <td>...</td>\n",
              "      <td>...</td>\n",
              "      <td>...</td>\n",
              "      <td>...</td>\n",
              "      <td>...</td>\n",
              "      <td>...</td>\n",
              "      <td>...</td>\n",
              "      <td>...</td>\n",
              "      <td>...</td>\n",
              "      <td>...</td>\n",
              "      <td>...</td>\n",
              "      <td>...</td>\n",
              "      <td>...</td>\n",
              "    </tr>\n",
              "    <tr>\n",
              "      <td>1086</td>\n",
              "      <td>0.588</td>\n",
              "      <td>0.684</td>\n",
              "      <td>1.0</td>\n",
              "      <td>-5.154</td>\n",
              "      <td>1.0</td>\n",
              "      <td>0.0288</td>\n",
              "      <td>0.50800</td>\n",
              "      <td>0.000000</td>\n",
              "      <td>0.1410</td>\n",
              "      <td>0.121</td>\n",
              "      <td>...</td>\n",
              "      <td>4xInIiKipU1mtUogJ3ZdYr</td>\n",
              "      <td>spotify:track:4xInIiKipU1mtUogJ3ZdYr</td>\n",
              "      <td>https://api.spotify.com/v1/tracks/4xInIiKipU1m...</td>\n",
              "      <td>https://api.spotify.com/v1/audio-analysis/4xIn...</td>\n",
              "      <td>224867.0</td>\n",
              "      <td>4.0</td>\n",
              "      <td>American Honey</td>\n",
              "      <td>Lady A</td>\n",
              "      <td>63</td>\n",
              "      <td>94</td>\n",
              "    </tr>\n",
              "    <tr>\n",
              "      <td>1087</td>\n",
              "      <td>0.676</td>\n",
              "      <td>0.762</td>\n",
              "      <td>1.0</td>\n",
              "      <td>-4.172</td>\n",
              "      <td>1.0</td>\n",
              "      <td>0.0351</td>\n",
              "      <td>0.46100</td>\n",
              "      <td>0.000000</td>\n",
              "      <td>0.0574</td>\n",
              "      <td>0.810</td>\n",
              "      <td>...</td>\n",
              "      <td>3VA8T3rNy5V24AXxNK5u9E</td>\n",
              "      <td>spotify:track:3VA8T3rNy5V24AXxNK5u9E</td>\n",
              "      <td>https://api.spotify.com/v1/tracks/3VA8T3rNy5V2...</td>\n",
              "      <td>https://api.spotify.com/v1/audio-analysis/3VA8...</td>\n",
              "      <td>207493.0</td>\n",
              "      <td>4.0</td>\n",
              "      <td>King of Anything</td>\n",
              "      <td>Sara Bareilles</td>\n",
              "      <td>63</td>\n",
              "      <td>95</td>\n",
              "    </tr>\n",
              "    <tr>\n",
              "      <td>1088</td>\n",
              "      <td>0.434</td>\n",
              "      <td>0.764</td>\n",
              "      <td>5.0</td>\n",
              "      <td>-3.450</td>\n",
              "      <td>1.0</td>\n",
              "      <td>0.0299</td>\n",
              "      <td>0.05340</td>\n",
              "      <td>0.000000</td>\n",
              "      <td>0.4370</td>\n",
              "      <td>0.309</td>\n",
              "      <td>...</td>\n",
              "      <td>4gWTBq5Jftq5CEKYpLXD8R</td>\n",
              "      <td>spotify:track:4gWTBq5Jftq5CEKYpLXD8R</td>\n",
              "      <td>https://api.spotify.com/v1/tracks/4gWTBq5Jftq5...</td>\n",
              "      <td>https://api.spotify.com/v1/audio-analysis/4gWT...</td>\n",
              "      <td>206413.0</td>\n",
              "      <td>4.0</td>\n",
              "      <td>Life After You</td>\n",
              "      <td>Daughtry</td>\n",
              "      <td>52</td>\n",
              "      <td>96</td>\n",
              "    </tr>\n",
              "    <tr>\n",
              "      <td>1089</td>\n",
              "      <td>0.541</td>\n",
              "      <td>0.812</td>\n",
              "      <td>4.0</td>\n",
              "      <td>-3.764</td>\n",
              "      <td>1.0</td>\n",
              "      <td>0.0336</td>\n",
              "      <td>0.20300</td>\n",
              "      <td>0.000000</td>\n",
              "      <td>0.4200</td>\n",
              "      <td>0.607</td>\n",
              "      <td>...</td>\n",
              "      <td>4ZC8hXXqu2hPcDLw9QTdtQ</td>\n",
              "      <td>spotify:track:4ZC8hXXqu2hPcDLw9QTdtQ</td>\n",
              "      <td>https://api.spotify.com/v1/tracks/4ZC8hXXqu2hP...</td>\n",
              "      <td>https://api.spotify.com/v1/audio-analysis/4ZC8...</td>\n",
              "      <td>201627.0</td>\n",
              "      <td>4.0</td>\n",
              "      <td>Smile</td>\n",
              "      <td>Uncle Kracker</td>\n",
              "      <td>69</td>\n",
              "      <td>97</td>\n",
              "    </tr>\n",
              "    <tr>\n",
              "      <td>1090</td>\n",
              "      <td>0.790</td>\n",
              "      <td>0.454</td>\n",
              "      <td>9.0</td>\n",
              "      <td>-4.603</td>\n",
              "      <td>1.0</td>\n",
              "      <td>0.1840</td>\n",
              "      <td>0.19700</td>\n",
              "      <td>0.000121</td>\n",
              "      <td>0.0938</td>\n",
              "      <td>0.496</td>\n",
              "      <td>...</td>\n",
              "      <td>1BPVgamrhPaT79ol3Xz0J9</td>\n",
              "      <td>spotify:track:1BPVgamrhPaT79ol3Xz0J9</td>\n",
              "      <td>https://api.spotify.com/v1/tracks/1BPVgamrhPaT...</td>\n",
              "      <td>https://api.spotify.com/v1/audio-analysis/1BPV...</td>\n",
              "      <td>239760.0</td>\n",
              "      <td>4.0</td>\n",
              "      <td>Teach Me How to Dougie (Explicit Version)</td>\n",
              "      <td>Cali Swag District</td>\n",
              "      <td>0</td>\n",
              "      <td>98</td>\n",
              "    </tr>\n",
              "  </tbody>\n",
              "</table>\n",
              "<p>888 rows × 22 columns</p>\n",
              "</div>"
            ],
            "text/plain": [
              "      danceability  energy  key  loudness  mode  speechiness  acousticness  \\\n",
              "0            0.700   0.722  7.0    -3.558   0.0       0.0369       0.22100   \n",
              "1            0.736   0.802  0.0    -4.759   1.0       0.0864       0.46800   \n",
              "2            0.554   0.576  6.0    -6.495   1.0       0.0399       0.17100   \n",
              "3            0.761   0.518  0.0    -8.871   1.0       0.1340       0.24400   \n",
              "4            0.514   0.730  1.0    -5.934   1.0       0.0598       0.00146   \n",
              "...            ...     ...  ...       ...   ...          ...           ...   \n",
              "1086         0.588   0.684  1.0    -5.154   1.0       0.0288       0.50800   \n",
              "1087         0.676   0.762  1.0    -4.172   1.0       0.0351       0.46100   \n",
              "1088         0.434   0.764  5.0    -3.450   1.0       0.0299       0.05340   \n",
              "1089         0.541   0.812  4.0    -3.764   1.0       0.0336       0.20300   \n",
              "1090         0.790   0.454  9.0    -4.603   1.0       0.1840       0.19700   \n",
              "\n",
              "      instrumentalness  liveness  valence  ...                      id  \\\n",
              "0             0.000000    0.2720    0.756  ...  3tjFYV6RSFtuktYl3ZtYcq   \n",
              "1             0.000000    0.0940    0.675  ...  7igeByaBM0MgGsgXtNxDJ7   \n",
              "2             0.000000    0.1590    0.409  ...  5cYFwgA5dHoqR3xGnlr9ew   \n",
              "3             0.000035    0.1070    0.522  ...  2SAqBLGA283SUiwJ3xOUVI   \n",
              "4             0.000095    0.0897    0.334  ...  0VjIjW4GlUZAMYd2vXMi3b   \n",
              "...                ...       ...      ...  ...                     ...   \n",
              "1086          0.000000    0.1410    0.121  ...  4xInIiKipU1mtUogJ3ZdYr   \n",
              "1087          0.000000    0.0574    0.810  ...  3VA8T3rNy5V24AXxNK5u9E   \n",
              "1088          0.000000    0.4370    0.309  ...  4gWTBq5Jftq5CEKYpLXD8R   \n",
              "1089          0.000000    0.4200    0.607  ...  4ZC8hXXqu2hPcDLw9QTdtQ   \n",
              "1090          0.000121    0.0938    0.496  ...  1BPVgamrhPaT79ol3Xz0J9   \n",
              "\n",
              "                                       uri  \\\n",
              "0     spotify:track:3tjFYV6RSFtuktYl3ZtYcq   \n",
              "1     spotify:track:7igeByaBM0MgGsgXtNxDJ7   \n",
              "2     spotify:track:5cYFwgA5dHoqR3xGnlr9ew   \n",
              "3     spotify:track:2SAqBLGA283SUiwJ3xOUVI   \n",
              "4     spotify:track:0VjIjW4GlUZAMYd2vXMi3b   \n",
              "...                                    ...   \n",
              "1086  spotify:track:4xInIiKipU1mtUogJ3ZdYr   \n",
              "1087  spotify:track:3VA8T3rNy5V24AXxNK5u9E   \n",
              "1088  spotify:track:4gWTBq5Jftq5CEKYpLXD8R   \n",
              "1089  spotify:track:4ZC8hXXqu2hPcDLw9QTdtQ   \n",
              "1090  spotify:track:1BPVgamrhPaT79ol3Xz0J9   \n",
              "\n",
              "                                             track_href  \\\n",
              "0     https://api.spotify.com/v1/tracks/3tjFYV6RSFtu...   \n",
              "1     https://api.spotify.com/v1/tracks/7igeByaBM0Mg...   \n",
              "2     https://api.spotify.com/v1/tracks/5cYFwgA5dHoq...   \n",
              "3     https://api.spotify.com/v1/tracks/2SAqBLGA283S...   \n",
              "4     https://api.spotify.com/v1/tracks/0VjIjW4GlUZA...   \n",
              "...                                                 ...   \n",
              "1086  https://api.spotify.com/v1/tracks/4xInIiKipU1m...   \n",
              "1087  https://api.spotify.com/v1/tracks/3VA8T3rNy5V2...   \n",
              "1088  https://api.spotify.com/v1/tracks/4gWTBq5Jftq5...   \n",
              "1089  https://api.spotify.com/v1/tracks/4ZC8hXXqu2hP...   \n",
              "1090  https://api.spotify.com/v1/tracks/1BPVgamrhPaT...   \n",
              "\n",
              "                                           analysis_url duration_ms  \\\n",
              "0     https://api.spotify.com/v1/audio-analysis/3tjF...    140526.0   \n",
              "1     https://api.spotify.com/v1/audio-analysis/7ige...    172325.0   \n",
              "2     https://api.spotify.com/v1/audio-analysis/5cYF...    209763.0   \n",
              "3     https://api.spotify.com/v1/audio-analysis/2SAq...    261493.0   \n",
              "4     https://api.spotify.com/v1/audio-analysis/0VjI...    200040.0   \n",
              "...                                                 ...         ...   \n",
              "1086  https://api.spotify.com/v1/audio-analysis/4xIn...    224867.0   \n",
              "1087  https://api.spotify.com/v1/audio-analysis/3VA8...    207493.0   \n",
              "1088  https://api.spotify.com/v1/audio-analysis/4gWT...    206413.0   \n",
              "1089  https://api.spotify.com/v1/audio-analysis/4ZC8...    201627.0   \n",
              "1090  https://api.spotify.com/v1/audio-analysis/1BPV...    239760.0   \n",
              "\n",
              "     time_signature                                  song_name  \\\n",
              "0               4.0                     Mood (feat. iann dior)   \n",
              "1               4.0                                  positions   \n",
              "2               4.0                I Hope (feat. Charlie Puth)   \n",
              "3               4.0       Laugh Now Cry Later (feat. Lil Durk)   \n",
              "4               4.0                            Blinding Lights   \n",
              "...             ...                                        ...   \n",
              "1086            4.0                             American Honey   \n",
              "1087            4.0                           King of Anything   \n",
              "1088            4.0                             Life After You   \n",
              "1089            4.0                                      Smile   \n",
              "1090            4.0  Teach Me How to Dougie (Explicit Version)   \n",
              "\n",
              "                    artists names popularity ranking  \n",
              "0             24kGoldn, iann dior         99       1  \n",
              "1                   Ariana Grande         88       2  \n",
              "2     Gabby Barrett, Charlie Puth         73       3  \n",
              "3                 Drake, Lil Durk         93       4  \n",
              "4                      The Weeknd         96       5  \n",
              "...                           ...        ...     ...  \n",
              "1086                       Lady A         63      94  \n",
              "1087               Sara Bareilles         63      95  \n",
              "1088                     Daughtry         52      96  \n",
              "1089                Uncle Kracker         69      97  \n",
              "1090           Cali Swag District          0      98  \n",
              "\n",
              "[888 rows x 22 columns]"
            ]
          },
          "metadata": {
            "tags": []
          },
          "execution_count": 100
        }
      ]
    },
    {
      "cell_type": "code",
      "metadata": {
        "id": "wxGKLkrTS2Ys",
        "outputId": "412251aa-d693-408c-d45f-6208e0dc526c"
      },
      "source": [
        "b.describe()"
      ],
      "execution_count": null,
      "outputs": [
        {
          "output_type": "execute_result",
          "data": {
            "text/html": [
              "<div>\n",
              "<style scoped>\n",
              "    .dataframe tbody tr th:only-of-type {\n",
              "        vertical-align: middle;\n",
              "    }\n",
              "\n",
              "    .dataframe tbody tr th {\n",
              "        vertical-align: top;\n",
              "    }\n",
              "\n",
              "    .dataframe thead th {\n",
              "        text-align: right;\n",
              "    }\n",
              "</style>\n",
              "<table border=\"1\" class=\"dataframe\">\n",
              "  <thead>\n",
              "    <tr style=\"text-align: right;\">\n",
              "      <th></th>\n",
              "      <th>danceability</th>\n",
              "      <th>energy</th>\n",
              "      <th>key</th>\n",
              "      <th>loudness</th>\n",
              "      <th>mode</th>\n",
              "      <th>speechiness</th>\n",
              "      <th>acousticness</th>\n",
              "      <th>instrumentalness</th>\n",
              "      <th>liveness</th>\n",
              "      <th>valence</th>\n",
              "      <th>tempo</th>\n",
              "      <th>duration_ms</th>\n",
              "      <th>time_signature</th>\n",
              "      <th>popularity</th>\n",
              "      <th>ranking</th>\n",
              "    </tr>\n",
              "  </thead>\n",
              "  <tbody>\n",
              "    <tr>\n",
              "      <td>count</td>\n",
              "      <td>888.000000</td>\n",
              "      <td>888.000000</td>\n",
              "      <td>888.000000</td>\n",
              "      <td>888.000000</td>\n",
              "      <td>888.000000</td>\n",
              "      <td>888.000000</td>\n",
              "      <td>888.000000</td>\n",
              "      <td>888.000000</td>\n",
              "      <td>888.000000</td>\n",
              "      <td>888.000000</td>\n",
              "      <td>888.000000</td>\n",
              "      <td>888.000000</td>\n",
              "      <td>888.000000</td>\n",
              "      <td>888.000000</td>\n",
              "      <td>888.000000</td>\n",
              "    </tr>\n",
              "    <tr>\n",
              "      <td>mean</td>\n",
              "      <td>0.666886</td>\n",
              "      <td>0.676983</td>\n",
              "      <td>5.415541</td>\n",
              "      <td>-5.756955</td>\n",
              "      <td>0.623874</td>\n",
              "      <td>0.106002</td>\n",
              "      <td>0.147205</td>\n",
              "      <td>0.004023</td>\n",
              "      <td>0.177014</td>\n",
              "      <td>0.510164</td>\n",
              "      <td>122.737676</td>\n",
              "      <td>219487.802928</td>\n",
              "      <td>3.989865</td>\n",
              "      <td>50.617117</td>\n",
              "      <td>49.373874</td>\n",
              "    </tr>\n",
              "    <tr>\n",
              "      <td>std</td>\n",
              "      <td>0.136429</td>\n",
              "      <td>0.157626</td>\n",
              "      <td>3.640816</td>\n",
              "      <td>2.698557</td>\n",
              "      <td>0.484685</td>\n",
              "      <td>0.101044</td>\n",
              "      <td>0.190801</td>\n",
              "      <td>0.035565</td>\n",
              "      <td>0.131787</td>\n",
              "      <td>0.216491</td>\n",
              "      <td>28.355879</td>\n",
              "      <td>36597.586996</td>\n",
              "      <td>0.270514</td>\n",
              "      <td>32.852028</td>\n",
              "      <td>28.680408</td>\n",
              "    </tr>\n",
              "    <tr>\n",
              "      <td>min</td>\n",
              "      <td>0.000000</td>\n",
              "      <td>0.000000</td>\n",
              "      <td>0.000000</td>\n",
              "      <td>-60.000000</td>\n",
              "      <td>0.000000</td>\n",
              "      <td>0.000000</td>\n",
              "      <td>0.000000</td>\n",
              "      <td>0.000000</td>\n",
              "      <td>0.000000</td>\n",
              "      <td>0.000000</td>\n",
              "      <td>0.000000</td>\n",
              "      <td>78200.000000</td>\n",
              "      <td>0.000000</td>\n",
              "      <td>0.000000</td>\n",
              "      <td>1.000000</td>\n",
              "    </tr>\n",
              "    <tr>\n",
              "      <td>25%</td>\n",
              "      <td>0.586750</td>\n",
              "      <td>0.578000</td>\n",
              "      <td>2.000000</td>\n",
              "      <td>-6.737500</td>\n",
              "      <td>0.000000</td>\n",
              "      <td>0.041475</td>\n",
              "      <td>0.018300</td>\n",
              "      <td>0.000000</td>\n",
              "      <td>0.093975</td>\n",
              "      <td>0.344750</td>\n",
              "      <td>99.966000</td>\n",
              "      <td>198659.750000</td>\n",
              "      <td>4.000000</td>\n",
              "      <td>3.750000</td>\n",
              "      <td>24.000000</td>\n",
              "    </tr>\n",
              "    <tr>\n",
              "      <td>50%</td>\n",
              "      <td>0.677000</td>\n",
              "      <td>0.696000</td>\n",
              "      <td>6.000000</td>\n",
              "      <td>-5.413000</td>\n",
              "      <td>1.000000</td>\n",
              "      <td>0.060000</td>\n",
              "      <td>0.067950</td>\n",
              "      <td>0.000000</td>\n",
              "      <td>0.124500</td>\n",
              "      <td>0.505000</td>\n",
              "      <td>123.454500</td>\n",
              "      <td>217753.500000</td>\n",
              "      <td>4.000000</td>\n",
              "      <td>66.000000</td>\n",
              "      <td>49.000000</td>\n",
              "    </tr>\n",
              "    <tr>\n",
              "      <td>75%</td>\n",
              "      <td>0.755500</td>\n",
              "      <td>0.797000</td>\n",
              "      <td>8.250000</td>\n",
              "      <td>-4.324500</td>\n",
              "      <td>1.000000</td>\n",
              "      <td>0.126500</td>\n",
              "      <td>0.203000</td>\n",
              "      <td>0.000008</td>\n",
              "      <td>0.212000</td>\n",
              "      <td>0.684000</td>\n",
              "      <td>139.983000</td>\n",
              "      <td>237653.750000</td>\n",
              "      <td>4.000000</td>\n",
              "      <td>76.000000</td>\n",
              "      <td>74.000000</td>\n",
              "    </tr>\n",
              "    <tr>\n",
              "      <td>max</td>\n",
              "      <td>0.970000</td>\n",
              "      <td>0.972000</td>\n",
              "      <td>11.000000</td>\n",
              "      <td>-1.190000</td>\n",
              "      <td>1.000000</td>\n",
              "      <td>0.592000</td>\n",
              "      <td>0.978000</td>\n",
              "      <td>0.680000</td>\n",
              "      <td>0.833000</td>\n",
              "      <td>0.966000</td>\n",
              "      <td>205.932000</td>\n",
              "      <td>484147.000000</td>\n",
              "      <td>5.000000</td>\n",
              "      <td>100.000000</td>\n",
              "      <td>100.000000</td>\n",
              "    </tr>\n",
              "  </tbody>\n",
              "</table>\n",
              "</div>"
            ],
            "text/plain": [
              "       danceability      energy         key    loudness        mode  \\\n",
              "count    888.000000  888.000000  888.000000  888.000000  888.000000   \n",
              "mean       0.666886    0.676983    5.415541   -5.756955    0.623874   \n",
              "std        0.136429    0.157626    3.640816    2.698557    0.484685   \n",
              "min        0.000000    0.000000    0.000000  -60.000000    0.000000   \n",
              "25%        0.586750    0.578000    2.000000   -6.737500    0.000000   \n",
              "50%        0.677000    0.696000    6.000000   -5.413000    1.000000   \n",
              "75%        0.755500    0.797000    8.250000   -4.324500    1.000000   \n",
              "max        0.970000    0.972000   11.000000   -1.190000    1.000000   \n",
              "\n",
              "       speechiness  acousticness  instrumentalness    liveness     valence  \\\n",
              "count   888.000000    888.000000        888.000000  888.000000  888.000000   \n",
              "mean      0.106002      0.147205          0.004023    0.177014    0.510164   \n",
              "std       0.101044      0.190801          0.035565    0.131787    0.216491   \n",
              "min       0.000000      0.000000          0.000000    0.000000    0.000000   \n",
              "25%       0.041475      0.018300          0.000000    0.093975    0.344750   \n",
              "50%       0.060000      0.067950          0.000000    0.124500    0.505000   \n",
              "75%       0.126500      0.203000          0.000008    0.212000    0.684000   \n",
              "max       0.592000      0.978000          0.680000    0.833000    0.966000   \n",
              "\n",
              "            tempo    duration_ms  time_signature  popularity     ranking  \n",
              "count  888.000000     888.000000      888.000000  888.000000  888.000000  \n",
              "mean   122.737676  219487.802928        3.989865   50.617117   49.373874  \n",
              "std     28.355879   36597.586996        0.270514   32.852028   28.680408  \n",
              "min      0.000000   78200.000000        0.000000    0.000000    1.000000  \n",
              "25%     99.966000  198659.750000        4.000000    3.750000   24.000000  \n",
              "50%    123.454500  217753.500000        4.000000   66.000000   49.000000  \n",
              "75%    139.983000  237653.750000        4.000000   76.000000   74.000000  \n",
              "max    205.932000  484147.000000        5.000000  100.000000  100.000000  "
            ]
          },
          "metadata": {
            "tags": []
          },
          "execution_count": 101
        }
      ]
    },
    {
      "cell_type": "code",
      "metadata": {
        "id": "1KwFxLO96hLJ",
        "outputId": "978a7493-4b58-4127-9e69-709d54585e31"
      },
      "source": [
        "#\n",
        "b['ranking'].value_counts()"
      ],
      "execution_count": null,
      "outputs": [
        {
          "output_type": "execute_result",
          "data": {
            "text/plain": [
              "1      11\n",
              "4      10\n",
              "5      10\n",
              "24     10\n",
              "3      10\n",
              "       ..\n",
              "96      8\n",
              "97      8\n",
              "98      8\n",
              "100     4\n",
              "99      3\n",
              "Name: ranking, Length: 100, dtype: int64"
            ]
          },
          "metadata": {
            "tags": []
          },
          "execution_count": 102
        }
      ]
    },
    {
      "cell_type": "code",
      "metadata": {
        "colab": {
          "base_uri": "https://localhost:8080/",
          "height": 1000
        },
        "id": "8AiKvWad81Yv",
        "outputId": "c5e4ec21-b655-462b-9a4b-6c4aadb7abeb"
      },
      "source": [
        "import warnings\n",
        "warnings.filterwarnings('ignore')\n",
        "\n",
        "#plot histogram\n",
        "f,ax = plt.subplots(7,2,figsize=(20,20))\n",
        "sns.distplot(b['danceability'],ax=ax[0,0])\n",
        "sns.distplot(b['energy'],ax=ax[0,1])\n",
        "sns.distplot(b['key'],ax=ax[1,0])\n",
        "sns.distplot(b['loudness'],ax=ax[1,1])\n",
        "sns.distplot(b['mode'],ax=ax[2,0])\n",
        "sns.distplot(b['speechiness'],ax=ax[2,1])\n",
        "sns.distplot(b['acousticness'],ax=ax[3,0])\n",
        "sns.distplot(b['liveness'],ax=ax[3,1])\n",
        "sns.distplot(b['valence'],ax=ax[4,0])\n",
        "sns.distplot(b['tempo'],ax=ax[4,1])\n",
        "sns.distplot(b['duration_ms'],ax=ax[5,0])\n",
        "sns.distplot(b['time_signature'],ax=ax[5,1])\n",
        "sns.distplot(b['popularity'],ax=ax[6,0])"
      ],
      "execution_count": null,
      "outputs": [
        {
          "output_type": "execute_result",
          "data": {
            "text/plain": [
              "<matplotlib.axes._subplots.AxesSubplot at 0x7f9eedb355d0>"
            ]
          },
          "metadata": {
            "tags": []
          },
          "execution_count": 103
        },
        {
          "output_type": "display_data",
          "data": {
            "image/png": "[encoded data removed]",
            "text/plain": [
              "<Figure size 1440x1440 with 14 Axes>"
            ]
          },
          "metadata": {
            "tags": []
          }
        }
      ]
    },
    {
      "cell_type": "code",
      "metadata": {
        "colab": {
          "base_uri": "https://localhost:8080/"
        },
        "id": "F6Au6bihiErI",
        "outputId": "51f8e31c-986d-4f84-d2b4-c91f158fb26d"
      },
      "source": [
        "#check correlations between attributes and ranking \n",
        "corrDf = b.corr()\n",
        "corr=corrDf['ranking'].sort_values(ascending=False)\n",
        "print('correlation with ranking:', corr)"
      ],
      "execution_count": null,
      "outputs": [
        {
          "output_type": "stream",
          "text": [
            "correlation with ranking: ranking             1.000000\n",
            "key                 0.072155\n",
            "mode                0.059356\n",
            "tempo               0.043276\n",
            "loudness            0.019211\n",
            "liveness            0.017837\n",
            "speechiness         0.002055\n",
            "energy              0.001692\n",
            "instrumentalness   -0.009022\n",
            "acousticness       -0.009362\n",
            "time_signature     -0.039327\n",
            "popularity         -0.045804\n",
            "duration_ms        -0.076625\n",
            "valence            -0.078835\n",
            "danceability       -0.099425\n",
            "Name: ranking, dtype: float64\n"
          ],
          "name": "stdout"
        }
      ]
    },
    {
      "cell_type": "code",
      "metadata": {
        "id": "SZosJYBXbjwZ",
        "outputId": "fb139832-8346-41e5-e70e-95208abd64aa"
      },
      "source": [
        "corr.plot(kind='bar')"
      ],
      "execution_count": null,
      "outputs": [
        {
          "output_type": "execute_result",
          "data": {
            "text/plain": [
              "<matplotlib.axes._subplots.AxesSubplot at 0x7f9eee3fa290>"
            ]
          },
          "metadata": {
            "tags": []
          },
          "execution_count": 105
        },
        {
          "output_type": "display_data",
          "data": {
            "image/png": "[encoded data removed]",
            "text/plain": [
              "<Figure size 432x288 with 1 Axes>"
            ]
          },
          "metadata": {
            "tags": []
          }
        }
      ]
    },
    {
      "cell_type": "markdown",
      "metadata": {
        "id": "R1HG-rYrbled"
      },
      "source": [
        "drop features\n",
        "*   acousticness       -0.015133\n",
        "*   speechiness        -0.020219"
      ]
    },
    {
      "cell_type": "code",
      "metadata": {
        "id": "9SyJZ7qI_odO",
        "outputId": "de2a220c-09c0-4286-8db7-2a3f96334eaf"
      },
      "source": [
        "#draw correlation matrix\n",
        "#cor_columns = ['danceability','energy','key','loudness','mode',\t'speechiness','acousticness','instrumentalness','liveness','valence','tempo',\t'duration_ms','time_signature','popularity'] \n",
        "cor_columns = ['danceability','energy','key','loudness','mode',\t'instrumentalness','liveness','valence','tempo',\t'duration_ms','time_signature','popularity'] \n",
        "cor_matrix =b[cor_columns].corr()\n",
        "corr = pd.melt(cor_matrix.reset_index(), id_vars='index')\n",
        "corr.head()\n",
        "\n",
        "corr.columns = ['x', 'y', 'value']\n",
        "corr = corr[corr['x'] != corr['y']]\n",
        "corr"
      ],
      "execution_count": null,
      "outputs": [
        {
          "output_type": "execute_result",
          "data": {
            "text/html": [
              "<div>\n",
              "<style scoped>\n",
              "    .dataframe tbody tr th:only-of-type {\n",
              "        vertical-align: middle;\n",
              "    }\n",
              "\n",
              "    .dataframe tbody tr th {\n",
              "        vertical-align: top;\n",
              "    }\n",
              "\n",
              "    .dataframe thead th {\n",
              "        text-align: right;\n",
              "    }\n",
              "</style>\n",
              "<table border=\"1\" class=\"dataframe\">\n",
              "  <thead>\n",
              "    <tr style=\"text-align: right;\">\n",
              "      <th></th>\n",
              "      <th>x</th>\n",
              "      <th>y</th>\n",
              "      <th>value</th>\n",
              "    </tr>\n",
              "  </thead>\n",
              "  <tbody>\n",
              "    <tr>\n",
              "      <td>1</td>\n",
              "      <td>energy</td>\n",
              "      <td>danceability</td>\n",
              "      <td>-0.131494</td>\n",
              "    </tr>\n",
              "    <tr>\n",
              "      <td>2</td>\n",
              "      <td>key</td>\n",
              "      <td>danceability</td>\n",
              "      <td>0.016344</td>\n",
              "    </tr>\n",
              "    <tr>\n",
              "      <td>3</td>\n",
              "      <td>loudness</td>\n",
              "      <td>danceability</td>\n",
              "      <td>0.039747</td>\n",
              "    </tr>\n",
              "    <tr>\n",
              "      <td>4</td>\n",
              "      <td>mode</td>\n",
              "      <td>danceability</td>\n",
              "      <td>-0.074369</td>\n",
              "    </tr>\n",
              "    <tr>\n",
              "      <td>5</td>\n",
              "      <td>instrumentalness</td>\n",
              "      <td>danceability</td>\n",
              "      <td>0.042139</td>\n",
              "    </tr>\n",
              "    <tr>\n",
              "      <td>...</td>\n",
              "      <td>...</td>\n",
              "      <td>...</td>\n",
              "      <td>...</td>\n",
              "    </tr>\n",
              "    <tr>\n",
              "      <td>138</td>\n",
              "      <td>liveness</td>\n",
              "      <td>popularity</td>\n",
              "      <td>-0.041148</td>\n",
              "    </tr>\n",
              "    <tr>\n",
              "      <td>139</td>\n",
              "      <td>valence</td>\n",
              "      <td>popularity</td>\n",
              "      <td>0.026345</td>\n",
              "    </tr>\n",
              "    <tr>\n",
              "      <td>140</td>\n",
              "      <td>tempo</td>\n",
              "      <td>popularity</td>\n",
              "      <td>-0.059088</td>\n",
              "    </tr>\n",
              "    <tr>\n",
              "      <td>141</td>\n",
              "      <td>duration_ms</td>\n",
              "      <td>popularity</td>\n",
              "      <td>-0.125213</td>\n",
              "    </tr>\n",
              "    <tr>\n",
              "      <td>142</td>\n",
              "      <td>time_signature</td>\n",
              "      <td>popularity</td>\n",
              "      <td>0.025189</td>\n",
              "    </tr>\n",
              "  </tbody>\n",
              "</table>\n",
              "<p>132 rows × 3 columns</p>\n",
              "</div>"
            ],
            "text/plain": [
              "                    x             y     value\n",
              "1              energy  danceability -0.131494\n",
              "2                 key  danceability  0.016344\n",
              "3            loudness  danceability  0.039747\n",
              "4                mode  danceability -0.074369\n",
              "5    instrumentalness  danceability  0.042139\n",
              "..                ...           ...       ...\n",
              "138          liveness    popularity -0.041148\n",
              "139           valence    popularity  0.026345\n",
              "140             tempo    popularity -0.059088\n",
              "141       duration_ms    popularity -0.125213\n",
              "142    time_signature    popularity  0.025189\n",
              "\n",
              "[132 rows x 3 columns]"
            ]
          },
          "metadata": {
            "tags": []
          },
          "execution_count": 106
        }
      ]
    },
    {
      "cell_type": "code",
      "metadata": {
        "id": "5WF-YsBkHngn",
        "outputId": "9d21db37-4405-4612-a4ca-3d36dedafe0b"
      },
      "source": [
        "'''\n",
        "def heatmap(x, y, **kwargs):\n",
        "    if 'color' in kwargs:\n",
        "        color = kwargs['color']\n",
        "    else:\n",
        "        color = [1]*len(x)\n",
        "\n",
        "    if 'palette' in kwargs:\n",
        "        palette = kwargs['palette']\n",
        "        n_colors = len(palette)\n",
        "    else:\n",
        "        n_colors = 256        # Use 256 colors for the diverging color palette\n",
        "        palette = sns.color_palette(\"Blues\", n_colors) \n",
        "\n",
        "    if 'color_range' in kwargs:\n",
        "        color_min, color_max = kwargs['color_range']\n",
        "    else:\n",
        "        color_min, color_max = min(color), max(color) # Range of values that will be mapped to the palette, i.e. min and max possible correlation\n",
        "\n",
        "    def value_to_color(val):\n",
        "        if color_min == color_max:\n",
        "            return palette[-1]\n",
        "        else:\n",
        "            val_position = float((val - color_min)) / (color_max - color_min) # position of value in the input range, relative to the length of the input range\n",
        "            val_position = min(max(val_position, 0), 1) # bound the position betwen 0 and 1\n",
        "            ind = int(val_position * (n_colors - 1)) # target index in the color palette\n",
        "            return palette[ind]\n",
        "\n",
        "    if 'size' in kwargs:\n",
        "        size = kwargs['size']\n",
        "    else:\n",
        "        size = [1]*len(x)\n",
        "\n",
        "    if 'size_range' in kwargs:\n",
        "        size_min, size_max = kwargs['size_range'][0], kwargs['size_range'][1]\n",
        "    else:\n",
        "        size_min, size_max = min(size), max(size)\n",
        "\n",
        "    size_scale = kwargs.get('size_scale', 500)\n",
        "\n",
        "    def value_to_size(val):\n",
        "        if size_min == size_max:\n",
        "            return 1 * size_scale\n",
        "        else:\n",
        "            val_position = (val - size_min) * 0.99 / (size_max - size_min) + 0.01 # position of value in the input range, relative to the length of the input range\n",
        "            val_position = min(max(val_position, 0), 1) # bound the position betwen 0 and 1\n",
        "            return val_position * size_scale\n",
        "    if 'x_order' in kwargs: \n",
        "        x_names = [t for t in kwargs['x_order']]\n",
        "    else:\n",
        "        x_names = [t for t in sorted(set([v for v in x]))]\n",
        "    x_to_num = {p[1]:p[0] for p in enumerate(x_names)}\n",
        "\n",
        "    if 'y_order' in kwargs: \n",
        "        y_names = [t for t in kwargs['y_order']]\n",
        "    else:\n",
        "        y_names = [t for t in sorted(set([v for v in y]))]\n",
        "    y_to_num = {p[1]:p[0] for p in enumerate(y_names)}\n",
        "\n",
        "    plot_grid = plt.GridSpec(1, 15, hspace=0.2, wspace=0.1) # Setup a 1x10 grid\n",
        "    ax = plt.subplot(plot_grid[:,:-1]) # Use the left 14/15ths of the grid for the main plot\n",
        "\n",
        "    marker = kwargs.get('marker', 's')\n",
        "\n",
        "    kwargs_pass_on = {k:v for k,v in kwargs.items() if k not in [\n",
        "         'color', 'palette', 'color_range', 'size', 'size_range', 'size_scale', 'marker', 'x_order', 'y_order'\n",
        "    ]}\n",
        "\n",
        "    ax.scatter(\n",
        "        x=[x_to_num[v] for v in x],\n",
        "        y=[y_to_num[v] for v in y],\n",
        "        marker=marker,\n",
        "        s=[value_to_size(v) for v in size], \n",
        "        c=[value_to_color(v) for v in color],\n",
        "        **kwargs_pass_on\n",
        "    )\n",
        "    ax.set_xticks([v for k,v in x_to_num.items()])\n",
        "    ax.set_xticklabels([k for k in x_to_num], rotation=45, horizontalalignment='right')\n",
        "    ax.set_yticks([v for k,v in y_to_num.items()])\n",
        "    ax.set_yticklabels([k for k in y_to_num])\n",
        "\n",
        "    ax.grid(False, 'major')\n",
        "    ax.grid(True, 'minor')\n",
        "    ax.set_xticks([t + 0.5 for t in ax.get_xticks()], minor=True)\n",
        "    ax.set_yticks([t + 0.5 for t in ax.get_yticks()], minor=True)\n",
        "\n",
        "    ax.set_xlim([-0.5, max([v for v in x_to_num.values()]) + 0.5])\n",
        "    ax.set_ylim([-0.5, max([v for v in y_to_num.values()]) + 0.5])\n",
        "    ax.set_facecolor('#F1F1F1')\n",
        "\n",
        "    # Add color legend on the right side of the plot\n",
        "    if color_min < color_max:\n",
        "        ax = plt.subplot(plot_grid[:,-1]) # Use the rightmost column of the plot\n",
        "\n",
        "        col_x = [0]*len(palette) # Fixed x coordinate for the bars\n",
        "        bar_y=np.linspace(color_min, color_max, n_colors) # y coordinates for each of the n_colors bars\n",
        "\n",
        "        bar_height = bar_y[1] - bar_y[0]\n",
        "        ax.barh(\n",
        "            y=bar_y,\n",
        "            width=[5]*len(palette), # Make bars 5 units wide\n",
        "            left=col_x, # Make bars start at 0\n",
        "            height=bar_height,\n",
        "            color=palette,\n",
        "            linewidth=0\n",
        "        )\n",
        "        ax.set_xlim(1, 2) # Bars are going from 0 to 5, so lets crop the plot somewhere in the middle\n",
        "        ax.grid(False) # Hide grid\n",
        "        ax.set_facecolor('white') # Make background white\n",
        "        ax.set_xticks([]) # Remove horizontal ticks\n",
        "        ax.set_yticks(np.linspace(min(bar_y), max(bar_y), 3)) # Show vertical ticks for min, middle and max\n",
        "        ax.yaxis.tick_right() # Show vertical ticks on the right \n",
        "\n",
        "\n",
        "def corrplot(data, size_scale=500, marker='s'):\n",
        "    corr = pd.melt(data.reset_index(), id_vars='index')\n",
        "    corr.columns = ['x', 'y', 'value']\n",
        "    heatmap(\n",
        "        corr['x'], corr['y'],\n",
        "        color=corr['value'], color_range=[-1, 1],\n",
        "        palette=sns.diverging_palette(20, 220, n=256),\n",
        "        size=corr['value'].abs(), size_range=[0,1],\n",
        "        marker=marker,\n",
        "        x_order=data.columns,\n",
        "        y_order=data.columns[::-1],\n",
        "        size_scale=size_scale\n",
        "    )\n",
        "corr = data.corr() \n",
        "\n",
        "plt.figure(figsize=(10, 10))\n",
        "ax = sns.heatmap(\n",
        "    corr, \n",
        "    vmin=-1, vmax=1, center=0,\n",
        "    cmap=sns.diverging_palette(20, 220, n=200),\n",
        "    square=True\n",
        ")\n",
        "ax.set_xticklabels(\n",
        "    ax.get_xticklabels(),\n",
        "    rotation=45,\n",
        "    horizontalalignment='right'\n",
        ")\n",
        "'''"
      ],
      "execution_count": null,
      "outputs": [
        {
          "output_type": "execute_result",
          "data": {
            "text/plain": [
              "'\\ndef heatmap(x, y, **kwargs):\\n    if \\'color\\' in kwargs:\\n        color = kwargs[\\'color\\']\\n    else:\\n        color = [1]*len(x)\\n\\n    if \\'palette\\' in kwargs:\\n        palette = kwargs[\\'palette\\']\\n        n_colors = len(palette)\\n    else:\\n        n_colors = 256        # Use 256 colors for the diverging color palette\\n        palette = sns.color_palette(\"Blues\", n_colors) \\n\\n    if \\'color_range\\' in kwargs:\\n        color_min, color_max = kwargs[\\'color_range\\']\\n    else:\\n        color_min, color_max = min(color), max(color) # Range of values that will be mapped to the palette, i.e. min and max possible correlation\\n\\n    def value_to_color(val):\\n        if color_min == color_max:\\n            return palette[-1]\\n        else:\\n            val_position = float((val - color_min)) / (color_max - color_min) # position of value in the input range, relative to the length of the input range\\n            val_position = min(max(val_position, 0), 1) # bound the position betwen 0 and 1\\n            ind = int(val_position * (n_colors - 1)) # target index in the color palette\\n            return palette[ind]\\n\\n    if \\'size\\' in kwargs:\\n        size = kwargs[\\'size\\']\\n    else:\\n        size = [1]*len(x)\\n\\n    if \\'size_range\\' in kwargs:\\n        size_min, size_max = kwargs[\\'size_range\\'][0], kwargs[\\'size_range\\'][1]\\n    else:\\n        size_min, size_max = min(size), max(size)\\n\\n    size_scale = kwargs.get(\\'size_scale\\', 500)\\n\\n    def value_to_size(val):\\n        if size_min == size_max:\\n            return 1 * size_scale\\n        else:\\n            val_position = (val - size_min) * 0.99 / (size_max - size_min) + 0.01 # position of value in the input range, relative to the length of the input range\\n            val_position = min(max(val_position, 0), 1) # bound the position betwen 0 and 1\\n            return val_position * size_scale\\n    if \\'x_order\\' in kwargs: \\n        x_names = [t for t in kwargs[\\'x_order\\']]\\n    else:\\n        x_names = [t for t in sorted(set([v for v in x]))]\\n    x_to_num = {p[1]:p[0] for p in enumerate(x_names)}\\n\\n    if \\'y_order\\' in kwargs: \\n        y_names = [t for t in kwargs[\\'y_order\\']]\\n    else:\\n        y_names = [t for t in sorted(set([v for v in y]))]\\n    y_to_num = {p[1]:p[0] for p in enumerate(y_names)}\\n\\n    plot_grid = plt.GridSpec(1, 15, hspace=0.2, wspace=0.1) # Setup a 1x10 grid\\n    ax = plt.subplot(plot_grid[:,:-1]) # Use the left 14/15ths of the grid for the main plot\\n\\n    marker = kwargs.get(\\'marker\\', \\'s\\')\\n\\n    kwargs_pass_on = {k:v for k,v in kwargs.items() if k not in [\\n         \\'color\\', \\'palette\\', \\'color_range\\', \\'size\\', \\'size_range\\', \\'size_scale\\', \\'marker\\', \\'x_order\\', \\'y_order\\'\\n    ]}\\n\\n    ax.scatter(\\n        x=[x_to_num[v] for v in x],\\n        y=[y_to_num[v] for v in y],\\n        marker=marker,\\n        s=[value_to_size(v) for v in size], \\n        c=[value_to_color(v) for v in color],\\n        **kwargs_pass_on\\n    )\\n    ax.set_xticks([v for k,v in x_to_num.items()])\\n    ax.set_xticklabels([k for k in x_to_num], rotation=45, horizontalalignment=\\'right\\')\\n    ax.set_yticks([v for k,v in y_to_num.items()])\\n    ax.set_yticklabels([k for k in y_to_num])\\n\\n    ax.grid(False, \\'major\\')\\n    ax.grid(True, \\'minor\\')\\n    ax.set_xticks([t + 0.5 for t in ax.get_xticks()], minor=True)\\n    ax.set_yticks([t + 0.5 for t in ax.get_yticks()], minor=True)\\n\\n    ax.set_xlim([-0.5, max([v for v in x_to_num.values()]) + 0.5])\\n    ax.set_ylim([-0.5, max([v for v in y_to_num.values()]) + 0.5])\\n    ax.set_facecolor(\\'#F1F1F1\\')\\n\\n    # Add color legend on the right side of the plot\\n    if color_min < color_max:\\n        ax = plt.subplot(plot_grid[:,-1]) # Use the rightmost column of the plot\\n\\n        col_x = [0]*len(palette) # Fixed x coordinate for the bars\\n        bar_y=np.linspace(color_min, color_max, n_colors) # y coordinates for each of the n_colors bars\\n\\n        bar_height = bar_y[1] - bar_y[0]\\n        ax.barh(\\n            y=bar_y,\\n            width=[5]*len(palette), # Make bars 5 units wide\\n            left=col_x, # Make bars start at 0\\n            height=bar_height,\\n            color=palette,\\n            linewidth=0\\n        )\\n        ax.set_xlim(1, 2) # Bars are going from 0 to 5, so lets crop the plot somewhere in the middle\\n        ax.grid(False) # Hide grid\\n        ax.set_facecolor(\\'white\\') # Make background white\\n        ax.set_xticks([]) # Remove horizontal ticks\\n        ax.set_yticks(np.linspace(min(bar_y), max(bar_y), 3)) # Show vertical ticks for min, middle and max\\n        ax.yaxis.tick_right() # Show vertical ticks on the right \\n\\n\\ndef corrplot(data, size_scale=500, marker=\\'s\\'):\\n    corr = pd.melt(data.reset_index(), id_vars=\\'index\\')\\n    corr.columns = [\\'x\\', \\'y\\', \\'value\\']\\n    heatmap(\\n        corr[\\'x\\'], corr[\\'y\\'],\\n        color=corr[\\'value\\'], color_range=[-1, 1],\\n        palette=sns.diverging_palette(20, 220, n=256),\\n        size=corr[\\'value\\'].abs(), size_range=[0,1],\\n        marker=marker,\\n        x_order=data.columns,\\n        y_order=data.columns[::-1],\\n        size_scale=size_scale\\n    )\\ncorr = data.corr() \\n\\nplt.figure(figsize=(10, 10))\\nax = sns.heatmap(\\n    corr, \\n    vmin=-1, vmax=1, center=0,\\n    cmap=sns.diverging_palette(20, 220, n=200),\\n    square=True\\n)\\nax.set_xticklabels(\\n    ax.get_xticklabels(),\\n    rotation=45,\\n    horizontalalignment=\\'right\\'\\n)\\n'"
            ]
          },
          "metadata": {
            "tags": []
          },
          "execution_count": 107
        }
      ]
    },
    {
      "cell_type": "code",
      "metadata": {
        "colab": {
          "base_uri": "https://localhost:8080/",
          "height": 632
        },
        "id": "V67yJMpweMCM",
        "outputId": "a25f0d5b-7692-4bb8-8531-406896f5aca2"
      },
      "source": [
        "#data = b.loc[:,['danceability','energy','key','loudness','mode','speechiness','acousticness','instrumentalness','liveness','valence','tempo',\t'duration_ms','time_signature','popularity','ranking']] \n",
        "data= b.loc[:,['danceability','energy','key','loudness','mode','liveness','valence','tempo','duration_ms','time_signature','popularity','ranking']]\n",
        "\n",
        "f,ax = plt.subplots(figsize = (15,15))\n",
        "sns.heatmap(data.corr(), annot = True, fmt = '.2g', cmap = 'hot_r', ax= ax) \n",
        "sns.set(font_scale = 0.6) #the font size of the value in the heat map\n",
        "ax.set_xticklabels(ax.get_xticklabels(), rotation=45,horizontalalignment='right')\n",
        "plt.show()"
      ],
      "execution_count": null,
      "outputs": [
        {
          "output_type": "display_data",
          "data": {
            "image/png": "[encoded data removed]",
            "text/plain": [
              "<Figure size 1080x1080 with 2 Axes>"
            ]
          },
          "metadata": {
            "tags": []
          }
        }
      ]
    },
    {
      "cell_type": "markdown",
      "metadata": {
        "id": "ZvU1IV4LCLSw"
      },
      "source": [
        "#divide rankings:\n",
        "1.   1-25\n",
        "2.   26-50\n",
        "3.   51-75\n",
        "4.   76-100\n",
        "\n"
      ]
    },
    {
      "cell_type": "code",
      "metadata": {
        "colab": {
          "base_uri": "https://localhost:8080/"
        },
        "id": "WzRAW_k-FFIl",
        "outputId": "726c2861-1604-4744-99f3-0d7bfe9dec3e"
      },
      "source": [
        "r=data['ranking']\n",
        "len(r)  #586"
      ],
      "execution_count": null,
      "outputs": [
        {
          "output_type": "execute_result",
          "data": {
            "text/plain": [
              "888"
            ]
          },
          "metadata": {
            "tags": []
          },
          "execution_count": 109
        }
      ]
    },
    {
      "cell_type": "code",
      "metadata": {
        "colab": {
          "base_uri": "https://localhost:8080/"
        },
        "id": "fCdW0ApHJfS8",
        "outputId": "a25de5f4-a83e-42a0-eda2-16bbe55b14ff"
      },
      "source": [
        "new_r=list()\n",
        "new_r\n",
        "#divide levels\n",
        "for i in range(0,len(r)):\n",
        "  if  r.iloc[i]>=1 and r.iloc[i]<=20:\n",
        "    new_r.append(1)\n",
        "  elif r.iloc[i]>=21 and r.iloc[i]<=40:\n",
        "    new_r.append(2)\n",
        "  elif r.iloc[i]>=41 and r.iloc[i]<=60:\n",
        "    new_r.append(3)\n",
        "  elif r.iloc[i]>=61 and r.iloc[i]<=80:\n",
        "    new_r.append(4)\n",
        "  else:\n",
        "    new_r.append(5)\n",
        "print(new_r)"
      ],
      "execution_count": null,
      "outputs": [
        {
          "output_type": "stream",
          "text": [
            "[1, 1, 1, 1, 1, 1, 1, 1, 1, 1, 1, 1, 1, 1, 1, 1, 1, 1, 1, 1, 2, 2, 2, 2, 2, 2, 2, 2, 2, 2, 2, 2, 2, 2, 2, 2, 2, 2, 2, 2, 3, 3, 3, 3, 3, 3, 3, 3, 3, 3, 3, 3, 3, 3, 3, 3, 3, 3, 3, 3, 4, 4, 4, 4, 4, 4, 4, 4, 4, 4, 4, 4, 4, 4, 4, 4, 4, 4, 4, 4, 5, 5, 5, 5, 5, 5, 5, 5, 5, 5, 5, 5, 5, 5, 5, 5, 5, 5, 5, 5, 1, 1, 1, 1, 1, 2, 4, 4, 4, 4, 4, 4, 4, 4, 4, 4, 4, 4, 4, 4, 4, 5, 5, 5, 5, 5, 5, 5, 5, 5, 5, 5, 5, 5, 5, 5, 5, 5, 5, 5, 5, 1, 1, 1, 1, 1, 1, 1, 1, 1, 1, 1, 1, 1, 1, 1, 1, 1, 1, 1, 1, 2, 2, 2, 2, 2, 2, 2, 2, 2, 2, 2, 2, 2, 2, 2, 2, 2, 2, 2, 2, 3, 3, 3, 3, 3, 3, 3, 3, 3, 3, 3, 3, 3, 3, 3, 3, 3, 3, 3, 3, 4, 4, 4, 1, 1, 1, 1, 1, 1, 1, 1, 1, 1, 1, 1, 1, 1, 1, 1, 1, 1, 1, 1, 2, 2, 2, 2, 2, 2, 2, 2, 2, 2, 2, 2, 2, 2, 2, 2, 2, 2, 2, 2, 3, 3, 3, 3, 3, 3, 3, 3, 3, 3, 3, 3, 3, 3, 3, 3, 3, 3, 3, 4, 4, 4, 4, 4, 4, 4, 4, 4, 4, 4, 4, 4, 4, 4, 4, 4, 4, 4, 4, 5, 5, 5, 5, 5, 5, 5, 5, 5, 5, 5, 5, 5, 5, 5, 5, 5, 5, 1, 1, 1, 1, 1, 1, 1, 1, 1, 1, 1, 1, 1, 1, 1, 1, 1, 1, 1, 1, 2, 2, 2, 2, 2, 2, 2, 2, 2, 2, 2, 2, 2, 2, 2, 2, 2, 2, 2, 2, 3, 3, 3, 3, 3, 3, 3, 3, 3, 3, 3, 3, 3, 3, 3, 3, 3, 3, 3, 3, 4, 4, 4, 4, 4, 4, 4, 4, 4, 4, 4, 4, 4, 4, 4, 4, 4, 4, 4, 4, 5, 5, 5, 5, 5, 5, 5, 5, 5, 5, 5, 5, 5, 5, 5, 5, 5, 5, 1, 1, 1, 1, 1, 1, 1, 1, 1, 1, 1, 1, 1, 1, 1, 1, 1, 1, 1, 1, 2, 2, 2, 2, 2, 2, 2, 2, 2, 2, 2, 2, 2, 2, 2, 2, 2, 2, 2, 2, 3, 3, 3, 3, 3, 3, 3, 3, 3, 3, 3, 3, 3, 3, 3, 3, 3, 3, 3, 3, 4, 4, 4, 4, 4, 4, 4, 4, 4, 4, 4, 4, 4, 4, 4, 4, 4, 4, 4, 4, 5, 5, 5, 5, 5, 5, 5, 5, 5, 5, 5, 5, 5, 5, 5, 1, 2, 2, 3, 3, 3, 3, 3, 3, 3, 3, 3, 3, 3, 3, 3, 3, 3, 3, 3, 3, 3, 3, 4, 4, 4, 4, 4, 4, 4, 4, 4, 4, 4, 4, 4, 4, 4, 4, 4, 4, 4, 4, 5, 5, 5, 5, 5, 5, 5, 5, 5, 5, 5, 5, 5, 5, 5, 5, 5, 5, 5, 5, 1, 1, 1, 1, 1, 1, 1, 1, 1, 1, 1, 1, 1, 1, 1, 1, 1, 1, 1, 1, 2, 2, 2, 2, 2, 2, 2, 2, 2, 2, 2, 2, 2, 2, 2, 2, 1, 1, 1, 1, 1, 1, 1, 1, 1, 1, 1, 1, 1, 1, 1, 1, 1, 1, 1, 1, 2, 2, 2, 2, 2, 2, 2, 2, 2, 2, 2, 2, 2, 2, 2, 2, 2, 2, 2, 2, 3, 3, 3, 3, 3, 3, 3, 3, 3, 3, 3, 3, 3, 3, 3, 3, 3, 3, 3, 3, 4, 4, 4, 4, 4, 4, 4, 4, 4, 4, 4, 4, 4, 4, 4, 4, 4, 4, 4, 4, 5, 5, 5, 5, 5, 5, 5, 5, 5, 5, 5, 5, 5, 5, 5, 5, 5, 5, 5, 1, 1, 1, 1, 1, 1, 1, 1, 1, 1, 1, 1, 1, 1, 1, 1, 1, 1, 1, 1, 2, 2, 2, 2, 2, 2, 2, 2, 2, 2, 2, 2, 2, 2, 2, 2, 2, 2, 2, 2, 3, 3, 3, 3, 3, 3, 3, 3, 3, 3, 3, 3, 3, 3, 3, 3, 3, 3, 3, 3, 4, 4, 4, 4, 4, 4, 4, 4, 4, 4, 4, 4, 4, 4, 4, 4, 4, 4, 4, 4, 5, 5, 5, 5, 5, 5, 5, 5, 5, 5, 5, 5, 5, 5, 5, 5, 5, 5, 1, 1, 1, 1, 1, 1, 1, 1, 1, 1, 1, 1, 1, 1, 1, 1, 1, 1, 1, 1, 2, 2, 2, 2, 2, 2, 2, 2, 2, 2, 2, 2, 2, 2, 2, 2, 2, 2, 2, 2, 3, 3, 3, 3, 3, 3, 3, 3, 3, 3, 3, 3, 3, 3, 3, 3, 3, 3, 3, 3, 4, 4, 4, 4, 4, 4, 4, 4, 4, 4, 4, 4, 4, 4, 4, 4, 4, 4, 4, 4, 5, 5, 5, 5, 5, 5, 5, 5, 5, 5, 5, 5, 5, 5, 5, 5, 5, 5]\n"
          ],
          "name": "stdout"
        }
      ]
    },
    {
      "cell_type": "code",
      "metadata": {
        "colab": {
          "base_uri": "https://localhost:8080/"
        },
        "id": "DrIvTtzOCHto",
        "outputId": "90851e0e-c4c4-4835-8435-ceb10b15a721"
      },
      "source": [
        "r=pd.DataFrame(new_r,columns=['levels'])\n",
        "print('r shape: ',r.shape )\n",
        "print('data shape: ',data.shape ) #same row numbers"
      ],
      "execution_count": null,
      "outputs": [
        {
          "output_type": "stream",
          "text": [
            "r shape:  (888, 1)\n",
            "data shape:  (888, 12)\n"
          ],
          "name": "stdout"
        }
      ]
    },
    {
      "cell_type": "code",
      "metadata": {
        "id": "o-nk9JotCH3s",
        "outputId": "05754f04-e4fe-444b-d59c-793d72162c84"
      },
      "source": [
        "#df=pd.merge(b,r,how='inner',left_index=False, right_index=False,on=None, left_on=None, right_on=None)\n",
        "df=pd.merge(data,r,on=b.index)\n",
        "df=df.drop('key_0', axis=1)\n",
        "df.head(5)"
      ],
      "execution_count": null,
      "outputs": [
        {
          "output_type": "execute_result",
          "data": {
            "text/html": [
              "<div>\n",
              "<style scoped>\n",
              "    .dataframe tbody tr th:only-of-type {\n",
              "        vertical-align: middle;\n",
              "    }\n",
              "\n",
              "    .dataframe tbody tr th {\n",
              "        vertical-align: top;\n",
              "    }\n",
              "\n",
              "    .dataframe thead th {\n",
              "        text-align: right;\n",
              "    }\n",
              "</style>\n",
              "<table border=\"1\" class=\"dataframe\">\n",
              "  <thead>\n",
              "    <tr style=\"text-align: right;\">\n",
              "      <th></th>\n",
              "      <th>danceability</th>\n",
              "      <th>energy</th>\n",
              "      <th>key</th>\n",
              "      <th>loudness</th>\n",
              "      <th>mode</th>\n",
              "      <th>liveness</th>\n",
              "      <th>valence</th>\n",
              "      <th>tempo</th>\n",
              "      <th>duration_ms</th>\n",
              "      <th>time_signature</th>\n",
              "      <th>popularity</th>\n",
              "      <th>ranking</th>\n",
              "      <th>levels</th>\n",
              "    </tr>\n",
              "  </thead>\n",
              "  <tbody>\n",
              "    <tr>\n",
              "      <td>0</td>\n",
              "      <td>0.700</td>\n",
              "      <td>0.722</td>\n",
              "      <td>7.0</td>\n",
              "      <td>-3.558</td>\n",
              "      <td>0.0</td>\n",
              "      <td>0.2720</td>\n",
              "      <td>0.756</td>\n",
              "      <td>90.989</td>\n",
              "      <td>140526.0</td>\n",
              "      <td>4.0</td>\n",
              "      <td>99</td>\n",
              "      <td>1</td>\n",
              "      <td>1</td>\n",
              "    </tr>\n",
              "    <tr>\n",
              "      <td>1</td>\n",
              "      <td>0.736</td>\n",
              "      <td>0.802</td>\n",
              "      <td>0.0</td>\n",
              "      <td>-4.759</td>\n",
              "      <td>1.0</td>\n",
              "      <td>0.0940</td>\n",
              "      <td>0.675</td>\n",
              "      <td>144.005</td>\n",
              "      <td>172325.0</td>\n",
              "      <td>4.0</td>\n",
              "      <td>88</td>\n",
              "      <td>2</td>\n",
              "      <td>1</td>\n",
              "    </tr>\n",
              "    <tr>\n",
              "      <td>2</td>\n",
              "      <td>0.554</td>\n",
              "      <td>0.576</td>\n",
              "      <td>6.0</td>\n",
              "      <td>-6.495</td>\n",
              "      <td>1.0</td>\n",
              "      <td>0.1590</td>\n",
              "      <td>0.409</td>\n",
              "      <td>74.942</td>\n",
              "      <td>209763.0</td>\n",
              "      <td>4.0</td>\n",
              "      <td>73</td>\n",
              "      <td>3</td>\n",
              "      <td>1</td>\n",
              "    </tr>\n",
              "    <tr>\n",
              "      <td>3</td>\n",
              "      <td>0.761</td>\n",
              "      <td>0.518</td>\n",
              "      <td>0.0</td>\n",
              "      <td>-8.871</td>\n",
              "      <td>1.0</td>\n",
              "      <td>0.1070</td>\n",
              "      <td>0.522</td>\n",
              "      <td>133.976</td>\n",
              "      <td>261493.0</td>\n",
              "      <td>4.0</td>\n",
              "      <td>93</td>\n",
              "      <td>4</td>\n",
              "      <td>1</td>\n",
              "    </tr>\n",
              "    <tr>\n",
              "      <td>4</td>\n",
              "      <td>0.514</td>\n",
              "      <td>0.730</td>\n",
              "      <td>1.0</td>\n",
              "      <td>-5.934</td>\n",
              "      <td>1.0</td>\n",
              "      <td>0.0897</td>\n",
              "      <td>0.334</td>\n",
              "      <td>171.005</td>\n",
              "      <td>200040.0</td>\n",
              "      <td>4.0</td>\n",
              "      <td>96</td>\n",
              "      <td>5</td>\n",
              "      <td>1</td>\n",
              "    </tr>\n",
              "  </tbody>\n",
              "</table>\n",
              "</div>"
            ],
            "text/plain": [
              "   danceability  energy  key  loudness  mode  liveness  valence    tempo  \\\n",
              "0         0.700   0.722  7.0    -3.558   0.0    0.2720    0.756   90.989   \n",
              "1         0.736   0.802  0.0    -4.759   1.0    0.0940    0.675  144.005   \n",
              "2         0.554   0.576  6.0    -6.495   1.0    0.1590    0.409   74.942   \n",
              "3         0.761   0.518  0.0    -8.871   1.0    0.1070    0.522  133.976   \n",
              "4         0.514   0.730  1.0    -5.934   1.0    0.0897    0.334  171.005   \n",
              "\n",
              "   duration_ms  time_signature  popularity  ranking  levels  \n",
              "0     140526.0             4.0          99        1       1  \n",
              "1     172325.0             4.0          88        2       1  \n",
              "2     209763.0             4.0          73        3       1  \n",
              "3     261493.0             4.0          93        4       1  \n",
              "4     200040.0             4.0          96        5       1  "
            ]
          },
          "metadata": {
            "tags": []
          },
          "execution_count": 112
        }
      ]
    },
    {
      "cell_type": "markdown",
      "metadata": {
        "id": "s9nd7Xtls27r"
      },
      "source": [
        "#analysis dancibility and energy"
      ]
    },
    {
      "cell_type": "code",
      "metadata": {
        "id": "rWCzk1NPs27r",
        "outputId": "249894c1-21e3-42fe-a273-0b724ec187e0"
      },
      "source": [
        "plt.figure(figsize=(18,12))\n",
        "plt.subplot(2,2,1)\n",
        "sns.distplot(df['energy'], color='red', bins=40,kde_kws={\"lw\": 3,\"label\":'energy'})\n",
        "sns.distplot(df['danceability'], color='blue', bins=40,kde_kws={\"lw\": 3,\"label\":'danceability'})\n",
        "#plt.legend((energy,danceability))\n",
        "plt.legend(('energy','danceability'))"
      ],
      "execution_count": null,
      "outputs": [
        {
          "output_type": "execute_result",
          "data": {
            "text/plain": [
              "<matplotlib.legend.Legend at 0x7f9eec816050>"
            ]
          },
          "metadata": {
            "tags": []
          },
          "execution_count": 113
        },
        {
          "output_type": "display_data",
          "data": {
            "image/png": "[encoded data removed]",
            "text/plain": [
              "<Figure size 1296x864 with 1 Axes>"
            ]
          },
          "metadata": {
            "tags": []
          }
        }
      ]
    },
    {
      "cell_type": "code",
      "metadata": {
        "id": "AZnBh2Nts27r",
        "outputId": "0545d19c-b2a4-45d8-9551-7e79e5875dc5"
      },
      "source": [
        "plt.figure(figsize=(5,5))\n",
        "#plt.subplot(2,2,1)\n",
        "sns.distplot(df['energy'], color='red', bins=40,kde_kws={\"lw\": 3,\"label\":'energy'})\n",
        "#sns.distplot(df['danceability'], color='blue', bins=40,kde_kws={\"lw\": 3,\"label\":'danceability'})\n",
        "#plt.legend((energy,danceability))\n",
        "#plt.legend(('energy','danceability'))"
      ],
      "execution_count": null,
      "outputs": [
        {
          "output_type": "execute_result",
          "data": {
            "text/plain": [
              "<matplotlib.axes._subplots.AxesSubplot at 0x7f9eedd03c50>"
            ]
          },
          "metadata": {
            "tags": []
          },
          "execution_count": 114
        },
        {
          "output_type": "display_data",
          "data": {
            "image/png": "[encoded data removed]",
            "text/plain": [
              "<Figure size 360x360 with 1 Axes>"
            ]
          },
          "metadata": {
            "tags": []
          }
        }
      ]
    },
    {
      "cell_type": "code",
      "metadata": {
        "id": "-yq_BO9zs27r",
        "outputId": "068dcee2-a0f3-4863-9d13-2137bd3a7d4c"
      },
      "source": [
        "df.sort_values(by='energy',ascending = False,).head(10)"
      ],
      "execution_count": null,
      "outputs": [
        {
          "output_type": "execute_result",
          "data": {
            "text/html": [
              "<div>\n",
              "<style scoped>\n",
              "    .dataframe tbody tr th:only-of-type {\n",
              "        vertical-align: middle;\n",
              "    }\n",
              "\n",
              "    .dataframe tbody tr th {\n",
              "        vertical-align: top;\n",
              "    }\n",
              "\n",
              "    .dataframe thead th {\n",
              "        text-align: right;\n",
              "    }\n",
              "</style>\n",
              "<table border=\"1\" class=\"dataframe\">\n",
              "  <thead>\n",
              "    <tr style=\"text-align: right;\">\n",
              "      <th></th>\n",
              "      <th>danceability</th>\n",
              "      <th>energy</th>\n",
              "      <th>key</th>\n",
              "      <th>loudness</th>\n",
              "      <th>mode</th>\n",
              "      <th>liveness</th>\n",
              "      <th>valence</th>\n",
              "      <th>tempo</th>\n",
              "      <th>duration_ms</th>\n",
              "      <th>time_signature</th>\n",
              "      <th>popularity</th>\n",
              "      <th>ranking</th>\n",
              "      <th>levels</th>\n",
              "    </tr>\n",
              "  </thead>\n",
              "  <tbody>\n",
              "    <tr>\n",
              "      <td>691</td>\n",
              "      <td>0.585</td>\n",
              "      <td>0.972</td>\n",
              "      <td>9.0</td>\n",
              "      <td>-4.450</td>\n",
              "      <td>0.0</td>\n",
              "      <td>0.0707</td>\n",
              "      <td>0.585</td>\n",
              "      <td>110.006</td>\n",
              "      <td>230253.0</td>\n",
              "      <td>4.0</td>\n",
              "      <td>73</td>\n",
              "      <td>100</td>\n",
              "      <td>5</td>\n",
              "    </tr>\n",
              "    <tr>\n",
              "      <td>810</td>\n",
              "      <td>0.508</td>\n",
              "      <td>0.957</td>\n",
              "      <td>11.0</td>\n",
              "      <td>-1.562</td>\n",
              "      <td>1.0</td>\n",
              "      <td>0.5460</td>\n",
              "      <td>0.830</td>\n",
              "      <td>173.555</td>\n",
              "      <td>276920.0</td>\n",
              "      <td>4.0</td>\n",
              "      <td>0</td>\n",
              "      <td>21</td>\n",
              "      <td>2</td>\n",
              "    </tr>\n",
              "    <tr>\n",
              "      <td>813</td>\n",
              "      <td>0.855</td>\n",
              "      <td>0.954</td>\n",
              "      <td>0.0</td>\n",
              "      <td>-1.190</td>\n",
              "      <td>0.0</td>\n",
              "      <td>0.2050</td>\n",
              "      <td>0.668</td>\n",
              "      <td>114.635</td>\n",
              "      <td>248133.0</td>\n",
              "      <td>5.0</td>\n",
              "      <td>79</td>\n",
              "      <td>24</td>\n",
              "      <td>2</td>\n",
              "    </tr>\n",
              "    <tr>\n",
              "      <td>453</td>\n",
              "      <td>0.624</td>\n",
              "      <td>0.953</td>\n",
              "      <td>4.0</td>\n",
              "      <td>-2.602</td>\n",
              "      <td>0.0</td>\n",
              "      <td>0.6570</td>\n",
              "      <td>0.729</td>\n",
              "      <td>149.992</td>\n",
              "      <td>211573.0</td>\n",
              "      <td>4.0</td>\n",
              "      <td>0</td>\n",
              "      <td>55</td>\n",
              "      <td>3</td>\n",
              "    </tr>\n",
              "    <tr>\n",
              "      <td>549</td>\n",
              "      <td>0.494</td>\n",
              "      <td>0.951</td>\n",
              "      <td>9.0</td>\n",
              "      <td>-4.237</td>\n",
              "      <td>1.0</td>\n",
              "      <td>0.3270</td>\n",
              "      <td>0.441</td>\n",
              "      <td>160.025</td>\n",
              "      <td>202496.0</td>\n",
              "      <td>4.0</td>\n",
              "      <td>72</td>\n",
              "      <td>93</td>\n",
              "      <td>5</td>\n",
              "    </tr>\n",
              "    <tr>\n",
              "      <td>50</td>\n",
              "      <td>0.572</td>\n",
              "      <td>0.949</td>\n",
              "      <td>4.0</td>\n",
              "      <td>-4.865</td>\n",
              "      <td>1.0</td>\n",
              "      <td>0.1630</td>\n",
              "      <td>0.530</td>\n",
              "      <td>118.974</td>\n",
              "      <td>194867.0</td>\n",
              "      <td>4.0</td>\n",
              "      <td>76</td>\n",
              "      <td>51</td>\n",
              "      <td>3</td>\n",
              "    </tr>\n",
              "    <tr>\n",
              "      <td>843</td>\n",
              "      <td>0.529</td>\n",
              "      <td>0.948</td>\n",
              "      <td>0.0</td>\n",
              "      <td>-3.527</td>\n",
              "      <td>1.0</td>\n",
              "      <td>0.2830</td>\n",
              "      <td>0.650</td>\n",
              "      <td>146.024</td>\n",
              "      <td>238000.0</td>\n",
              "      <td>4.0</td>\n",
              "      <td>65</td>\n",
              "      <td>54</td>\n",
              "      <td>3</td>\n",
              "    </tr>\n",
              "    <tr>\n",
              "      <td>565</td>\n",
              "      <td>0.457</td>\n",
              "      <td>0.948</td>\n",
              "      <td>10.0</td>\n",
              "      <td>-3.364</td>\n",
              "      <td>1.0</td>\n",
              "      <td>0.0536</td>\n",
              "      <td>0.878</td>\n",
              "      <td>148.000</td>\n",
              "      <td>208960.0</td>\n",
              "      <td>4.0</td>\n",
              "      <td>71</td>\n",
              "      <td>9</td>\n",
              "      <td>1</td>\n",
              "    </tr>\n",
              "    <tr>\n",
              "      <td>754</td>\n",
              "      <td>0.644</td>\n",
              "      <td>0.945</td>\n",
              "      <td>7.0</td>\n",
              "      <td>-3.534</td>\n",
              "      <td>1.0</td>\n",
              "      <td>0.1840</td>\n",
              "      <td>0.573</td>\n",
              "      <td>91.017</td>\n",
              "      <td>219560.0</td>\n",
              "      <td>4.0</td>\n",
              "      <td>55</td>\n",
              "      <td>63</td>\n",
              "      <td>4</td>\n",
              "    </tr>\n",
              "    <tr>\n",
              "      <td>742</td>\n",
              "      <td>0.586</td>\n",
              "      <td>0.945</td>\n",
              "      <td>7.0</td>\n",
              "      <td>-4.577</td>\n",
              "      <td>0.0</td>\n",
              "      <td>0.3970</td>\n",
              "      <td>0.483</td>\n",
              "      <td>155.953</td>\n",
              "      <td>283733.0</td>\n",
              "      <td>4.0</td>\n",
              "      <td>37</td>\n",
              "      <td>51</td>\n",
              "      <td>3</td>\n",
              "    </tr>\n",
              "  </tbody>\n",
              "</table>\n",
              "</div>"
            ],
            "text/plain": [
              "     danceability  energy   key  loudness  mode  liveness  valence    tempo  \\\n",
              "691         0.585   0.972   9.0    -4.450   0.0    0.0707    0.585  110.006   \n",
              "810         0.508   0.957  11.0    -1.562   1.0    0.5460    0.830  173.555   \n",
              "813         0.855   0.954   0.0    -1.190   0.0    0.2050    0.668  114.635   \n",
              "453         0.624   0.953   4.0    -2.602   0.0    0.6570    0.729  149.992   \n",
              "549         0.494   0.951   9.0    -4.237   1.0    0.3270    0.441  160.025   \n",
              "50          0.572   0.949   4.0    -4.865   1.0    0.1630    0.530  118.974   \n",
              "843         0.529   0.948   0.0    -3.527   1.0    0.2830    0.650  146.024   \n",
              "565         0.457   0.948  10.0    -3.364   1.0    0.0536    0.878  148.000   \n",
              "754         0.644   0.945   7.0    -3.534   1.0    0.1840    0.573   91.017   \n",
              "742         0.586   0.945   7.0    -4.577   0.0    0.3970    0.483  155.953   \n",
              "\n",
              "     duration_ms  time_signature  popularity  ranking  levels  \n",
              "691     230253.0             4.0          73      100       5  \n",
              "810     276920.0             4.0           0       21       2  \n",
              "813     248133.0             5.0          79       24       2  \n",
              "453     211573.0             4.0           0       55       3  \n",
              "549     202496.0             4.0          72       93       5  \n",
              "50      194867.0             4.0          76       51       3  \n",
              "843     238000.0             4.0          65       54       3  \n",
              "565     208960.0             4.0          71        9       1  \n",
              "754     219560.0             4.0          55       63       4  \n",
              "742     283733.0             4.0          37       51       3  "
            ]
          },
          "metadata": {
            "tags": []
          },
          "execution_count": 115
        }
      ]
    },
    {
      "cell_type": "code",
      "metadata": {
        "id": "zpR1tNris27r",
        "outputId": "e7394f90-d140-420f-e930-7a9f351db50b"
      },
      "source": [
        "print(df['energy'].mean()) \n",
        "print(df[df['levels']==1]['energy'].mean()) \n",
        "print(df[df['levels']==2]['energy'].mean()) \n",
        "print(df[df['levels']==3]['energy'].mean()) \n",
        "print(df[df['levels']==4]['energy'].mean()) \n",
        "print(df[df['levels']==5]['energy'].mean())"
      ],
      "execution_count": null,
      "outputs": [
        {
          "output_type": "stream",
          "text": [
            "0.6769829954954937\n",
            "0.6868172043010752\n",
            "0.6697430167597765\n",
            "0.6690335195530724\n",
            "0.6767410112359554\n",
            "0.6826024096385538\n"
          ],
          "name": "stdout"
        }
      ]
    },
    {
      "cell_type": "code",
      "metadata": {
        "id": "ziB0Rzsks27s",
        "outputId": "724540a5-f4d4-47ef-f1c8-384366692017"
      },
      "source": [
        "print(df['danceability'].mean()) \n",
        "print(df[df['levels']==1]['danceability'].mean()) \n",
        "print(df[df['levels']==2]['danceability'].mean())\n",
        "print(df[df['levels']==3]['danceability'].mean())\n",
        "print(df[df['levels']==4]['danceability'].mean())\n",
        "print(df[df['levels']==5]['danceability'].mean())"
      ],
      "execution_count": null,
      "outputs": [
        {
          "output_type": "stream",
          "text": [
            "0.6668862612612603\n",
            "0.6875698924731185\n",
            "0.6781005586592175\n",
            "0.6578212290502794\n",
            "0.6495168539325843\n",
            "0.6600180722891565\n"
          ],
          "name": "stdout"
        }
      ]
    },
    {
      "cell_type": "code",
      "metadata": {
        "id": "BdVzrWFGs27s",
        "outputId": "9a16f44c-e337-48f6-bd44-efcc71847c0f"
      },
      "source": [
        "#take tempo as an example\n",
        "df.tempo.mean()   #122.7376756756757\n",
        "print(df[df['levels']==1]['tempo'].mean())  #118.74089784946226\n",
        "print(df[df['levels']==5]['tempo'].mean())  #120.65328915662649"
      ],
      "execution_count": null,
      "outputs": [
        {
          "output_type": "stream",
          "text": [
            "118.74089784946226\n",
            "120.65328915662649\n"
          ],
          "name": "stdout"
        }
      ]
    },
    {
      "cell_type": "code",
      "metadata": {
        "id": "s-m_yFBHs27s",
        "outputId": "8b56bb64-95b8-48af-c4be-a6053574ff66"
      },
      "source": [
        "df.key.mean()"
      ],
      "execution_count": null,
      "outputs": [
        {
          "output_type": "execute_result",
          "data": {
            "text/plain": [
              "5.41554054054054"
            ]
          },
          "metadata": {
            "tags": []
          },
          "execution_count": 295
        }
      ]
    },
    {
      "cell_type": "code",
      "metadata": {
        "id": "7V0i6Iens27s",
        "outputId": "1fbf9466-3f59-4c2b-8241-8a4547383af6"
      },
      "source": [
        "df.loudness.mean()"
      ],
      "execution_count": null,
      "outputs": [
        {
          "output_type": "execute_result",
          "data": {
            "text/plain": [
              "-5.75695495495495"
            ]
          },
          "metadata": {
            "tags": []
          },
          "execution_count": 296
        }
      ]
    },
    {
      "cell_type": "code",
      "metadata": {
        "id": "OqD0_Ha_s27s",
        "outputId": "1434be7b-df38-4e38-d894-08cdb5fa53ee"
      },
      "source": [
        "df.duration_ms.mean()  #219487.80292792793\n",
        "print(df[df['levels']==1]['duration_ms'].mean())  #3.72\n",
        "print(df[df['levels']==5]['duration_ms'].mean())   #3.579"
      ],
      "execution_count": null,
      "outputs": [
        {
          "output_type": "stream",
          "text": [
            "223705.3817204301\n",
            "214796.6204819277\n"
          ],
          "name": "stdout"
        }
      ]
    },
    {
      "cell_type": "markdown",
      "metadata": {
        "id": "nXVWSYX3uhjJ"
      },
      "source": [
        "#3. train & test "
      ]
    },
    {
      "cell_type": "code",
      "metadata": {
        "colab": {
          "base_uri": "https://localhost:8080/",
          "height": 164
        },
        "id": "n78qF08kP0J6",
        "outputId": "d2d99799-55db-4f7f-d13f-eac698bb1850"
      },
      "source": [
        "print('Dataset: ', df.shape[0], 'Rows', df.shape[1], 'Features')"
      ],
      "execution_count": null,
      "outputs": [
        {
          "output_type": "error",
          "ename": "NameError",
          "evalue": "ignored",
          "traceback": [
            "\u001b[0;31m---------------------------------------------------------------------------\u001b[0m",
            "\u001b[0;31mNameError\u001b[0m                                 Traceback (most recent call last)",
            "\u001b[0;32m<ipython-input-1-9e77802af0d9>\u001b[0m in \u001b[0;36m<module>\u001b[0;34m()\u001b[0m\n\u001b[0;32m----> 1\u001b[0;31m \u001b[0mprint\u001b[0m\u001b[0;34m(\u001b[0m\u001b[0;34m'Dataset: '\u001b[0m\u001b[0;34m,\u001b[0m \u001b[0mdf\u001b[0m\u001b[0;34m.\u001b[0m\u001b[0mshape\u001b[0m\u001b[0;34m[\u001b[0m\u001b[0;36m0\u001b[0m\u001b[0;34m]\u001b[0m\u001b[0;34m,\u001b[0m \u001b[0;34m'Rows'\u001b[0m\u001b[0;34m,\u001b[0m \u001b[0mdf\u001b[0m\u001b[0;34m.\u001b[0m\u001b[0mshape\u001b[0m\u001b[0;34m[\u001b[0m\u001b[0;36m1\u001b[0m\u001b[0;34m]\u001b[0m\u001b[0;34m,\u001b[0m \u001b[0;34m'Features'\u001b[0m\u001b[0;34m)\u001b[0m\u001b[0;34m\u001b[0m\u001b[0;34m\u001b[0m\u001b[0m\n\u001b[0m",
            "\u001b[0;31mNameError\u001b[0m: name 'df' is not defined"
          ]
        }
      ]
    },
    {
      "cell_type": "code",
      "metadata": {
        "id": "j6WnFrrfs27t",
        "colab": {
          "base_uri": "https://localhost:8080/",
          "height": 164
        },
        "outputId": "fe070d26-4405-4490-d09d-0469ebf1d298"
      },
      "source": [
        "df.columns"
      ],
      "execution_count": null,
      "outputs": [
        {
          "output_type": "error",
          "ename": "NameError",
          "evalue": "ignored",
          "traceback": [
            "\u001b[0;31m---------------------------------------------------------------------------\u001b[0m",
            "\u001b[0;31mNameError\u001b[0m                                 Traceback (most recent call last)",
            "\u001b[0;32m<ipython-input-2-b666bf274d0a>\u001b[0m in \u001b[0;36m<module>\u001b[0;34m()\u001b[0m\n\u001b[0;32m----> 1\u001b[0;31m \u001b[0mdf\u001b[0m\u001b[0;34m.\u001b[0m\u001b[0mcolumns\u001b[0m\u001b[0;34m\u001b[0m\u001b[0;34m\u001b[0m\u001b[0m\n\u001b[0m",
            "\u001b[0;31mNameError\u001b[0m: name 'df' is not defined"
          ]
        }
      ]
    },
    {
      "cell_type": "code",
      "metadata": {
        "id": "-ydYFPRemkRU"
      },
      "source": [
        "from sklearn.model_selection import train_test_split\n",
        "#features = ['danceability','energy','key','loudness','speechiness','instrumentalness','liveness','valence','tempo','duration_ms','popularity']\n",
        "features = ['danceability','key','loudness','mode','liveness','valence','tempo','duration_ms','time_signature','popularity']\n",
        "#features = ['danceability','energy','key','loudness','mode','speechiness','acousticness','instrumentalness','liveness','valence','tempo','duration_ms','time_signature','popularity']\n",
        "\n",
        "X = df[features]\n",
        "y = df['levels']\n",
        "X_train, X_test, y_train, y_test = train_test_split(X, y, random_state=0, test_size=0.1)"
      ],
      "execution_count": null,
      "outputs": []
    },
    {
      "cell_type": "code",
      "metadata": {
        "id": "LZrhKdXAmkP_"
      },
      "source": [
        "print('train dataset features: ',X_train.shape,\n",
        "     'test dataset features: ',X_test.shape)\n",
        "print('train dataset labels: ',y_train.shape,\n",
        "     'test dataset labels: ',y_test.shape)"
      ],
      "execution_count": null,
      "outputs": []
    },
    {
      "cell_type": "code",
      "metadata": {
        "id": "RdT5rb_vctjm"
      },
      "source": [
        "'''\n",
        "#给数据乘上一个数10，100或1000… 让数据的最小非零数在数据的个位以上to avoid ValueError: Unknown label type: 'continuous'\n",
        "X_train=X_train*1000\n",
        "y_train=y_train*1000\n",
        "X_test=X_test*1000\n",
        "y_test=y_test*1000\n",
        "'''"
      ],
      "execution_count": null,
      "outputs": []
    },
    {
      "cell_type": "markdown",
      "metadata": {
        "id": "P5fZKfgaKaef"
      },
      "source": [
        "#4.\n",
        "4.1 Scaling"
      ]
    },
    {
      "cell_type": "code",
      "metadata": {
        "id": "eL4aIVFHclNl"
      },
      "source": [
        "from sklearn.preprocessing import StandardScaler\n",
        "\n",
        "scaler=StandardScaler()\n",
        "X_std=scaler.fit_transform(X)\n",
        "X_std_train=scaler.fit_transform(X_train)\n",
        "X_std_test=scaler.fit_transform(X_test)"
      ],
      "execution_count": null,
      "outputs": []
    },
    {
      "cell_type": "markdown",
      "metadata": {
        "id": "G-1mbxSCK2ST"
      },
      "source": [
        "4.2 PCA"
      ]
    },
    {
      "cell_type": "code",
      "metadata": {
        "colab": {
          "base_uri": "https://localhost:8080/"
        },
        "id": "mogB84ZHdykk",
        "outputId": "4bc4abbd-2449-402a-c3e0-632a8c3d5b14"
      },
      "source": [
        "from sklearn.decomposition import PCA\n",
        "\n",
        "pca=PCA(n_components='mle', random_state=42)\n",
        "X_std_pca=pca.fit_transform(X_std)\n",
        "print('Explained variation per principal component: {}'.format(pca.explained_variance_ratio_))  #9"
      ],
      "execution_count": null,
      "outputs": [
        {
          "output_type": "stream",
          "text": [
            "Explained variation per principal component: [0.1675882  0.13970421 0.11961433 0.10126386 0.09646827 0.09280524\n",
            " 0.0832233  0.0783033  0.07076115]\n"
          ],
          "name": "stdout"
        }
      ]
    },
    {
      "cell_type": "code",
      "metadata": {
        "id": "WfJtk7-Gf8sk",
        "outputId": "f8db145e-db30-49ce-9b2f-55a26b8cb1b2"
      },
      "source": [
        "df_pca=pd.DataFrame(data=X_std_pca, columns=['PC1','PC2','PC3','PC4','PC5','PC6','PC7','PC8','PC9'])\n",
        "df_pca"
      ],
      "execution_count": null,
      "outputs": [
        {
          "output_type": "execute_result",
          "data": {
            "text/html": [
              "<div>\n",
              "<style scoped>\n",
              "    .dataframe tbody tr th:only-of-type {\n",
              "        vertical-align: middle;\n",
              "    }\n",
              "\n",
              "    .dataframe tbody tr th {\n",
              "        vertical-align: top;\n",
              "    }\n",
              "\n",
              "    .dataframe thead th {\n",
              "        text-align: right;\n",
              "    }\n",
              "</style>\n",
              "<table border=\"1\" class=\"dataframe\">\n",
              "  <thead>\n",
              "    <tr style=\"text-align: right;\">\n",
              "      <th></th>\n",
              "      <th>PC1</th>\n",
              "      <th>PC2</th>\n",
              "      <th>PC3</th>\n",
              "      <th>PC4</th>\n",
              "      <th>PC5</th>\n",
              "      <th>PC6</th>\n",
              "      <th>PC7</th>\n",
              "      <th>PC8</th>\n",
              "      <th>PC9</th>\n",
              "    </tr>\n",
              "  </thead>\n",
              "  <tbody>\n",
              "    <tr>\n",
              "      <td>0</td>\n",
              "      <td>-1.988096</td>\n",
              "      <td>1.404019</td>\n",
              "      <td>0.936115</td>\n",
              "      <td>0.958156</td>\n",
              "      <td>1.500792</td>\n",
              "      <td>0.712481</td>\n",
              "      <td>0.089334</td>\n",
              "      <td>-0.440755</td>\n",
              "      <td>-1.328236</td>\n",
              "    </tr>\n",
              "    <tr>\n",
              "      <td>1</td>\n",
              "      <td>-1.177783</td>\n",
              "      <td>1.163384</td>\n",
              "      <td>-1.776084</td>\n",
              "      <td>0.496373</td>\n",
              "      <td>0.061664</td>\n",
              "      <td>-0.871065</td>\n",
              "      <td>0.771382</td>\n",
              "      <td>-0.398346</td>\n",
              "      <td>-0.219924</td>\n",
              "    </tr>\n",
              "    <tr>\n",
              "      <td>2</td>\n",
              "      <td>0.636223</td>\n",
              "      <td>0.784102</td>\n",
              "      <td>-0.561871</td>\n",
              "      <td>-0.611344</td>\n",
              "      <td>0.936836</td>\n",
              "      <td>0.903451</td>\n",
              "      <td>-1.112035</td>\n",
              "      <td>-0.086928</td>\n",
              "      <td>-0.592930</td>\n",
              "    </tr>\n",
              "    <tr>\n",
              "      <td>3</td>\n",
              "      <td>0.634054</td>\n",
              "      <td>0.896920</td>\n",
              "      <td>-1.570437</td>\n",
              "      <td>-0.550326</td>\n",
              "      <td>-0.040383</td>\n",
              "      <td>-0.204478</td>\n",
              "      <td>1.362640</td>\n",
              "      <td>0.975825</td>\n",
              "      <td>0.853935</td>\n",
              "    </tr>\n",
              "    <tr>\n",
              "      <td>4</td>\n",
              "      <td>0.590168</td>\n",
              "      <td>-0.228312</td>\n",
              "      <td>-1.998022</td>\n",
              "      <td>0.081310</td>\n",
              "      <td>1.074263</td>\n",
              "      <td>-1.574916</td>\n",
              "      <td>0.953356</td>\n",
              "      <td>-0.701719</td>\n",
              "      <td>-0.314980</td>\n",
              "    </tr>\n",
              "    <tr>\n",
              "      <td>...</td>\n",
              "      <td>...</td>\n",
              "      <td>...</td>\n",
              "      <td>...</td>\n",
              "      <td>...</td>\n",
              "      <td>...</td>\n",
              "      <td>...</td>\n",
              "      <td>...</td>\n",
              "      <td>...</td>\n",
              "      <td>...</td>\n",
              "    </tr>\n",
              "    <tr>\n",
              "      <td>883</td>\n",
              "      <td>1.212602</td>\n",
              "      <td>0.341209</td>\n",
              "      <td>-1.376241</td>\n",
              "      <td>-1.061501</td>\n",
              "      <td>0.523308</td>\n",
              "      <td>1.116318</td>\n",
              "      <td>-0.098611</td>\n",
              "      <td>-0.744100</td>\n",
              "      <td>-0.109942</td>\n",
              "    </tr>\n",
              "    <tr>\n",
              "      <td>884</td>\n",
              "      <td>-1.027167</td>\n",
              "      <td>0.773348</td>\n",
              "      <td>-1.501222</td>\n",
              "      <td>-0.065239</td>\n",
              "      <td>-0.765968</td>\n",
              "      <td>-0.245130</td>\n",
              "      <td>0.128865</td>\n",
              "      <td>0.362387</td>\n",
              "      <td>-0.849767</td>\n",
              "    </tr>\n",
              "    <tr>\n",
              "      <td>885</td>\n",
              "      <td>0.549792</td>\n",
              "      <td>-0.581168</td>\n",
              "      <td>-0.697388</td>\n",
              "      <td>0.315098</td>\n",
              "      <td>1.376433</td>\n",
              "      <td>2.882563</td>\n",
              "      <td>-1.610161</td>\n",
              "      <td>-0.616785</td>\n",
              "      <td>-0.887646</td>\n",
              "    </tr>\n",
              "    <tr>\n",
              "      <td>886</td>\n",
              "      <td>-0.656357</td>\n",
              "      <td>-1.101090</td>\n",
              "      <td>-1.163410</td>\n",
              "      <td>1.553472</td>\n",
              "      <td>1.006629</td>\n",
              "      <td>0.477269</td>\n",
              "      <td>-0.138843</td>\n",
              "      <td>-0.077518</td>\n",
              "      <td>-0.151141</td>\n",
              "    </tr>\n",
              "    <tr>\n",
              "      <td>887</td>\n",
              "      <td>-0.306254</td>\n",
              "      <td>-1.093817</td>\n",
              "      <td>0.325151</td>\n",
              "      <td>-0.145999</td>\n",
              "      <td>-1.378489</td>\n",
              "      <td>-1.606878</td>\n",
              "      <td>-0.684901</td>\n",
              "      <td>0.193423</td>\n",
              "      <td>1.361942</td>\n",
              "    </tr>\n",
              "  </tbody>\n",
              "</table>\n",
              "<p>888 rows × 9 columns</p>\n",
              "</div>"
            ],
            "text/plain": [
              "          PC1       PC2       PC3       PC4       PC5       PC6       PC7  \\\n",
              "0   -1.988096  1.404019  0.936115  0.958156  1.500792  0.712481  0.089334   \n",
              "1   -1.177783  1.163384 -1.776084  0.496373  0.061664 -0.871065  0.771382   \n",
              "2    0.636223  0.784102 -0.561871 -0.611344  0.936836  0.903451 -1.112035   \n",
              "3    0.634054  0.896920 -1.570437 -0.550326 -0.040383 -0.204478  1.362640   \n",
              "4    0.590168 -0.228312 -1.998022  0.081310  1.074263 -1.574916  0.953356   \n",
              "..        ...       ...       ...       ...       ...       ...       ...   \n",
              "883  1.212602  0.341209 -1.376241 -1.061501  0.523308  1.116318 -0.098611   \n",
              "884 -1.027167  0.773348 -1.501222 -0.065239 -0.765968 -0.245130  0.128865   \n",
              "885  0.549792 -0.581168 -0.697388  0.315098  1.376433  2.882563 -1.610161   \n",
              "886 -0.656357 -1.101090 -1.163410  1.553472  1.006629  0.477269 -0.138843   \n",
              "887 -0.306254 -1.093817  0.325151 -0.145999 -1.378489 -1.606878 -0.684901   \n",
              "\n",
              "          PC8       PC9  \n",
              "0   -0.440755 -1.328236  \n",
              "1   -0.398346 -0.219924  \n",
              "2   -0.086928 -0.592930  \n",
              "3    0.975825  0.853935  \n",
              "4   -0.701719 -0.314980  \n",
              "..        ...       ...  \n",
              "883 -0.744100 -0.109942  \n",
              "884  0.362387 -0.849767  \n",
              "885 -0.616785 -0.887646  \n",
              "886 -0.077518 -0.151141  \n",
              "887  0.193423  1.361942  \n",
              "\n",
              "[888 rows x 9 columns]"
            ]
          },
          "metadata": {
            "tags": []
          },
          "execution_count": 125
        }
      ]
    },
    {
      "cell_type": "code",
      "metadata": {
        "id": "S4GUVCOXs27u",
        "outputId": "a533db7a-1b22-400a-93b0-3fe35ffe357b"
      },
      "source": [
        "pca.components_ #check every components"
      ],
      "execution_count": null,
      "outputs": [
        {
          "output_type": "execute_result",
          "data": {
            "text/plain": [
              "array([[-0.37329825, -0.07647729, -0.53969511,  0.01959458, -0.08107658,\n",
              "        -0.51729938, -0.06063972,  0.28611027, -0.43287637, -0.12670674],\n",
              "       [ 0.43261772, -0.12655085, -0.36979495,  0.03512149, -0.35051755,\n",
              "         0.11697691, -0.43006945, -0.40732412, -0.26444628,  0.31858171],\n",
              "       [ 0.19174592,  0.61270325, -0.13067206, -0.7069256 ,  0.05063588,\n",
              "        -0.02006949, -0.09812142, -0.01930892, -0.05881748, -0.2336286 ],\n",
              "       [-0.04392618, -0.06938317, -0.09772916,  0.02521944,  0.5990352 ,\n",
              "         0.28997116,  0.28894998, -0.38002194, -0.55217243, -0.0856729 ],\n",
              "       [-0.23587579,  0.32221683,  0.02332972, -0.01996967,  0.29378286,\n",
              "        -0.32129549, -0.01239057, -0.16523386,  0.10921145,  0.78145621],\n",
              "       [ 0.03263444, -0.28234924,  0.05830923, -0.08715748,  0.56587446,\n",
              "        -0.03561472, -0.72832081,  0.17457568,  0.12763792, -0.09754939],\n",
              "       [ 0.19546302, -0.58925563, -0.06993787, -0.59684297,  0.03036823,\n",
              "        -0.05064184,  0.3453327 ,  0.19970992,  0.04703947,  0.29769262],\n",
              "       [ 0.1224576 ,  0.22045247,  0.06391718,  0.11173237, -0.00202148,\n",
              "         0.43804259, -0.05375403,  0.69345413, -0.37171246,  0.32559429],\n",
              "       [ 0.68803327,  0.12916718, -0.24329769,  0.34631756,  0.300954  ,\n",
              "        -0.34999852,  0.24707115,  0.16313913,  0.15852428, -0.07025449]])"
            ]
          },
          "metadata": {
            "tags": []
          },
          "execution_count": 126
        }
      ]
    },
    {
      "cell_type": "code",
      "metadata": {
        "colab": {
          "base_uri": "https://localhost:8080/",
          "height": 314
        },
        "id": "lcJVVjiHdzav",
        "outputId": "7d4ffada-74b9-48f7-b82d-74df85338ff1"
      },
      "source": [
        "plt.matshow(pca.components_, cmap='viridis')\n",
        "plt.yticks([0,1,2,3,4,5,6,7,8,9], ['1st component','2nd component','3rd component','4th component','5th component','6th component','7th component','8th component','9th component'])\n",
        "plt.colorbar()\n",
        "plt.xticks(range(len(features)),features, rotation=60, ha='left')\n",
        "plt.xlabel('Feature')\n",
        "plt.ylabel('Principal components')"
      ],
      "execution_count": null,
      "outputs": [
        {
          "output_type": "execute_result",
          "data": {
            "text/plain": [
              "Text(0, 0.5, 'Principal components')"
            ]
          },
          "metadata": {
            "tags": []
          },
          "execution_count": 127
        },
        {
          "output_type": "display_data",
          "data": {
            "image/png": "[encoded data removed]",
            "text/plain": [
              "<Figure size 320x288 with 2 Axes>"
            ]
          },
          "metadata": {
            "tags": []
          }
        }
      ]
    },
    {
      "cell_type": "code",
      "metadata": {
        "id": "uBvHsJgUdzmB",
        "outputId": "a019de2a-e8ff-402f-85da-aba8b38155f9"
      },
      "source": [
        "pca_tr=PCA().fit(X_std)\n",
        "plt.plot(np.cumsum(pca_tr.explained_variance_ratio_))\n",
        "plt.xlabel('PCA feature')\n",
        "plt.ylabel('variance')\n",
        "plt.xticks()\n",
        "plt.show()"
      ],
      "execution_count": null,
      "outputs": [
        {
          "output_type": "display_data",
          "data": {
            "image/png": "[encoded data removed]",
            "text/plain": [
              "<Figure size 432x288 with 1 Axes>"
            ]
          },
          "metadata": {
            "tags": []
          }
        }
      ]
    },
    {
      "cell_type": "code",
      "metadata": {
        "id": "4GFUEOyxL0eR"
      },
      "source": [
        "from sklearn.pipeline import make_pipeline\n",
        "\n",
        "pipeline=make_pipeline(scaler,PCA(n_components=10)) \n",
        "X_std_pca_tr=pipeline.fit_transform(X_train)\n",
        "X_std_pca_te=pipeline.fit_transform(X_test)"
      ],
      "execution_count": null,
      "outputs": []
    },
    {
      "cell_type": "markdown",
      "metadata": {
        "id": "jqL9nXG2BQiG"
      },
      "source": [
        "##5. Models"
      ]
    },
    {
      "cell_type": "code",
      "metadata": {
        "id": "gI2VZ95-s27v",
        "outputId": "ef1ca374-a248-48c1-b019-5ed9e74247dd"
      },
      "source": [
        "X_train.head(3)"
      ],
      "execution_count": null,
      "outputs": [
        {
          "output_type": "execute_result",
          "data": {
            "text/html": [
              "<div>\n",
              "<style scoped>\n",
              "    .dataframe tbody tr th:only-of-type {\n",
              "        vertical-align: middle;\n",
              "    }\n",
              "\n",
              "    .dataframe tbody tr th {\n",
              "        vertical-align: top;\n",
              "    }\n",
              "\n",
              "    .dataframe thead th {\n",
              "        text-align: right;\n",
              "    }\n",
              "</style>\n",
              "<table border=\"1\" class=\"dataframe\">\n",
              "  <thead>\n",
              "    <tr style=\"text-align: right;\">\n",
              "      <th></th>\n",
              "      <th>danceability</th>\n",
              "      <th>key</th>\n",
              "      <th>loudness</th>\n",
              "      <th>mode</th>\n",
              "      <th>liveness</th>\n",
              "      <th>valence</th>\n",
              "      <th>tempo</th>\n",
              "      <th>duration_ms</th>\n",
              "      <th>time_signature</th>\n",
              "      <th>popularity</th>\n",
              "    </tr>\n",
              "  </thead>\n",
              "  <tbody>\n",
              "    <tr>\n",
              "      <td>695</td>\n",
              "      <td>0.602</td>\n",
              "      <td>5.0</td>\n",
              "      <td>-5.423</td>\n",
              "      <td>0.0</td>\n",
              "      <td>0.3890</td>\n",
              "      <td>0.732</td>\n",
              "      <td>150.183</td>\n",
              "      <td>206373.0</td>\n",
              "      <td>4.0</td>\n",
              "      <td>18</td>\n",
              "    </tr>\n",
              "    <tr>\n",
              "      <td>516</td>\n",
              "      <td>0.545</td>\n",
              "      <td>7.0</td>\n",
              "      <td>-4.867</td>\n",
              "      <td>0.0</td>\n",
              "      <td>0.0828</td>\n",
              "      <td>0.458</td>\n",
              "      <td>125.014</td>\n",
              "      <td>255093.0</td>\n",
              "      <td>4.0</td>\n",
              "      <td>1</td>\n",
              "    </tr>\n",
              "    <tr>\n",
              "      <td>366</td>\n",
              "      <td>0.653</td>\n",
              "      <td>6.0</td>\n",
              "      <td>-5.273</td>\n",
              "      <td>0.0</td>\n",
              "      <td>0.1440</td>\n",
              "      <td>0.401</td>\n",
              "      <td>123.999</td>\n",
              "      <td>234213.0</td>\n",
              "      <td>4.0</td>\n",
              "      <td>54</td>\n",
              "    </tr>\n",
              "  </tbody>\n",
              "</table>\n",
              "</div>"
            ],
            "text/plain": [
              "     danceability  key  loudness  mode  liveness  valence    tempo  \\\n",
              "695         0.602  5.0    -5.423   0.0    0.3890    0.732  150.183   \n",
              "516         0.545  7.0    -4.867   0.0    0.0828    0.458  125.014   \n",
              "366         0.653  6.0    -5.273   0.0    0.1440    0.401  123.999   \n",
              "\n",
              "     duration_ms  time_signature  popularity  \n",
              "695     206373.0             4.0          18  \n",
              "516     255093.0             4.0           1  \n",
              "366     234213.0             4.0          54  "
            ]
          },
          "metadata": {
            "tags": []
          },
          "execution_count": 303
        }
      ]
    },
    {
      "cell_type": "markdown",
      "metadata": {
        "id": "hxELRu10hflP"
      },
      "source": [
        "5.1 Kmeans"
      ]
    },
    {
      "cell_type": "code",
      "metadata": {
        "colab": {
          "base_uri": "https://localhost:8080/"
        },
        "id": "ryewIquUi1IO",
        "outputId": "041d603a-8a8e-4778-e332-f6e06f6ab80c"
      },
      "source": [
        "from sklearn.cluster import KMeans\n",
        "kmeans=KMeans(n_clusters=5, random_state=10)\n",
        "kmeans.fit(X_std_train,y_train)\n",
        "#print(kmeans.labels_)  #0,1,2,3,4\n",
        "kmeans_pred=kmeans.predict(X_std_test)   #clusters = k_means.fit_predict(scaled_data)\n",
        "kmeans_pred"
      ],
      "execution_count": null,
      "outputs": [
        {
          "output_type": "execute_result",
          "data": {
            "text/plain": [
              "array([2, 3, 3, 2, 0, 2, 3, 0, 3, 0, 2, 3, 0, 0, 2, 0, 0, 1, 2, 0, 1, 1,\n",
              "       0, 2, 0, 2, 3, 0, 2, 0, 3, 1, 0, 3, 0, 2, 1, 3, 1, 2, 0, 0, 0, 3,\n",
              "       3, 0, 3, 0, 0, 2, 3, 2, 0, 0, 3, 2, 1, 3, 0, 0, 2, 0, 0, 0, 3, 3,\n",
              "       0, 0, 3, 0, 2, 3, 0, 3, 0, 0, 3, 1, 0, 0, 2, 0, 2, 3, 0, 0, 1, 0,\n",
              "       2], dtype=int32)"
            ]
          },
          "metadata": {
            "tags": []
          },
          "execution_count": 130
        }
      ]
    },
    {
      "cell_type": "code",
      "metadata": {
        "colab": {
          "base_uri": "https://localhost:8080/"
        },
        "id": "6anVJfYERPTc",
        "outputId": "f2bab5bc-5e20-496d-b2bb-cc2653a5d0e7"
      },
      "source": [
        "kmeans_score = accuracy_score(y_test,kmeans_pred+1)\n",
        "print('Accuracy using KMeans:', round(kmeans_score*100,4),'%')"
      ],
      "execution_count": null,
      "outputs": [
        {
          "output_type": "stream",
          "text": [
            "Accuracy using KMeans: 24.7191 %\n"
          ],
          "name": "stdout"
        }
      ]
    },
    {
      "cell_type": "code",
      "metadata": {
        "id": "pnvqGimbjBe0",
        "outputId": "2027ef7c-3c0d-43f1-b366-6b5033c0383d"
      },
      "source": [
        "'''\n",
        "from scipy.stats import mode\n",
        "k_means_pred= np.zeros_like(y_pred)\n",
        "for i in range(5):\n",
        "    mask=(y_pred== i)\n",
        "    k_means_pred[mask] = mode(y_test[mask])[0]\n",
        "'''"
      ],
      "execution_count": null,
      "outputs": [
        {
          "output_type": "execute_result",
          "data": {
            "text/plain": [
              "'\\nfrom scipy.stats import mode\\nk_means_pred= np.zeros_like(y_pred)\\nfor i in range(5):\\n    mask=(y_pred== i)\\n    k_means_pred[mask] = mode(y_test[mask])[0]\\n'"
            ]
          },
          "metadata": {
            "tags": []
          },
          "execution_count": 132
        }
      ]
    },
    {
      "cell_type": "code",
      "metadata": {
        "colab": {
          "base_uri": "https://localhost:8080/",
          "height": 297
        },
        "id": "7CchMHWxQHJE",
        "outputId": "c5df4775-3157-497e-a77f-38d40df06f48"
      },
      "source": [
        "mat=confusion_matrix(y_test,kmeans_pred+1)\n",
        "cm_kmeans= pd.DataFrame(mat,\n",
        "                     index = ['1','2','3','4','5'], \n",
        "                     columns = ['1','2','3','4','5'])\n",
        "ax=sns.heatmap(cm_kmeans, square=True, annot=True, fmt='d', cbar=False)\n",
        "ax.set_ylim([5, 0])\n",
        "plt.xlabel('Predicted Level')\n",
        "plt.ylabel('True Level')"
      ],
      "execution_count": null,
      "outputs": [
        {
          "output_type": "execute_result",
          "data": {
            "text/plain": [
              "Text(66.00000000000003, 0.5, 'True Level')"
            ]
          },
          "metadata": {
            "tags": []
          },
          "execution_count": 288
        },
        {
          "output_type": "display_data",
          "data": {
            "image/png": "[encoded data removed]",
            "text/plain": [
              "<Figure size 432x288 with 1 Axes>"
            ]
          },
          "metadata": {
            "tags": []
          }
        }
      ]
    },
    {
      "cell_type": "markdown",
      "metadata": {
        "id": "1VSHPVUXx5kP"
      },
      "source": [
        "5.2 Logistic Regression"
      ]
    },
    {
      "cell_type": "code",
      "metadata": {
        "colab": {
          "base_uri": "https://localhost:8080/"
        },
        "id": "vCvpYQ6amkKt",
        "outputId": "29d03ede-b96b-40d9-b5d9-55bd8390921b"
      },
      "source": [
        "from sklearn.linear_model import LogisticRegression\n",
        "lr= LogisticRegression()\n",
        "lr.fit(X_std_train, y_train)\n",
        "lr_pred=lr.predict(X_std_test)\n",
        "\n",
        "lr_conf_matrix = confusion_matrix(y_test, lr_pred)\n",
        "lr_score = accuracy_score(y_test, lr_pred)\n",
        "print('Accuracy using Logistics Regression:', round(lr_score*100, 4),'%')"
      ],
      "execution_count": null,
      "outputs": [
        {
          "output_type": "stream",
          "text": [
            "Accuracy using Logistics Regression: 26.9663 %\n"
          ],
          "name": "stdout"
        }
      ]
    },
    {
      "cell_type": "code",
      "metadata": {
        "id": "sWrC47Ins27w",
        "outputId": "ffae7cad-5a88-4172-a544-0cb00ae58b30"
      },
      "source": [
        "lr.predict_proba(X_std_train)[0]"
      ],
      "execution_count": null,
      "outputs": [
        {
          "output_type": "execute_result",
          "data": {
            "text/plain": [
              "array([0.17121647, 0.21575613, 0.23751569, 0.21976926, 0.15574246])"
            ]
          },
          "metadata": {
            "tags": []
          },
          "execution_count": 285
        }
      ]
    },
    {
      "cell_type": "code",
      "metadata": {
        "id": "boKTwywms27x",
        "outputId": "1ee8dc28-533e-4bd9-964e-2980785fe118"
      },
      "source": [
        "lr.coef_"
      ],
      "execution_count": null,
      "outputs": [
        {
          "output_type": "execute_result",
          "data": {
            "text/plain": [
              "array([[ 0.11598786, -0.09812599, -0.01479043, -0.05035058, -0.03146876,\n",
              "         0.28639944, -0.2083428 ,  0.27140872,  0.05556407,  0.19407756],\n",
              "       [ 0.10634917, -0.00556128, -0.07184279, -0.07644877, -0.04161219,\n",
              "         0.02777677, -0.00238988,  0.03997618,  0.02698651, -0.01739212],\n",
              "       [-0.01548872,  0.06149301, -0.00486914, -0.01851169,  0.06386245,\n",
              "        -0.18785675,  0.17369351, -0.00425497,  0.20488122, -0.12464733],\n",
              "       [-0.09318318, -0.01462644, -0.10016699,  0.08054061,  0.00241025,\n",
              "        -0.06959375,  0.1635236 , -0.17280095, -0.06517582, -0.04128057],\n",
              "       [-0.06955573,  0.08205572,  0.33282788,  0.09569746, -0.01262207,\n",
              "        -0.09455821, -0.13821141, -0.18456682, -0.15674521, -0.00582483]])"
            ]
          },
          "metadata": {
            "tags": []
          },
          "execution_count": 271
        }
      ]
    },
    {
      "cell_type": "code",
      "metadata": {
        "id": "7EM0mI9ys27x",
        "outputId": "e66a1e7d-812b-46f1-8b3f-f0c2a6b0384a"
      },
      "source": [
        "lr.intercept_"
      ],
      "execution_count": null,
      "outputs": [
        {
          "output_type": "execute_result",
          "data": {
            "text/plain": [
              "array([-1.38674332, -1.32879167, -1.43545086, -1.42291284, -1.48671706])"
            ]
          },
          "metadata": {
            "tags": []
          },
          "execution_count": 286
        }
      ]
    },
    {
      "cell_type": "code",
      "metadata": {
        "id": "gQsDmuHI35P-"
      },
      "source": [
        "l=pd.DataFrame(lr_pred,columns=['pred'])\n",
        "y=pd.DataFrame(y_test)\n",
        "l.index=y.index\n",
        "c=pd.merge(l,y,how='inner',left_index=True,right_index=True)"
      ],
      "execution_count": null,
      "outputs": []
    },
    {
      "cell_type": "code",
      "metadata": {
        "colab": {
          "base_uri": "https://localhost:8080/",
          "height": 297
        },
        "id": "0URp4ndFILMw",
        "outputId": "29f74ec9-7da6-4e9e-85bf-e34b815a0185"
      },
      "source": [
        "mat=confusion_matrix(y_test,lr_pred)\n",
        "cm_lr = pd.DataFrame(mat,\n",
        "                     index = ['1','2','3','4','5'], \n",
        "                     columns = ['1','2','3','4','5'])\n",
        "ax=sns.heatmap(cm_lr, square=True, annot=True, fmt='d', cbar=False)\n",
        "ax.set_ylim([5, 0])\n",
        "plt.xlabel('True Level')\n",
        "plt.ylabel('Predicted Level')"
      ],
      "execution_count": null,
      "outputs": [
        {
          "output_type": "execute_result",
          "data": {
            "text/plain": [
              "Text(66.00000000000003, 0.5, 'Predicted Level')"
            ]
          },
          "metadata": {
            "tags": []
          },
          "execution_count": 214
        },
        {
          "output_type": "display_data",
          "data": {
            "image/png": "[encoded data removed]",
            "text/plain": [
              "<Figure size 432x288 with 1 Axes>"
            ]
          },
          "metadata": {
            "tags": []
          }
        }
      ]
    },
    {
      "cell_type": "code",
      "metadata": {
        "id": "M06S3exis27x",
        "outputId": "b3c7722c-70df-40b5-fe87-8d490487aaee"
      },
      "source": [
        "proba = lr.predict_proba(X_std_test)[:,1]\n",
        "y_score=np.array(lr.predict_proba(X_std_test)[:,1])\n",
        "y_true=np.array(y_test)\n",
        "roc_auc_score(y_true, y_score)\n",
        "'''roc is only used for binary'''"
      ],
      "execution_count": null,
      "outputs": [
        {
          "output_type": "error",
          "ename": "ValueError",
          "evalue": "multiclass format is not supported",
          "traceback": [
            "\u001b[0;31m---------------------------------------------------------------------------\u001b[0m",
            "\u001b[0;31mValueError\u001b[0m                                Traceback (most recent call last)",
            "\u001b[0;32m<ipython-input-268-3181fe73168f>\u001b[0m in \u001b[0;36m<module>\u001b[0;34m\u001b[0m\n\u001b[1;32m      2\u001b[0m \u001b[0my_score\u001b[0m\u001b[0;34m=\u001b[0m\u001b[0mnp\u001b[0m\u001b[0;34m.\u001b[0m\u001b[0marray\u001b[0m\u001b[0;34m(\u001b[0m\u001b[0mlr\u001b[0m\u001b[0;34m.\u001b[0m\u001b[0mpredict_proba\u001b[0m\u001b[0;34m(\u001b[0m\u001b[0mX_std_test\u001b[0m\u001b[0;34m)\u001b[0m\u001b[0;34m[\u001b[0m\u001b[0;34m:\u001b[0m\u001b[0;34m,\u001b[0m\u001b[0;36m1\u001b[0m\u001b[0;34m]\u001b[0m\u001b[0;34m)\u001b[0m\u001b[0;34m\u001b[0m\u001b[0;34m\u001b[0m\u001b[0m\n\u001b[1;32m      3\u001b[0m \u001b[0my_true\u001b[0m\u001b[0;34m=\u001b[0m\u001b[0mnp\u001b[0m\u001b[0;34m.\u001b[0m\u001b[0marray\u001b[0m\u001b[0;34m(\u001b[0m\u001b[0my_test\u001b[0m\u001b[0;34m)\u001b[0m\u001b[0;34m\u001b[0m\u001b[0;34m\u001b[0m\u001b[0m\n\u001b[0;32m----> 4\u001b[0;31m \u001b[0mroc_auc_score\u001b[0m\u001b[0;34m(\u001b[0m\u001b[0my_true\u001b[0m\u001b[0;34m,\u001b[0m \u001b[0my_score\u001b[0m\u001b[0;34m)\u001b[0m\u001b[0;34m\u001b[0m\u001b[0;34m\u001b[0m\u001b[0m\n\u001b[0m\u001b[1;32m      5\u001b[0m \u001b[0;31m#fpr,tps,thresholds = roc_curve(y_test,lr_score)\u001b[0m\u001b[0;34m\u001b[0m\u001b[0;34m\u001b[0m\u001b[0;34m\u001b[0m\u001b[0m\n",
            "\u001b[0;32m~/opt/anaconda3/lib/python3.7/site-packages/sklearn/metrics/ranking.py\u001b[0m in \u001b[0;36mroc_auc_score\u001b[0;34m(y_true, y_score, average, sample_weight, max_fpr)\u001b[0m\n\u001b[1;32m    353\u001b[0m     return _average_binary_score(\n\u001b[1;32m    354\u001b[0m         \u001b[0m_binary_roc_auc_score\u001b[0m\u001b[0;34m,\u001b[0m \u001b[0my_true\u001b[0m\u001b[0;34m,\u001b[0m \u001b[0my_score\u001b[0m\u001b[0;34m,\u001b[0m \u001b[0maverage\u001b[0m\u001b[0;34m,\u001b[0m\u001b[0;34m\u001b[0m\u001b[0;34m\u001b[0m\u001b[0m\n\u001b[0;32m--> 355\u001b[0;31m         sample_weight=sample_weight)\n\u001b[0m\u001b[1;32m    356\u001b[0m \u001b[0;34m\u001b[0m\u001b[0m\n\u001b[1;32m    357\u001b[0m \u001b[0;34m\u001b[0m\u001b[0m\n",
            "\u001b[0;32m~/opt/anaconda3/lib/python3.7/site-packages/sklearn/metrics/base.py\u001b[0m in \u001b[0;36m_average_binary_score\u001b[0;34m(binary_metric, y_true, y_score, average, sample_weight)\u001b[0m\n\u001b[1;32m     71\u001b[0m     \u001b[0my_type\u001b[0m \u001b[0;34m=\u001b[0m \u001b[0mtype_of_target\u001b[0m\u001b[0;34m(\u001b[0m\u001b[0my_true\u001b[0m\u001b[0;34m)\u001b[0m\u001b[0;34m\u001b[0m\u001b[0;34m\u001b[0m\u001b[0m\n\u001b[1;32m     72\u001b[0m     \u001b[0;32mif\u001b[0m \u001b[0my_type\u001b[0m \u001b[0;32mnot\u001b[0m \u001b[0;32min\u001b[0m \u001b[0;34m(\u001b[0m\u001b[0;34m\"binary\"\u001b[0m\u001b[0;34m,\u001b[0m \u001b[0;34m\"multilabel-indicator\"\u001b[0m\u001b[0;34m)\u001b[0m\u001b[0;34m:\u001b[0m\u001b[0;34m\u001b[0m\u001b[0;34m\u001b[0m\u001b[0m\n\u001b[0;32m---> 73\u001b[0;31m         \u001b[0;32mraise\u001b[0m \u001b[0mValueError\u001b[0m\u001b[0;34m(\u001b[0m\u001b[0;34m\"{0} format is not supported\"\u001b[0m\u001b[0;34m.\u001b[0m\u001b[0mformat\u001b[0m\u001b[0;34m(\u001b[0m\u001b[0my_type\u001b[0m\u001b[0;34m)\u001b[0m\u001b[0;34m)\u001b[0m\u001b[0;34m\u001b[0m\u001b[0;34m\u001b[0m\u001b[0m\n\u001b[0m\u001b[1;32m     74\u001b[0m \u001b[0;34m\u001b[0m\u001b[0m\n\u001b[1;32m     75\u001b[0m     \u001b[0;32mif\u001b[0m \u001b[0my_type\u001b[0m \u001b[0;34m==\u001b[0m \u001b[0;34m\"binary\"\u001b[0m\u001b[0;34m:\u001b[0m\u001b[0;34m\u001b[0m\u001b[0;34m\u001b[0m\u001b[0m\n",
            "\u001b[0;31mValueError\u001b[0m: multiclass format is not supported"
          ]
        }
      ]
    },
    {
      "cell_type": "code",
      "metadata": {
        "id": "-f4R_-ACs27x",
        "outputId": "a43a4ae2-60bc-40b8-fa22-534a6c8e3e37"
      },
      "source": [
        "X_std_test"
      ],
      "execution_count": null,
      "outputs": [
        {
          "output_type": "execute_result",
          "data": {
            "text/plain": [
              "array([[-1.89909492e-01, -1.16529099e+00,  8.17100663e-01,\n",
              "        -1.33463478e+00, -4.72405807e-01, -4.45967868e-01,\n",
              "         3.92023169e-01, -1.81815022e+00,  1.21070147e-01,\n",
              "         5.16453853e-01],\n",
              "       [-1.42985714e-01, -1.44038621e+00,  6.65909369e-01,\n",
              "         7.49268649e-01, -5.53137087e-01, -1.33496574e+00,\n",
              "         3.96146853e-01,  3.06965589e-01,  1.21070147e-01,\n",
              "         3.35134749e-01],\n",
              "       [-1.28792590e+00, -8.90195767e-01,  1.94424322e-01,\n",
              "         7.49268649e-01, -7.54231367e-01, -6.69833161e-03,\n",
              "         2.83275719e-01,  2.94400274e+00,  1.21070147e-01,\n",
              "        -1.48382862e-01],\n",
              "       [ 3.73175843e-01,  1.58566121e+00,  1.25855817e+00,\n",
              "        -1.33463478e+00, -7.25608458e-01,  9.71199326e-01,\n",
              "         3.95007931e-01,  7.85904255e-01,  1.21070147e-01,\n",
              "        -1.56871585e+00],\n",
              "       [ 5.23331933e-01, -6.49101080e-02, -1.40177645e+00,\n",
              "         7.49268649e-01, -6.04511538e-01, -5.92391046e-01,\n",
              "         3.10766949e-01, -5.59256699e-01,  1.21070147e-01,\n",
              "        -2.39042415e-01],\n",
              "       [ 4.47093974e-02,  2.10185112e-01,  3.68794769e-01,\n",
              "        -1.33463478e+00, -4.21031356e-01, -3.20462286e-01,\n",
              "        -3.86214267e-01, -9.66451144e-02,  1.21070147e-01,\n",
              "        -1.53849600e+00],\n",
              "       [-7.90533850e-01, -8.90195767e-01, -6.73213525e-01,\n",
              "         7.49268649e-01, -7.98266610e-01, -4.45967868e-01,\n",
              "         1.18239602e+00,  1.31747066e+00,  1.21070147e-01,\n",
              "         2.74695047e-01],\n",
              "       [-1.99294248e-01, -6.49101080e-02,  1.02234508e-01,\n",
              "         7.49268649e-01, -7.54231367e-01, -4.45967868e-01,\n",
              "        -4.26587102e-01,  9.81957681e-02,  1.21070147e-01,\n",
              "         7.88432510e-01],\n",
              "       [ 4.76408155e-01, -1.16529099e+00,  6.88561723e-01,\n",
              "         7.49268649e-01, -6.85976739e-01, -2.68168294e-01,\n",
              "         8.68721090e-01,  8.66915487e-01,  1.21070147e-01,\n",
              "        -1.53849600e+00],\n",
              "       [ 1.02072398e+00,  4.85280331e-01,  3.26970485e-02,\n",
              "         7.49268649e-01,  1.08350614e+00,  1.60918603e+00,\n",
              "        -1.32862950e-01,  8.45953424e-02,  1.21070147e-01,\n",
              "         6.37333256e-01],\n",
              "       [ 4.38869132e-01,  1.58566121e+00, -4.12448052e-01,\n",
              "        -1.33463478e+00,  4.59673519e-01, -4.45967868e-01,\n",
              "        -5.84308213e-01, -2.63168202e-01,  1.21070147e-01,\n",
              "        -1.47805629e+00],\n",
              "       [-3.05225995e+00, -1.16529099e+00,  3.70375166e-01,\n",
              "        -1.33463478e+00, -3.03604039e-01, -2.02524644e+00,\n",
              "         7.86404494e-01, -1.47997924e+00,  1.21070147e-01,\n",
              "         1.21151042e+00],\n",
              "       [ 5.42101444e-01,  1.31056599e+00,  6.94356511e-01,\n",
              "         7.49268649e-01, -3.10943246e-01,  6.62664771e-01,\n",
              "         3.99013796e-01,  1.46815648e-01,  1.21070147e-01,\n",
              "         3.04914898e-01],\n",
              "       [ 1.00195447e+00, -8.90195767e-01,  6.71177358e-01,\n",
              "         7.49268649e-01, -4.28370563e-01, -6.55143837e-01,\n",
              "        -5.84622399e-01, -1.43526830e-02,  1.21070147e-01,\n",
              "         9.09311912e-01],\n",
              "       [-3.40065582e-01, -6.15100547e-01, -6.27382017e-01,\n",
              "        -1.33463478e+00, -1.10504548e+00,  8.35234946e-01,\n",
              "        -1.68305411e+00,  7.52626287e-03,  1.21070147e-01,\n",
              "         4.56014152e-01],\n",
              "       [-5.46530205e-01,  7.60375551e-01, -1.96808531e+00,\n",
              "         7.49268649e-01, -4.13692148e-01, -5.81932248e-01,\n",
              "        -2.68041253e-01,  2.67346958e-01,  3.71281784e+00,\n",
              "         5.46673704e-01],\n",
              "       [ 5.70255711e-01,  7.60375551e-01,  2.37621834e-01,\n",
              "         7.49268649e-01, -4.79745014e-01, -2.89085891e-01,\n",
              "         3.19367776e-01, -2.22875824e+00,  1.21070147e-01,\n",
              "         9.99971464e-01],\n",
              "       [-9.78228962e-01,  4.85280331e-01,  4.14099478e-01,\n",
              "        -1.33463478e+00,  1.20093346e+00, -3.36150484e-01,\n",
              "         2.36070939e+00,  1.90606391e-01,  1.21070147e-01,\n",
              "         6.97772957e-01],\n",
              "       [-6.87301539e-01,  1.03547077e+00,  6.09541883e-01,\n",
              "        -1.33463478e+00, -8.78263970e-01,  3.43671417e-01,\n",
              "        -3.87549556e-01,  4.10939859e-01,  1.21070147e-01,\n",
              "         6.37333256e-01],\n",
              "       [-3.03686473e-02, -1.44038621e+00,  3.97768711e-01,\n",
              "         7.49268649e-01, -6.33868367e-01,  1.29019268e+00,\n",
              "        -7.53277341e-02, -8.19767270e-01,  3.71281784e+00,\n",
              "         8.48872211e-01],\n",
              "       [-1.65393136e+00, -6.49101080e-02, -2.07168121e-03,\n",
              "         7.49268649e-01,  1.28166474e+00,  1.15422830e+00,\n",
              "         1.10612749e+00, -1.79068951e-01,  1.21070147e-01,\n",
              "         5.76893555e-01],\n",
              "       [-8.18688117e-01, -1.44038621e+00,  1.17216315e+00,\n",
              "        -1.33463478e+00,  1.25230791e+00,  4.90094596e-01,\n",
              "         7.78274944e-01,  3.85118761e-01,  1.21070147e-01,\n",
              "        -1.56871585e+00],\n",
              "       [ 1.47941709e-01,  4.85280331e-01, -2.05289994e+00,\n",
              "         7.49268649e-01, -4.28370563e-01, -9.53219594e-01,\n",
              "        -1.37440615e+00, -9.05344829e-01,  1.21070147e-01,\n",
              "         7.27992808e-01],\n",
              "       [ 4.85792910e-01, -3.40005328e-01,  1.40922267e+00,\n",
              "        -1.33463478e+00,  7.60581018e-01,  1.86019720e+00,\n",
              "         3.19760508e-01,  4.94612044e-01,  1.21070147e-01,\n",
              "         4.56014152e-01],\n",
              "       [ 3.54406332e-01, -1.44038621e+00,  1.01412346e+00,\n",
              "         7.49268649e-01, -2.30211966e-01,  1.32156908e+00,\n",
              "         2.95175494e-01,  1.63898308e-01,  1.21070147e-01,\n",
              "         3.35134749e-01],\n",
              "       [-3.86989360e-01,  7.60375551e-01, -2.53860855e+00,\n",
              "        -1.33463478e+00, -4.06352941e-01, -7.44043624e-01,\n",
              "         6.24716790e-01, -1.60212322e-01,  1.21070147e-01,\n",
              "         7.27992808e-01],\n",
              "       [-1.56946856e+00, -1.44038621e+00, -4.63547548e-01,\n",
              "        -1.33463478e+00,  9.88096444e-01, -5.61014651e-01,\n",
              "        -1.17218852e+00,  1.33123534e+00,  1.21070147e-01,\n",
              "         7.88432510e-01],\n",
              "       [-7.90533850e-01,  4.85280331e-01, -2.54935170e-01,\n",
              "         7.49268649e-01, -5.16441051e-01, -6.23767442e-01,\n",
              "         1.18212111e+00, -9.99890784e-01,  1.21070147e-01,\n",
              "         6.97772957e-01],\n",
              "       [ 1.07703251e+00,  2.10185112e-01, -9.63479738e-01,\n",
              "        -1.33463478e+00, -8.59182031e-01, -1.20423076e+00,\n",
              "        -7.80791958e-01,  3.32983795e-01,  1.21070147e-01,\n",
              "         6.37333256e-01],\n",
              "       [ 1.29172198e-01,  7.60375551e-01, -1.12731421e+00,\n",
              "         7.49268649e-01, -5.53137087e-01, -7.80649419e-01,\n",
              "         4.98592942e-03,  2.90934169e-01,  1.21070147e-01,\n",
              "         8.18652360e-01],\n",
              "       [-1.97301305e+00, -3.40005328e-01,  1.84415142e-01,\n",
              "        -1.33463478e+00, -4.35709770e-01, -1.38725973e+00,\n",
              "         7.85029932e-01, -2.90303351e-01,  1.21070147e-01,\n",
              "         1.12085087e+00],\n",
              "       [-2.27448515e-01,  2.10185112e-01, -1.98567684e-01,\n",
              "        -1.33463478e+00,  1.28166474e+00,  4.79635798e-01,\n",
              "         4.41193196e-01,  6.58868394e-01,  1.21070147e-01,\n",
              "        -1.56871585e+00],\n",
              "       [-5.55914960e-01,  7.60375551e-01,  1.04099021e+00,\n",
              "         7.49268649e-01, -4.79745014e-01,  1.03119052e-01,\n",
              "        -1.17191361e+00,  2.88733134e-01,  1.21070147e-01,\n",
              "         5.16453853e-01],\n",
              "       [-3.02526559e-01,  1.03547077e+00, -1.30115786e+00,\n",
              "        -1.33463478e+00, -4.43048978e-01, -1.37157153e+00,\n",
              "        -1.66542045e+00,  2.08766868e+00,  1.21070147e-01,\n",
              "        -1.56871585e+00],\n",
              "       [-1.57885332e+00,  2.10185112e-01,  1.02571304e+00,\n",
              "         7.49268649e-01, -9.36977628e-01, -2.10644902e-01,\n",
              "         1.14814980e+00, -6.24532172e-01,  1.21070147e-01,\n",
              "         4.56014152e-01],\n",
              "       [ 7.48566067e-01,  1.58566121e+00,  6.50105401e-01,\n",
              "        -1.33463478e+00,  1.45046650e+00, -9.58448993e-01,\n",
              "         8.36108460e-02, -1.67669560e-01,  1.21070147e-01,\n",
              "         7.58212659e-01],\n",
              "       [-3.21296071e-01, -3.40005328e-01,  1.58306631e+00,\n",
              "        -1.33463478e+00,  3.42471326e+00,  1.09670491e+00,\n",
              "         1.18282802e+00, -2.02721865e-01,  1.21070147e-01,\n",
              "        -1.56871585e+00],\n",
              "       [ 1.54627029e+00, -1.16529099e+00,  7.00997729e-02,\n",
              "         7.49268649e-01,  9.80757237e-01, -6.39455640e-01,\n",
              "        -8.60163065e-01,  2.18931051e+00,  1.21070147e-01,\n",
              "        -1.56871585e+00],\n",
              "       [ 6.07794733e-01,  4.85280331e-01,  1.33072962e+00,\n",
              "        -1.33463478e+00,  2.74950619e+00, -1.28267175e+00,\n",
              "        -8.58788504e-01, -1.35291053e+00,  1.21070147e-01,\n",
              "        -1.56871585e+00],\n",
              "       [ 5.70255711e-01, -1.44038621e+00, -3.86108105e-01,\n",
              "        -1.33463478e+00,  2.24818886e-01, -3.93673875e-01,\n",
              "         3.17679029e-01,  8.19182591e-01,  1.21070147e-01,\n",
              "         5.16453853e-01],\n",
              "       [ 1.32103616e+00,  1.58566121e+00, -5.94193684e-01,\n",
              "         7.49268649e-01,  1.93210817e-02,  1.55413045e-01,\n",
              "         4.30416458e-02,  3.31439785e-01,  1.21070147e-01,\n",
              "         1.84035495e-01],\n",
              "       [ 8.22484198e-02, -1.44038621e+00, -5.68587705e-02,\n",
              "         7.49268649e-01,  4.64266708e-03,  9.50281729e-01,\n",
              "        -2.68787444e-01,  5.99801810e-01,  1.21070147e-01,\n",
              "         7.58212659e-01],\n",
              "       [ 4.57638643e-01,  4.85280331e-01,  1.45663457e+00,\n",
              "         7.49268649e-01,  1.00052362e-01,  2.09029076e+00,\n",
              "         3.16657926e-01, -3.72234419e-01,  1.21070147e-01,\n",
              "         8.48872211e-01],\n",
              "       [-5.93453983e-01,  4.85280331e-01, -1.20370005e+00,\n",
              "         7.49268649e-01, -6.19189953e-01, -9.53219594e-01,\n",
              "        -1.32645359e+00,  1.03468692e+00,  1.21070147e-01,\n",
              "         3.65354600e-01],\n",
              "       [-1.42869723e+00, -1.44038621e+00, -2.40901602e+00,\n",
              "         7.49268649e-01, -5.75154709e-01, -8.22484613e-01,\n",
              "         2.11780474e+00, -8.02356097e-01, -3.47067754e+00,\n",
              "        -1.56871585e+00],\n",
              "       [-1.15991361e-02, -8.90195767e-01,  5.86889528e-01,\n",
              "         7.49268649e-01, -7.93863086e-01,  8.56152543e-01,\n",
              "        -2.11592316e+00, -1.85179287e-01,  1.21070147e-01,\n",
              "         8.18652360e-01],\n",
              "       [-5.93453983e-01, -8.90195767e-01, -1.91645901e+00,\n",
              "         7.49268649e-01, -5.45797880e-01, -6.23767442e-01,\n",
              "         1.81355538e+00,  3.18102170e-01,  1.21070147e-01,\n",
              "         3.65354600e-01],\n",
              "       [ 2.13634998e-01, -6.49101080e-02, -1.38544569e+00,\n",
              "         7.49268649e-01, -1.56819893e-01, -2.26333100e-01,\n",
              "        -1.09969022e+00, -5.50058343e-01,  1.21070147e-01,\n",
              "         8.79092062e-01],\n",
              "       [ 1.65551307e-02, -8.90195767e-01,  3.58785589e-01,\n",
              "         7.49268649e-01, -4.50388185e-01,  6.05141379e-01,\n",
              "         1.45946834e+00, -1.97439086e+00,  1.21070147e-01,\n",
              "         4.56014152e-01],\n",
              "       [ 1.09580202e+00, -1.44038621e+00,  5.21886091e-02,\n",
              "        -1.33463478e+00, -5.97172331e-01,  7.14958763e-01,\n",
              "        -2.29710625e-01, -3.29330660e-01,  1.21070147e-01,\n",
              "         7.27992808e-01],\n",
              "       [ 1.12395629e+00, -8.90195767e-01, -8.77611512e-01,\n",
              "         7.49268649e-01, -4.28370563e-01, -4.09362073e-01,\n",
              "        -9.76804425e-01,  8.20923709e-01,  1.21070147e-01,\n",
              "        -1.53849600e+00],\n",
              "       [ 8.42413623e-01,  1.31056599e+00,  8.29743838e-01,\n",
              "        -1.33463478e+00, -5.82493916e-01,  1.42615706e+00,\n",
              "        -3.62453990e-01, -9.78011838e-01, -3.47067754e+00,\n",
              "        -1.44783644e+00],\n",
              "       [ 1.59319407e+00, -1.16529099e+00,  6.34828232e-01,\n",
              "         7.49268649e-01,  7.38563396e-01,  9.81658125e-01,\n",
              "        -3.98585321e-01,  2.45888803e+00,  1.21070147e-01,\n",
              "        -1.56871585e+00],\n",
              "       [ 1.97796905e+00,  2.10185112e-01,  6.35710176e-03,\n",
              "         7.49268649e-01, -8.35696568e-01,  4.03662615e-02,\n",
              "        -5.43778286e-01, -4.35013196e-01,  1.21070147e-01,\n",
              "        -1.47805629e+00],\n",
              "       [-1.05446692e-01,  7.60375551e-01, -1.70152505e+00,\n",
              "         7.49268649e-01, -2.52229588e-01, -9.74137191e-01,\n",
              "         6.28487016e-01,  4.98127129e-01,  1.21070147e-01,\n",
              "        -1.56871585e+00],\n",
              "       [ 5.60870955e-01,  1.58566121e+00, -1.53789775e-01,\n",
              "        -1.33463478e+00,  1.42844888e+00, -1.64350029e+00,\n",
              "         1.49614949e+00, -1.45849451e+00,  1.21070147e-01,\n",
              "         2.44475197e-01],\n",
              "       [-1.75716368e+00, -1.16529099e+00,  1.05784778e+00,\n",
              "        -1.33463478e+00,  3.75497759e+00,  6.99270566e-01,\n",
              "        -1.22764226e+00, -1.39187509e-01,  1.21070147e-01,\n",
              "        -4.20361519e-01],\n",
              "       [-1.06269176e+00, -8.90195767e-01,  7.54938389e-01,\n",
              "         7.49268649e-01, -5.31119465e-01,  4.48259402e-01,\n",
              "         8.18828259e-02,  4.21912183e-01,  1.21070147e-01,\n",
              "        -1.56871585e+00],\n",
              "       [ 1.24595811e+00, -1.44038621e+00,  9.59863175e-01,\n",
              "         7.49268649e-01, -4.65066599e-01, -3.93673875e-01,\n",
              "         2.02883509e-01,  6.08047479e-01,  1.21070147e-01,\n",
              "        -1.56871585e+00],\n",
              "       [-4.05758871e-01,  7.60375551e-01,  4.20947864e-01,\n",
              "         7.49268649e-01, -5.97172331e-01,  1.44707466e+00,\n",
              "         1.06271474e-01,  8.81829963e-01,  1.21070147e-01,\n",
              "         6.37333256e-01],\n",
              "       [ 9.36261179e-01, -1.44038621e+00, -4.63227918e-02,\n",
              "        -1.33463478e+00,  7.67920225e-01,  7.25417562e-01,\n",
              "         1.17670141e+00, -1.07879953e+00,  1.21070147e-01,\n",
              "         1.03019132e+00],\n",
              "       [ 2.23019754e-01, -3.40005328e-01,  1.43134822e+00,\n",
              "         7.49268649e-01, -2.81586417e-01,  1.18037530e+00,\n",
              "        -7.40615490e-01, -7.34452522e-01,  1.21070147e-01,\n",
              "        -2.39042415e-01],\n",
              "       [-1.82285697e+00,  1.31056599e+00, -3.04454270e-01,\n",
              "         7.49268649e-01,  4.67012726e-01, -2.23865293e-02,\n",
              "        -1.72397677e+00,  1.57328054e-01,  1.21070147e-01,\n",
              "         7.58212659e-01],\n",
              "       [-2.64987537e-01, -1.44038621e+00, -8.70236327e-01,\n",
              "         7.49268649e-01, -9.81062350e-02, -5.34867655e-01,\n",
              "        -4.64839184e-01,  2.40113255e-01, -3.47067754e+00,\n",
              "         8.48872211e-01],\n",
              "       [-5.55914960e-01,  7.60375551e-01, -3.71357735e-01,\n",
              "         7.49268649e-01, -6.19189953e-01, -1.83698807e+00,\n",
              "        -9.74919312e-01,  1.49986091e+00, -3.47067754e+00,\n",
              "         1.06041117e+00],\n",
              "       [ 1.92166052e+00,  1.03547077e+00,  1.98111914e-01,\n",
              "         7.49268649e-01, -4.50388185e-01, -1.01074299e+00,\n",
              "         7.91195822e-01,  1.14243909e+00,  1.21070147e-01,\n",
              "        -1.56871585e+00],\n",
              "       [-1.14831448e-01,  1.03547077e+00,  1.21904825e+00,\n",
              "         7.49268649e-01,  5.62422421e-01,  1.44707466e+00,\n",
              "        -1.17364163e+00, -2.22859694e-01,  1.21070147e-01,\n",
              "         8.48872211e-01],\n",
              "       [-1.71023990e+00, -8.90195767e-01,  1.76375835e+00,\n",
              "         7.49268649e-01, -1.05954239e+00,  6.73123569e-01,\n",
              "         1.42875671e+00, -1.33017745e+00,  1.21070147e-01,\n",
              "        -3.90141668e-01],\n",
              "       [ 1.65551307e-02, -8.90195767e-01, -2.20166440e-01,\n",
              "        -1.33463478e+00, -6.96985550e-01, -4.56426666e-01,\n",
              "         2.82590424e-03,  1.13281367e+00, -3.47067754e+00,\n",
              "        -1.56871585e+00],\n",
              "       [ 1.76095976e-01,  1.03547077e+00, -4.93575088e-01,\n",
              "         7.49268649e-01, -6.26529160e-01,  8.98986611e-03,\n",
              "        -1.56562729e+00, -1.25613069e+00,  1.21070147e-01,\n",
              "         7.27992808e-01],\n",
              "       [ 9.08106912e-01,  1.31056599e+00,  8.14466668e-01,\n",
              "        -1.33463478e+00,  1.40643126e+00, -1.16239556e+00,\n",
              "        -7.04719799e-01, -1.53017598e+00,  1.21070147e-01,\n",
              "         7.88432510e-01],\n",
              "       [-6.02838738e-01, -8.90195767e-01,  1.82834745e-01,\n",
              "         7.49268649e-01, -2.08194344e-01, -2.18735781e+00,\n",
              "        -7.15009373e-01,  6.40734493e-01,  1.21070147e-01,\n",
              "         5.16453853e-01],\n",
              "       [-1.71139981e-01, -3.40005328e-01, -5.42040590e-01,\n",
              "         7.49268649e-01,  4.86779108e-02,  1.66148003e+00,\n",
              "        -1.48562781e+00,  2.71650474e-01,  1.21070147e-01,\n",
              "        -1.56871585e+00],\n",
              "       [-1.90731977e+00,  1.03547077e+00,  3.07159294e-01,\n",
              "         7.49268649e-01, -6.04511538e-01,  1.04441092e+00,\n",
              "         2.03564524e+00, -8.22592479e-01,  1.21070147e-01,\n",
              "        -1.47805629e+00],\n",
              "       [ 4.76408155e-01,  1.31056599e+00, -1.52030621e+00,\n",
              "         7.49268649e-01, -4.21031356e-01,  1.24036649e-01,\n",
              "        -1.40908437e+00, -1.89696041e+00,  1.21070147e-01,\n",
              "         1.33238982e+00],\n",
              "       [-1.47562101e+00,  1.31056599e+00,  5.17878868e-01,\n",
              "         7.49268649e-01, -3.91674527e-01,  4.74406398e-01,\n",
              "         1.26353442e+00, -1.02268957e+00,  1.21070147e-01,\n",
              "         7.58212659e-01],\n",
              "       [-6.87301539e-01, -6.49101080e-02, -2.78641122e-01,\n",
              "        -1.33463478e+00, -4.35709770e-01, -2.04093464e+00,\n",
              "         1.56805870e+00,  1.32423839e-02,  1.21070147e-01,\n",
              "         1.03019132e+00],\n",
              "       [ 1.03010873e+00,  4.85280331e-01,  5.14718074e-01,\n",
              "        -1.33463478e+00,  3.76965601e+00,  5.52847387e-01,\n",
              "         3.96461039e-01, -1.46217681e-01,  1.21070147e-01,\n",
              "         6.37333256e-01],\n",
              "       [ 5.70255711e-01,  1.31056599e+00,  5.40004423e-01,\n",
              "         7.49268649e-01, -4.13692148e-01,  3.75047813e-01,\n",
              "         5.37866127e-03,  3.28417468e-01,  1.21070147e-01,\n",
              "        -9.03879130e-01],\n",
              "       [ 4.57638643e-01,  4.85280331e-01,  7.28071643e-01,\n",
              "         7.49268649e-01,  4.64266708e-03,  1.44184526e+00,\n",
              "         3.98503244e-01, -5.99992274e-01,  1.21070147e-01,\n",
              "         3.35134749e-01],\n",
              "       [ 2.11874038e+00,  7.60375551e-01, -1.38070449e+00,\n",
              "        -1.33463478e+00, -7.57900970e-01, -7.49273024e-01,\n",
              "        -1.76171830e+00,  8.42011271e-02,  1.21070147e-01,\n",
              "         8.18652360e-01],\n",
              "       [-4.71452160e-01, -8.90195767e-01,  9.90417513e-01,\n",
              "         7.49268649e-01, -2.44890381e-01, -6.13308643e-01,\n",
              "         3.14615721e-01, -3.15730234e-01,  1.21070147e-01,\n",
              "         6.31560925e-02],\n",
              "       [-3.77604604e-01,  4.85280331e-01,  2.93462521e-01,\n",
              "        -1.33463478e+00, -7.32947666e-01,  1.97248239e-01,\n",
              "         6.55685683e-03,  1.20994550e-01,  1.21070147e-01,\n",
              "         4.25794301e-01],\n",
              "       [ 1.41488371e+00,  1.58566121e+00, -3.03959434e+00,\n",
              "         7.49268649e-01, -5.97172331e-01, -8.12025814e-01,\n",
              "        -3.10024288e-01,  2.66742789e+00,  1.21070147e-01,\n",
              "        -1.50827614e+00],\n",
              "       [-2.64987537e-01,  1.31056599e+00,  5.34736434e-01,\n",
              "         7.49268649e-01, -6.87494058e-02, -8.12025814e-01,\n",
              "         8.70959661e-01,  2.54959076e-02,  1.21070147e-01,\n",
              "         5.76893555e-01],\n",
              "       [ 9.55030690e-01, -8.90195767e-01,  1.74198794e-02,\n",
              "         7.49268649e-01, -8.81199653e-01,  2.05891437e+00,\n",
              "        -1.17674421e+00, -1.96134890e+00,  1.21070147e-01,\n",
              "         1.03019132e+00],\n",
              "       [ 8.23644112e-01,  4.85280331e-01,  9.50380794e-01,\n",
              "         7.49268649e-01,  1.20093346e+00,  1.55689204e+00,\n",
              "         1.10754133e+00,  1.42873495e-01,  1.21070147e-01,\n",
              "         6.67553107e-01],\n",
              "       [ 1.82781296e+00, -1.16529099e+00, -9.69801325e-01,\n",
              "         7.49268649e-01,  1.10552376e+00,  7.04499965e-01,\n",
              "         8.72059310e-01, -3.89776997e-01,  1.21070147e-01,\n",
              "        -1.56871585e+00],\n",
              "       [-2.36833270e-01,  2.10185112e-01, -4.19296438e-01,\n",
              "        -1.33463478e+00,  1.14730776e-01,  7.30646961e-01,\n",
              "        -1.29986565e+00, -2.16289440e-01,  1.21070147e-01,\n",
              "         6.07113405e-01]])"
            ]
          },
          "metadata": {
            "tags": []
          },
          "execution_count": 215
        }
      ]
    },
    {
      "cell_type": "code",
      "metadata": {
        "id": "hxuFm7O8s27y",
        "outputId": "7033683e-1cae-4529-ae90-dff177c08cc8"
      },
      "source": [
        "x1_min=X_std_train.min(axis=0)  #x1.shape(89,89)\n",
        "x2_min=X_std_train.min(axis=0) \n",
        "x1_max=X_std_train.max(axis=0)\n",
        "x2_max=X_std_train.max(axis=0)\n",
        "\n",
        "t1 = np.linspace(x1_min,x1_max,89)\n",
        "t2 = np.linspace(x2_min,x2_max,89)\n",
        "x1,x2 = np.meshgrid(t1, t2)                    # 生成网格采样点\n",
        "#xtest = np.stack((x1.flat, x2.flat), axis=1)   # 测试点\n",
        "\n",
        "x_show = np.stack((x1.flat, x2.flat), axis=1)  # 测试点\n",
        "y_predict=lr.predict(x_show)\n",
        " \n",
        "cm_light = mpl.colors.ListedColormap(['#d73027','#fc8d59','#fee090','#e0f3f8','#91bfdb'])\n",
        "cm_dark = mpl.colors.ListedColormap(['b', 'g', 'r', 'c', 'm'])"
      ],
      "execution_count": null,
      "outputs": [
        {
          "output_type": "error",
          "ename": "ValueError",
          "evalue": "X has 2 features per sample; expecting 10",
          "traceback": [
            "\u001b[0;31m---------------------------------------------------------------------------\u001b[0m",
            "\u001b[0;31mValueError\u001b[0m                                Traceback (most recent call last)",
            "\u001b[0;32m<ipython-input-287-092be6221c4f>\u001b[0m in \u001b[0;36m<module>\u001b[0;34m\u001b[0m\n\u001b[1;32m     10\u001b[0m \u001b[0;34m\u001b[0m\u001b[0m\n\u001b[1;32m     11\u001b[0m \u001b[0mx_show\u001b[0m \u001b[0;34m=\u001b[0m \u001b[0mnp\u001b[0m\u001b[0;34m.\u001b[0m\u001b[0mstack\u001b[0m\u001b[0;34m(\u001b[0m\u001b[0;34m(\u001b[0m\u001b[0mx1\u001b[0m\u001b[0;34m.\u001b[0m\u001b[0mflat\u001b[0m\u001b[0;34m,\u001b[0m \u001b[0mx2\u001b[0m\u001b[0;34m.\u001b[0m\u001b[0mflat\u001b[0m\u001b[0;34m)\u001b[0m\u001b[0;34m,\u001b[0m \u001b[0maxis\u001b[0m\u001b[0;34m=\u001b[0m\u001b[0;36m1\u001b[0m\u001b[0;34m)\u001b[0m  \u001b[0;31m# 测试点\u001b[0m\u001b[0;34m\u001b[0m\u001b[0;34m\u001b[0m\u001b[0m\n\u001b[0;32m---> 12\u001b[0;31m \u001b[0my_predict\u001b[0m\u001b[0;34m=\u001b[0m\u001b[0mlr\u001b[0m\u001b[0;34m.\u001b[0m\u001b[0mpredict\u001b[0m\u001b[0;34m(\u001b[0m\u001b[0mx_show\u001b[0m\u001b[0;34m)\u001b[0m\u001b[0;34m\u001b[0m\u001b[0;34m\u001b[0m\u001b[0m\n\u001b[0m\u001b[1;32m     13\u001b[0m \u001b[0;34m\u001b[0m\u001b[0m\n\u001b[1;32m     14\u001b[0m \u001b[0mcm_light\u001b[0m \u001b[0;34m=\u001b[0m \u001b[0mmpl\u001b[0m\u001b[0;34m.\u001b[0m\u001b[0mcolors\u001b[0m\u001b[0;34m.\u001b[0m\u001b[0mListedColormap\u001b[0m\u001b[0;34m(\u001b[0m\u001b[0;34m[\u001b[0m\u001b[0;34m'#d73027'\u001b[0m\u001b[0;34m,\u001b[0m\u001b[0;34m'#fc8d59'\u001b[0m\u001b[0;34m,\u001b[0m\u001b[0;34m'#fee090'\u001b[0m\u001b[0;34m,\u001b[0m\u001b[0;34m'#e0f3f8'\u001b[0m\u001b[0;34m,\u001b[0m\u001b[0;34m'#91bfdb'\u001b[0m\u001b[0;34m]\u001b[0m\u001b[0;34m)\u001b[0m\u001b[0;34m\u001b[0m\u001b[0;34m\u001b[0m\u001b[0m\n",
            "\u001b[0;32m~/opt/anaconda3/lib/python3.7/site-packages/sklearn/linear_model/base.py\u001b[0m in \u001b[0;36mpredict\u001b[0;34m(self, X)\u001b[0m\n\u001b[1;32m    287\u001b[0m             \u001b[0mPredicted\u001b[0m \u001b[0;32mclass\u001b[0m \u001b[0mlabel\u001b[0m \u001b[0mper\u001b[0m \u001b[0msample\u001b[0m\u001b[0;34m.\u001b[0m\u001b[0;34m\u001b[0m\u001b[0;34m\u001b[0m\u001b[0m\n\u001b[1;32m    288\u001b[0m         \"\"\"\n\u001b[0;32m--> 289\u001b[0;31m         \u001b[0mscores\u001b[0m \u001b[0;34m=\u001b[0m \u001b[0mself\u001b[0m\u001b[0;34m.\u001b[0m\u001b[0mdecision_function\u001b[0m\u001b[0;34m(\u001b[0m\u001b[0mX\u001b[0m\u001b[0;34m)\u001b[0m\u001b[0;34m\u001b[0m\u001b[0;34m\u001b[0m\u001b[0m\n\u001b[0m\u001b[1;32m    290\u001b[0m         \u001b[0;32mif\u001b[0m \u001b[0mlen\u001b[0m\u001b[0;34m(\u001b[0m\u001b[0mscores\u001b[0m\u001b[0;34m.\u001b[0m\u001b[0mshape\u001b[0m\u001b[0;34m)\u001b[0m \u001b[0;34m==\u001b[0m \u001b[0;36m1\u001b[0m\u001b[0;34m:\u001b[0m\u001b[0;34m\u001b[0m\u001b[0;34m\u001b[0m\u001b[0m\n\u001b[1;32m    291\u001b[0m             \u001b[0mindices\u001b[0m \u001b[0;34m=\u001b[0m \u001b[0;34m(\u001b[0m\u001b[0mscores\u001b[0m \u001b[0;34m>\u001b[0m \u001b[0;36m0\u001b[0m\u001b[0;34m)\u001b[0m\u001b[0;34m.\u001b[0m\u001b[0mastype\u001b[0m\u001b[0;34m(\u001b[0m\u001b[0mnp\u001b[0m\u001b[0;34m.\u001b[0m\u001b[0mint\u001b[0m\u001b[0;34m)\u001b[0m\u001b[0;34m\u001b[0m\u001b[0;34m\u001b[0m\u001b[0m\n",
            "\u001b[0;32m~/opt/anaconda3/lib/python3.7/site-packages/sklearn/linear_model/base.py\u001b[0m in \u001b[0;36mdecision_function\u001b[0;34m(self, X)\u001b[0m\n\u001b[1;32m    268\u001b[0m         \u001b[0;32mif\u001b[0m \u001b[0mX\u001b[0m\u001b[0;34m.\u001b[0m\u001b[0mshape\u001b[0m\u001b[0;34m[\u001b[0m\u001b[0;36m1\u001b[0m\u001b[0;34m]\u001b[0m \u001b[0;34m!=\u001b[0m \u001b[0mn_features\u001b[0m\u001b[0;34m:\u001b[0m\u001b[0;34m\u001b[0m\u001b[0;34m\u001b[0m\u001b[0m\n\u001b[1;32m    269\u001b[0m             raise ValueError(\"X has %d features per sample; expecting %d\"\n\u001b[0;32m--> 270\u001b[0;31m                              % (X.shape[1], n_features))\n\u001b[0m\u001b[1;32m    271\u001b[0m \u001b[0;34m\u001b[0m\u001b[0m\n\u001b[1;32m    272\u001b[0m         scores = safe_sparse_dot(X, self.coef_.T,\n",
            "\u001b[0;31mValueError\u001b[0m: X has 2 features per sample; expecting 10"
          ]
        }
      ]
    },
    {
      "cell_type": "code",
      "metadata": {
        "id": "_bv9V3fVs27y",
        "outputId": "d198420f-0b77-4a19-b492-6af6a035e5bd"
      },
      "source": [
        "lr_pred      # 预测值\n",
        "#lr_pred =lr_pred.reshape(x1.shape)                 # 使之与输入的形状相同\n",
        "plt.pcolormesh( x1,x2,lr_pred.reshape(x1.shape) ,cm_dark)     # 预测值的显示\n"
      ],
      "execution_count": null,
      "outputs": [
        {
          "output_type": "error",
          "ename": "ValueError",
          "evalue": "cannot reshape array of size 89 into shape (890,890)",
          "traceback": [
            "\u001b[0;31m---------------------------------------------------------------------------\u001b[0m",
            "\u001b[0;31mValueError\u001b[0m                                Traceback (most recent call last)",
            "\u001b[0;32m<ipython-input-282-db48b995499a>\u001b[0m in \u001b[0;36m<module>\u001b[0;34m\u001b[0m\n\u001b[1;32m      1\u001b[0m \u001b[0mlr_pred\u001b[0m      \u001b[0;31m# 预测值\u001b[0m\u001b[0;34m\u001b[0m\u001b[0;34m\u001b[0m\u001b[0m\n\u001b[1;32m      2\u001b[0m \u001b[0;31m#lr_pred =lr_pred.reshape(x1.shape)                 # 使之与输入的形状相同\u001b[0m\u001b[0;34m\u001b[0m\u001b[0;34m\u001b[0m\u001b[0;34m\u001b[0m\u001b[0m\n\u001b[0;32m----> 3\u001b[0;31m \u001b[0mplt\u001b[0m\u001b[0;34m.\u001b[0m\u001b[0mpcolormesh\u001b[0m\u001b[0;34m(\u001b[0m \u001b[0mx1\u001b[0m\u001b[0;34m,\u001b[0m\u001b[0mx2\u001b[0m\u001b[0;34m,\u001b[0m\u001b[0mlr_pred\u001b[0m\u001b[0;34m.\u001b[0m\u001b[0mreshape\u001b[0m\u001b[0;34m(\u001b[0m\u001b[0mx1\u001b[0m\u001b[0;34m.\u001b[0m\u001b[0mshape\u001b[0m\u001b[0;34m)\u001b[0m \u001b[0;34m,\u001b[0m\u001b[0mcm_dark\u001b[0m\u001b[0;34m)\u001b[0m     \u001b[0;31m# 预测值的显示\u001b[0m\u001b[0;34m\u001b[0m\u001b[0;34m\u001b[0m\u001b[0m\n\u001b[0m",
            "\u001b[0;31mValueError\u001b[0m: cannot reshape array of size 89 into shape (890,890)"
          ]
        }
      ]
    },
    {
      "cell_type": "code",
      "metadata": {
        "id": "Q3GyEq4Ss27y"
      },
      "source": [
        "plt.scatter(x1,x2, edgecolors='k', s=50, cmap=cm_light)    \n",
        "\n",
        "plt.xlabel('petal length')\n",
        "plt.ylabel('petal width')\n",
        "plt.xlim(x1_min, x1_max)\n",
        "plt.ylim(x2_min, x2_max)\n",
        "plt.grid()\n",
        "plt.show()"
      ],
      "execution_count": null,
      "outputs": []
    },
    {
      "cell_type": "markdown",
      "metadata": {
        "id": "kWRoetI07TkD"
      },
      "source": [
        "5.3 Decision tree"
      ]
    },
    {
      "cell_type": "code",
      "metadata": {
        "colab": {
          "base_uri": "https://localhost:8080/"
        },
        "id": "NE4AT0oeOw3e",
        "outputId": "71ad5c5c-492b-47cb-e68c-92146d2c492d"
      },
      "source": [
        "from sklearn.tree import DecisionTreeClassifier\n",
        "dt = DecisionTreeClassifier()\n",
        "dt.fit(X_std_train, y_train)\n",
        "dt_pred= dt.predict(X_std_test)\n",
        "\n",
        "dt_conf_matrix = confusion_matrix(y_test, dt_pred)\n",
        "dt_score = accuracy_score(y_test, dt_pred)\n",
        "#score=dt.score(X_test,y_test)  print(score)#\n",
        "print('Accuracy using Decision Tree:', round(dt_score*100,4),'%')"
      ],
      "execution_count": null,
      "outputs": [
        {
          "output_type": "stream",
          "text": [
            "Accuracy using Decision Tree: 28.0899 %\n"
          ],
          "name": "stdout"
        }
      ]
    },
    {
      "cell_type": "code",
      "metadata": {
        "colab": {
          "base_uri": "https://localhost:8080/",
          "height": 297
        },
        "id": "Zux9cp3ANjz9",
        "outputId": "115410db-2114-44d3-998d-e6a4502589c7"
      },
      "source": [
        "mat=confusion_matrix(y_test,dt_pred)\n",
        "cm_dt= pd.DataFrame(mat,\n",
        "                     index = ['1','2','3','4','5'], \n",
        "                     columns = ['1','2','3','4','5'])\n",
        "ax=sns.heatmap(cm_dt, square=True, annot=True, fmt='d', cbar=False)\n",
        "\n",
        "ax.set_ylim([5, 0])\n",
        "plt.xlabel('Predicted LevelTrue Level')\n",
        "plt.ylabel('True Level')"
      ],
      "execution_count": null,
      "outputs": [
        {
          "output_type": "execute_result",
          "data": {
            "text/plain": [
              "Text(66.00000000000003, 0.5, 'True Level')"
            ]
          },
          "metadata": {
            "tags": []
          },
          "execution_count": 212
        },
        {
          "output_type": "display_data",
          "data": {
            "image/png": "[encoded data removed]",
            "text/plain": [
              "<Figure size 432x288 with 1 Axes>"
            ]
          },
          "metadata": {
            "tags": []
          }
        }
      ]
    },
    {
      "cell_type": "code",
      "metadata": {
        "colab": {
          "base_uri": "https://localhost:8080/",
          "height": 299
        },
        "id": "gHMt48kK7S6k",
        "outputId": "b8763ea6-954a-456f-f325-a25258e8cfd4"
      },
      "source": [
        "max_depth = range(1,20)\n",
        "test = []\n",
        "train = []\n",
        "\n",
        "for depth in max_depth:\n",
        "    model = DecisionTreeClassifier(max_depth= depth,max_features = 'auto')  #min_samples_leaf=2,min_impurity_decrease=0.1\n",
        "    model.fit(X_std_train, y_train)\n",
        "    test.append(model.score(X_std_test,y_test))\n",
        "    train.append(model.score(X_std_train,y_train))\n",
        "\n",
        "plt.plot( train, label='training accuracy')\n",
        "plt.plot( test, label='test accuracy')\n",
        "plt.ylabel('Accuracy')\n",
        "plt.xlabel('n_depth')\n",
        "plt.legend()"
      ],
      "execution_count": null,
      "outputs": [
        {
          "output_type": "execute_result",
          "data": {
            "text/plain": [
              "<matplotlib.legend.Legend at 0x7f9eda586e50>"
            ]
          },
          "metadata": {
            "tags": []
          },
          "execution_count": 213
        },
        {
          "output_type": "display_data",
          "data": {
            "image/png": "[encoded data removed]",
            "text/plain": [
              "<Figure size 432x288 with 1 Axes>"
            ]
          },
          "metadata": {
            "tags": []
          }
        }
      ]
    },
    {
      "cell_type": "code",
      "metadata": {
        "colab": {
          "base_uri": "https://localhost:8080/",
          "height": 310
        },
        "id": "yXXLVtE3Tjgk",
        "outputId": "02bad5c4-1985-441a-eebb-900824081ce1"
      },
      "source": [
        "#plot_feature_importances\n",
        "n_features=df[features].shape[1]\n",
        "plt.barh(range(n_features), model.feature_importances_, align='center')\n",
        "plt.yticks(np.arange(n_features), features)\n",
        "plt.xlabel('Features importance')\n",
        "plt.ylabel('Features')\n",
        "#plt.title('Features Importance')"
      ],
      "execution_count": null,
      "outputs": [
        {
          "output_type": "execute_result",
          "data": {
            "text/plain": [
              "Text(0, 0.5, 'Features')"
            ]
          },
          "metadata": {
            "tags": []
          },
          "execution_count": 140
        },
        {
          "output_type": "display_data",
          "data": {
            "image/png": "[encoded data removed]",
            "text/plain": [
              "<Figure size 432x288 with 1 Axes>"
            ]
          },
          "metadata": {
            "tags": []
          }
        }
      ]
    },
    {
      "cell_type": "markdown",
      "metadata": {
        "id": "NOqedo0FwUuP"
      },
      "source": [
        "5.4 Support Vector Machine"
      ]
    },
    {
      "cell_type": "code",
      "metadata": {
        "colab": {
          "base_uri": "https://localhost:8080/"
        },
        "id": "xshp1CmTCCb7",
        "outputId": "871c2ba7-7e76-47df-9b2b-6ac7ce358584"
      },
      "source": [
        "from sklearn import svm\n",
        "svc_model=svm.SVC(kernel='linear')\n",
        "svc_model.fit(X_std_train, y_train)\n",
        "svm_pred =svc_model.predict(X_std_test)\n",
        "\n",
        "svm_score= accuracy_score(y_test,svm_pred) * 100\n",
        "print('Accuracy using Support Vector Machine: ', round(svm_score,4),'%')\n",
        "\n",
        "print(confusion_matrix(y_test,svm_pred))\n",
        "#print(classification_report(y_test,y_pred))"
      ],
      "execution_count": null,
      "outputs": [
        {
          "output_type": "stream",
          "text": [
            "Accuracy using Support Vector Machine:  19.1011 %\n",
            "[[7 3 4 1 4]\n",
            " [5 3 1 2 1]\n",
            " [5 6 3 3 5]\n",
            " [6 4 2 4 5]\n",
            " [3 4 3 5 0]]\n"
          ],
          "name": "stdout"
        }
      ]
    },
    {
      "cell_type": "markdown",
      "metadata": {
        "id": "X7XgOlX0waP1"
      },
      "source": [
        "5.5 KNN\n"
      ]
    },
    {
      "cell_type": "code",
      "metadata": {
        "colab": {
          "base_uri": "https://localhost:8080/"
        },
        "id": "z6ukbTeWwbaa",
        "outputId": "11b27756-d954-494a-a307-6748fb08f7c5"
      },
      "source": [
        "from sklearn.neighbors import KNeighborsClassifier\n",
        "knn = KNeighborsClassifier(n_neighbors = 2)\n",
        "knn.fit(X_std_train, y_train)\n",
        "knn_pred = knn.predict(X_std_test)\n",
        "\n",
        "knn_score= accuracy_score(y_test, knn_pred) * 100\n",
        "print('Accuracy using Knn Tree: ', round(knn_score,4),'%')"
      ],
      "execution_count": null,
      "outputs": [
        {
          "output_type": "stream",
          "text": [
            "Accuracy using Knn Tree:  17.9775 %\n"
          ],
          "name": "stdout"
        }
      ]
    },
    {
      "cell_type": "code",
      "metadata": {
        "colab": {
          "base_uri": "https://localhost:8080/"
        },
        "id": "es-1RAr6LWIS",
        "outputId": "5144613d-9c38-4259-f785-51fbb38bf416"
      },
      "source": [
        "print(classification_report(y_test,knn_pred))"
      ],
      "execution_count": null,
      "outputs": [
        {
          "output_type": "stream",
          "text": [
            "              precision    recall  f1-score   support\n",
            "\n",
            "           1       0.18      0.37      0.24        19\n",
            "           2       0.20      0.33      0.25        12\n",
            "           3       0.12      0.09      0.10        22\n",
            "           4       0.20      0.10      0.13        21\n",
            "           5       0.33      0.07      0.11        15\n",
            "\n",
            "    accuracy                           0.18        89\n",
            "   macro avg       0.21      0.19      0.17        89\n",
            "weighted avg       0.20      0.18      0.16        89\n",
            "\n"
          ],
          "name": "stdout"
        }
      ]
    },
    {
      "cell_type": "markdown",
      "metadata": {
        "id": "jrP-6gjNPWNT"
      },
      "source": [
        "#method1"
      ]
    },
    {
      "cell_type": "code",
      "metadata": {
        "colab": {
          "base_uri": "https://localhost:8080/",
          "height": 298
        },
        "id": "Ll18CCasxGPs",
        "outputId": "3cf8da56-528a-47b4-c644-3465da8489be"
      },
      "source": [
        "# hyerparameter tuning\n",
        "training_accuracy = []\n",
        "test_accuracy = []\n",
        "\n",
        "neighbors_range= range(1, 30) #try n_neighbors from 1 to 30\n",
        "for n_neighbors in neighbors_range:\n",
        "  clf = KNeighborsClassifier(n_neighbors=n_neighbors)\n",
        "  clf.fit(X_std_train,y_train)\n",
        "  training_accuracy.append( clf.score(X_std_train,y_train) )\n",
        "  test_accuracy.append( clf.score(X_std_test,y_test) )\n",
        "\n",
        "\n",
        "plt.plot(neighbors_range, training_accuracy, label='training accuracy')\n",
        "plt.plot(neighbors_range, test_accuracy, label='test accuracy')\n",
        "plt.ylabel('Accuracy')\n",
        "plt.xlabel('n_neighbors')\n",
        "plt.legend()"
      ],
      "execution_count": null,
      "outputs": [
        {
          "output_type": "execute_result",
          "data": {
            "text/plain": [
              "<matplotlib.legend.Legend at 0x7f9ed2a42f90>"
            ]
          },
          "metadata": {
            "tags": []
          },
          "execution_count": 170
        },
        {
          "output_type": "display_data",
          "data": {
            "image/png": "[encoded data removed]",
            "text/plain": [
              "<Figure size 432x288 with 1 Axes>"
            ]
          },
          "metadata": {
            "tags": []
          }
        }
      ]
    },
    {
      "cell_type": "markdown",
      "metadata": {
        "id": "91dmIIzJxja6"
      },
      "source": [
        "#Random Forest"
      ]
    },
    {
      "cell_type": "code",
      "metadata": {
        "colab": {
          "base_uri": "https://localhost:8080/"
        },
        "id": "v9F0A-ARxkC0",
        "outputId": "3082e3fe-bf63-402f-ef61-fe0e2167f43f"
      },
      "source": [
        "from sklearn.ensemble import RandomForestClassifier\n",
        "rf = RandomForestClassifier()\n",
        "rf.fit(X_std_train, y_train)\n",
        "rf_pred=rf.predict(X_std_test)\n",
        "\n",
        "rf_conf_matrix = confusion_matrix(y_test, rf_pred)\n",
        "rf_score=accuracy_score(y_test, rf_pred)\n",
        "print('Accuracy using Random Forest:', round(rf_score*100, 4),'%')"
      ],
      "execution_count": null,
      "outputs": [
        {
          "output_type": "stream",
          "text": [
            "Accuracy using Random Forest: 14.6067 %\n"
          ],
          "name": "stdout"
        }
      ]
    },
    {
      "cell_type": "code",
      "metadata": {
        "colab": {
          "base_uri": "https://localhost:8080/",
          "height": 297
        },
        "id": "y4XAW389Yj58",
        "outputId": "8393231e-3e00-43c7-9d00-82b41a197b05"
      },
      "source": [
        "mat=confusion_matrix(y_test,rf_pred)\n",
        "cm_rf= pd.DataFrame(mat,\n",
        "                     index = ['1','2','3','4','5'], \n",
        "                     columns = ['1','2','3','4','5'])\n",
        "ax=sns.heatmap(cm_rf, square=True, annot=True, fmt='d', cbar=False)\n",
        "ax.set_ylim([5, 0])\n",
        "plt.xlabel('Predicted Level')\n",
        "plt.ylabel('True Level')"
      ],
      "execution_count": null,
      "outputs": [
        {
          "output_type": "execute_result",
          "data": {
            "text/plain": [
              "Text(66.00000000000003, 0.5, 'True Level')"
            ]
          },
          "metadata": {
            "tags": []
          },
          "execution_count": 238
        },
        {
          "output_type": "display_data",
          "data": {
            "image/png": "[encoded data removed]",
            "text/plain": [
              "<Figure size 432x288 with 1 Axes>"
            ]
          },
          "metadata": {
            "tags": []
          }
        }
      ]
    },
    {
      "cell_type": "code",
      "metadata": {
        "colab": {
          "base_uri": "https://localhost:8080/"
        },
        "id": "E7Kpcw5XYpdm",
        "outputId": "0ec3384d-dab5-4ecc-b290-3a75085d70c0"
      },
      "source": [
        "from sklearn.model_selection import GridSearchCV\n",
        "\n",
        "RF=RandomForestClassifier(random_state=123)\n",
        "param_grid=[{'n_estimators': range(15,40,1)}]\n",
        "#param_grid=[{'n_estimators':[4,5,10,20,25,30,35,40,50]}]\n",
        "grid_search_RF=GridSearchCV(RF,param_grid,cv=5)\n",
        "grid_search_RF.fit(X_std_train,y_train)\n",
        "grid_search_RF.best_params_\n",
        "curves_RF=grid_search_RF.cv_results_\n",
        "\n",
        "for mean_score,params in zip(curves_RF['mean_test_score'],curves_RF['params']):\n",
        "    print(mean_score,params) #max n=33"
      ],
      "execution_count": null,
      "outputs": [
        {
          "output_type": "stream",
          "text": [
            "0.24405506883604505 {'n_estimators': 15}\n",
            "0.2553191489361702 {'n_estimators': 16}\n",
            "0.2553191489361702 {'n_estimators': 17}\n",
            "0.2528160200250313 {'n_estimators': 18}\n",
            "0.2503128911138924 {'n_estimators': 19}\n",
            "0.2528160200250313 {'n_estimators': 20}\n",
            "0.246558197747184 {'n_estimators': 21}\n",
            "0.24780976220275344 {'n_estimators': 22}\n",
            "0.2565707133917397 {'n_estimators': 23}\n",
            "0.25156445556946183 {'n_estimators': 24}\n",
            "0.2453066332916145 {'n_estimators': 25}\n",
            "0.2390488110137672 {'n_estimators': 26}\n",
            "0.2428035043804756 {'n_estimators': 27}\n",
            "0.25406758448060074 {'n_estimators': 28}\n",
            "0.24780976220275344 {'n_estimators': 29}\n",
            "0.2490613266583229 {'n_estimators': 30}\n",
            "0.2503128911138924 {'n_estimators': 31}\n",
            "0.2490613266583229 {'n_estimators': 32}\n",
            "0.2490613266583229 {'n_estimators': 33}\n",
            "0.2453066332916145 {'n_estimators': 34}\n",
            "0.2453066332916145 {'n_estimators': 35}\n",
            "0.24030037546933666 {'n_estimators': 36}\n",
            "0.24155193992490614 {'n_estimators': 37}\n",
            "0.24405506883604505 {'n_estimators': 38}\n",
            "0.2490613266583229 {'n_estimators': 39}\n"
          ],
          "name": "stdout"
        }
      ]
    },
    {
      "cell_type": "markdown",
      "metadata": {
        "id": "bcL3r960Pk-L"
      },
      "source": [
        ""
      ]
    },
    {
      "cell_type": "code",
      "metadata": {
        "colab": {
          "base_uri": "https://localhost:8080/"
        },
        "id": "VsjVkL95xdW5",
        "outputId": "aaf85367-6de9-411f-d70a-e3a4ed3ff979"
      },
      "source": [
        "#AdaBoostClassifier and GradientBoostingClassifier\n",
        "from sklearn.ensemble import AdaBoostClassifier\n",
        "ada = AdaBoostClassifier(n_estimators=100)\n",
        "ada.fit(X_std_train, y_train)\n",
        "ada_pred = ada.predict(X_std_test)\n",
        "\n",
        "score = accuracy_score(y_test, ada_pred) * 100\n",
        "print(\"Accuracy using ada: \", round(score, 1), \"%\")\n",
        "\n",
        "from sklearn.ensemble import GradientBoostingClassifier\n",
        "gbc = GradientBoostingClassifier(n_estimators=100, learning_rate=.1, max_depth=1, random_state=0)\n",
        "gbc.fit(X_std_train, y_train)\n",
        "predicted = gbc.predict(X_std_test)\n",
        "score = accuracy_score(y_test, predicted)*100\n",
        "print(\"Accuracy using Gbc: \", round(score, 1), \"%\")"
      ],
      "execution_count": null,
      "outputs": [
        {
          "output_type": "stream",
          "text": [
            "Accuracy using ada:  18.0 %\n",
            "Accuracy using Gbc:  19.1 %\n"
          ],
          "name": "stdout"
        }
      ]
    },
    {
      "cell_type": "code",
      "metadata": {
        "id": "ApQe-XVns271",
        "outputId": "41a14015-c59f-446c-9939-b488f7eae71d"
      },
      "source": [
        "#XGBoosts\n",
        "from xgboost import XGBClassifier\n",
        "from xgboost import plot_importance\n",
        "clf  =  XGBClassifier(\n",
        "        eval_metric = 'accuracy',\n",
        "        learning_rate = 0.1,\n",
        "        n_estimators = 100,\n",
        "        max_depth = 3,\n",
        "        subsample = 0.9,\n",
        "        colsample_bytree = 0.9,\n",
        "        silent = False )\n",
        "#importance = clf.feature_importances_\n",
        "\n",
        "xgb_bst= clf.fit(X_std_train,y_train,eval_set = [(X_std_test,y_test)],eval_metric = \"mlogloss\",early_stopping_rounds = 10,verbose = True)\n",
        "xgb_pred = xgb_bst.predict(X_std_test)\n",
        "xgb_score = accuracy_score(y_test,xgb_pred)*100\n",
        "\n",
        "print(\"Accuracy using XGB: \", round(xgb_score, 1), \"%\")"
      ],
      "execution_count": null,
      "outputs": [
        {
          "output_type": "stream",
          "text": [
            "[14:32:19] WARNING: /Users/travis/build/dmlc/xgboost/src/learner.cc:480: \n",
            "Parameters: { silent } might not be used.\n",
            "\n",
            "  This may not be accurate due to some parameters are only used in language bindings but\n",
            "  passed down to XGBoost core.  Or some parameters are not used but slip through this\n",
            "  verification. Please open an issue if you find above cases.\n",
            "\n",
            "\n",
            "[0]\tvalidation_0-mlogloss:1.60681\n",
            "Will train until validation_0-mlogloss hasn't improved in 10 rounds.\n",
            "[1]\tvalidation_0-mlogloss:1.60675\n",
            "[2]\tvalidation_0-mlogloss:1.60591\n",
            "[3]\tvalidation_0-mlogloss:1.60410\n",
            "[4]\tvalidation_0-mlogloss:1.60508\n",
            "[5]\tvalidation_0-mlogloss:1.60301\n",
            "[6]\tvalidation_0-mlogloss:1.60582\n",
            "[7]\tvalidation_0-mlogloss:1.60389\n",
            "[8]\tvalidation_0-mlogloss:1.60377\n",
            "[9]\tvalidation_0-mlogloss:1.60787\n",
            "[10]\tvalidation_0-mlogloss:1.60861\n",
            "[11]\tvalidation_0-mlogloss:1.61596\n",
            "[12]\tvalidation_0-mlogloss:1.61594\n",
            "[13]\tvalidation_0-mlogloss:1.61973\n",
            "[14]\tvalidation_0-mlogloss:1.62558\n",
            "[15]\tvalidation_0-mlogloss:1.62570\n",
            "Stopping. Best iteration:\n",
            "[5]\tvalidation_0-mlogloss:1.60301\n",
            "\n",
            "Accuracy using XGB:  24.7 %\n"
          ],
          "name": "stdout"
        }
      ]
    },
    {
      "cell_type": "code",
      "metadata": {
        "id": "qC2U4gEcs271",
        "outputId": "850d1219-bc3f-4a05-b11e-429732a20532"
      },
      "source": [
        "proba = lr.predict_proba(X_std_test)[:,1]\n",
        "proba"
      ],
      "execution_count": null,
      "outputs": [
        {
          "output_type": "execute_result",
          "data": {
            "text/plain": [
              "array([0.19866697, 0.18998559, 0.20297549, 0.23468281, 0.22822653,\n",
              "       0.23026786, 0.21182446, 0.19903037, 0.21541976, 0.21359783,\n",
              "       0.23838938, 0.14609763, 0.20423881, 0.20417651, 0.23659556,\n",
              "       0.21721413, 0.18267629, 0.19216631, 0.21545006, 0.20185229,\n",
              "       0.17340529, 0.20408033, 0.22594547, 0.21577904, 0.19978804,\n",
              "       0.2531084 , 0.20911159, 0.17784842, 0.26412374, 0.22097044,\n",
              "       0.1838439 , 0.23389302, 0.17752497, 0.26098527, 0.15802237,\n",
              "       0.21023047, 0.18755329, 0.23567149, 0.17742127, 0.24643003,\n",
              "       0.23457621, 0.20745002, 0.18699109, 0.21745652, 0.18134862,\n",
              "       0.18719405, 0.21514423, 0.22094764, 0.18427871, 0.2472515 ,\n",
              "       0.24873482, 0.21689024, 0.23117449, 0.24217998, 0.22235061,\n",
              "       0.19170198, 0.16997457, 0.19010436, 0.22038825, 0.20070057,\n",
              "       0.23599692, 0.18369926, 0.17303071, 0.1959087 , 0.1867506 ,\n",
              "       0.23687243, 0.17345949, 0.14820131, 0.24471429, 0.20195958,\n",
              "       0.19569322, 0.18485398, 0.22129999, 0.16432965, 0.21606581,\n",
              "       0.16206746, 0.20463628, 0.21419537, 0.2113741 , 0.19952448,\n",
              "       0.28139079, 0.17628862, 0.22519854, 0.28604452, 0.18036462,\n",
              "       0.20643009, 0.19963567, 0.24603504, 0.22888043])"
            ]
          },
          "metadata": {
            "tags": []
          },
          "execution_count": 199
        }
      ]
    },
    {
      "cell_type": "markdown",
      "metadata": {
        "id": "qvgfHmySs271"
      },
      "source": [
        "#6.visulization"
      ]
    },
    {
      "cell_type": "code",
      "metadata": {
        "id": "5ehnfb8gs271"
      },
      "source": [
        "from sklearn.manifold import TSNE\n",
        "df_tsne= TSNE(perplexity=10).fit_transform(scaled_data)"
      ],
      "execution_count": null,
      "outputs": []
    },
    {
      "cell_type": "code",
      "metadata": {
        "id": "ZbZ77paIs272",
        "outputId": "5c05a2b9-7186-42d7-c435-96fb5296b912"
      },
      "source": [
        "#method1\n",
        "from sklearn.neighbors import NearestNeighbors\n",
        "df_clustering = scaler.fit_transform(df[features])\n",
        "nbrs = NearestNeighbors(n_neighbors=5, algorithm='ball_tree').fit(df_clustering)\n",
        "\n",
        "distances, indices = nbrs.kneighbors(df_clustering)\n",
        "\n",
        "distances2 = [] \n",
        "for d in distances:\n",
        "    distances2.extend(d[1:])\n",
        "distances2 = np.array(sorted(distances2))\n",
        "print(\"mean\", np.mean(distances2)) \n",
        "print(\"std\", np.std(distances2))"
      ],
      "execution_count": null,
      "outputs": [
        {
          "output_type": "stream",
          "text": [
            "mean 1.5491908236874172\n",
            "std 0.9367404013407062\n"
          ],
          "name": "stdout"
        }
      ]
    },
    {
      "cell_type": "code",
      "metadata": {
        "id": "7h0ZQktVs272",
        "outputId": "673fecbb-206d-422b-d6d7-299bc59aa85c"
      },
      "source": [
        "from sklearn.manifold import TSNE\n",
        "df_tsne= TSNE(n_components=2,).fit_transform(X_std_test)\n",
        "\n",
        "res1 = pd.DataFrame(data=df_tsne,columns=['tsne_x', 'tsne_y'])\n",
        "res1['levels']=y_test.values\n",
        "\n",
        "res1"
      ],
      "execution_count": null,
      "outputs": [
        {
          "output_type": "execute_result",
          "data": {
            "text/html": [
              "<div>\n",
              "<style scoped>\n",
              "    .dataframe tbody tr th:only-of-type {\n",
              "        vertical-align: middle;\n",
              "    }\n",
              "\n",
              "    .dataframe tbody tr th {\n",
              "        vertical-align: top;\n",
              "    }\n",
              "\n",
              "    .dataframe thead th {\n",
              "        text-align: right;\n",
              "    }\n",
              "</style>\n",
              "<table border=\"1\" class=\"dataframe\">\n",
              "  <thead>\n",
              "    <tr style=\"text-align: right;\">\n",
              "      <th></th>\n",
              "      <th>tsne_x</th>\n",
              "      <th>tsne_y</th>\n",
              "      <th>levels</th>\n",
              "    </tr>\n",
              "  </thead>\n",
              "  <tbody>\n",
              "    <tr>\n",
              "      <td>0</td>\n",
              "      <td>-1.455886</td>\n",
              "      <td>3.445892</td>\n",
              "      <td>1</td>\n",
              "    </tr>\n",
              "    <tr>\n",
              "      <td>1</td>\n",
              "      <td>0.976400</td>\n",
              "      <td>2.932863</td>\n",
              "      <td>1</td>\n",
              "    </tr>\n",
              "    <tr>\n",
              "      <td>2</td>\n",
              "      <td>4.346106</td>\n",
              "      <td>2.064353</td>\n",
              "      <td>4</td>\n",
              "    </tr>\n",
              "    <tr>\n",
              "      <td>3</td>\n",
              "      <td>-0.546265</td>\n",
              "      <td>-0.461051</td>\n",
              "      <td>3</td>\n",
              "    </tr>\n",
              "    <tr>\n",
              "      <td>4</td>\n",
              "      <td>3.261198</td>\n",
              "      <td>0.545312</td>\n",
              "      <td>5</td>\n",
              "    </tr>\n",
              "    <tr>\n",
              "      <td>...</td>\n",
              "      <td>...</td>\n",
              "      <td>...</td>\n",
              "      <td>...</td>\n",
              "    </tr>\n",
              "    <tr>\n",
              "      <td>84</td>\n",
              "      <td>0.621784</td>\n",
              "      <td>4.158831</td>\n",
              "      <td>3</td>\n",
              "    </tr>\n",
              "    <tr>\n",
              "      <td>85</td>\n",
              "      <td>1.865853</td>\n",
              "      <td>5.927262</td>\n",
              "      <td>1</td>\n",
              "    </tr>\n",
              "    <tr>\n",
              "      <td>86</td>\n",
              "      <td>3.399184</td>\n",
              "      <td>5.546468</td>\n",
              "      <td>1</td>\n",
              "    </tr>\n",
              "    <tr>\n",
              "      <td>87</td>\n",
              "      <td>6.424542</td>\n",
              "      <td>0.677472</td>\n",
              "      <td>2</td>\n",
              "    </tr>\n",
              "    <tr>\n",
              "      <td>88</td>\n",
              "      <td>-0.076167</td>\n",
              "      <td>1.130204</td>\n",
              "      <td>2</td>\n",
              "    </tr>\n",
              "  </tbody>\n",
              "</table>\n",
              "<p>89 rows × 3 columns</p>\n",
              "</div>"
            ],
            "text/plain": [
              "      tsne_x    tsne_y  levels\n",
              "0  -1.455886  3.445892       1\n",
              "1   0.976400  2.932863       1\n",
              "2   4.346106  2.064353       4\n",
              "3  -0.546265 -0.461051       3\n",
              "4   3.261198  0.545312       5\n",
              "..       ...       ...     ...\n",
              "84  0.621784  4.158831       3\n",
              "85  1.865853  5.927262       1\n",
              "86  3.399184  5.546468       1\n",
              "87  6.424542  0.677472       2\n",
              "88 -0.076167  1.130204       2\n",
              "\n",
              "[89 rows x 3 columns]"
            ]
          },
          "metadata": {
            "tags": []
          },
          "execution_count": 171
        }
      ]
    },
    {
      "cell_type": "code",
      "metadata": {
        "id": "AF8DC_kgs272",
        "outputId": "c10c9cf0-b973-4021-82dd-ce5176196ec7"
      },
      "source": [
        "from sklearn import manifold,datasets\n",
        "\n",
        "import matplotlib as mpl \n",
        "\n",
        "tsne = manifold.TSNE(n_components=2, random_state=500).fit_transform(X_std_test)\n",
        "\n",
        "colors = ['white', 'blue', 'cyan', 'Lime','yellow'] \n",
        "cmap = mpl.colors.ListedColormap(colors)\n",
        "\n",
        "plt.scatter(tsne[:, 0],tsne[:, 1], c=y_test,cmap=cmap)\n",
        "plt.colorbar()\n",
        "plt.show() "
      ],
      "execution_count": null,
      "outputs": [
        {
          "output_type": "display_data",
          "data": {
            "image/png": "[encoded data removed]",
            "text/plain": [
              "<Figure size 432x288 with 2 Axes>"
            ]
          },
          "metadata": {
            "tags": []
          }
        }
      ]
    }
  ]
}